{
 "cells": [
  {
   "cell_type": "markdown",
   "id": "a2a51166",
   "metadata": {},
   "source": [
    "# Tweets sobre finanças"
   ]
  },
  {
   "cell_type": "code",
   "execution_count": 3,
   "id": "5509da72",
   "metadata": {},
   "outputs": [],
   "source": [
    "import tweepy as tw\n",
    "import pandas as pd\n",
    "import time\n",
    "import numpy as np"
   ]
  },
  {
   "cell_type": "markdown",
   "id": "fbca6091",
   "metadata": {},
   "source": [
    "### Obtendo tweets"
   ]
  },
  {
   "cell_type": "code",
   "execution_count": 2,
   "id": "e855487a",
   "metadata": {},
   "outputs": [],
   "source": [
    "api_key = \"N1FvVcQ2HpggbWgtfN6Zhm60c\"\n",
    "api_key_sec = \"B41wy607pGA3PLb5JckconuBw2DB1PqEDxVZIDdCsAK8gHcd2f\"\n",
    "access_token = \"1314217786919526400-laaXu0L3b8LUEXA9MD4IZq1TLtVcrC\"\n",
    "access_token_sec = \"SPAHQJ2P1zi1NeYAUOGi1ObpFS22fRsjQuj4ASu8bU7Fd\""
   ]
  },
  {
   "cell_type": "code",
   "execution_count": 3,
   "id": "b943ce2c",
   "metadata": {},
   "outputs": [],
   "source": [
    "auth = tw.OAuthHandler(api_key, api_key_sec)\n",
    "auth.set_access_token(access_token, access_token_sec)\n",
    "\n",
    "api = tw.API(auth, wait_on_rate_limit=True) "
   ]
  },
  {
   "cell_type": "markdown",
   "id": "b0d9b4ce",
   "metadata": {},
   "source": [
    "Função para coletar tweets:"
   ]
  },
  {
   "cell_type": "code",
   "execution_count": 4,
   "id": "928be919",
   "metadata": {},
   "outputs": [],
   "source": [
    "def coletar_tweets(conta):\n",
    "    \n",
    "    \"\"\"\n",
    "    Coleta aproximadamente os 3200 últimos tweets de uma conta.\n",
    "    \n",
    "    Parâmetros\n",
    "    ----------\n",
    "    conta: str\n",
    "    Uma string com o nome da conta\n",
    "\n",
    "    Retorna\n",
    "    -------\n",
    "    Um data frame com o texto e data dos tweets.\n",
    "    \"\"\"\n",
    "    \n",
    "    results=[]\n",
    "    timeline = tw.Cursor(api.user_timeline, screen_name=conta, tweet_mode=\"extended\").items()\n",
    "        \n",
    "    for status in timeline:\n",
    "            data = (\n",
    "            status.user.id,\n",
    "            status.user.screen_name,\n",
    "            status.user.name,\n",
    "            status.full_text,\n",
    "            status.created_at,\n",
    "            status.lang)\n",
    "            results.append(data)\n",
    "\n",
    "        \n",
    "    cols = \"user_id screen_name name text date lang\".split()\n",
    "    df = pd.DataFrame(results, columns=cols)\n",
    "    \n",
    "    return df"
   ]
  },
  {
   "cell_type": "code",
   "execution_count": 5,
   "id": "cb67c1b2",
   "metadata": {},
   "outputs": [],
   "source": [
    "infomoney = coletar_tweets(\"@infomoney\")"
   ]
  },
  {
   "cell_type": "code",
   "execution_count": 6,
   "id": "3f615108",
   "metadata": {},
   "outputs": [],
   "source": [
    "exame = coletar_tweets(\"@exame\")"
   ]
  },
  {
   "cell_type": "code",
   "execution_count": 7,
   "id": "4ad21295",
   "metadata": {},
   "outputs": [],
   "source": [
    "braziljournal = coletar_tweets(\"@BrazilJournal\")"
   ]
  },
  {
   "cell_type": "code",
   "execution_count": 8,
   "id": "f0544c90",
   "metadata": {},
   "outputs": [],
   "source": [
    "tiagoreis = coletar_tweets(\"@Tiagogreis\")"
   ]
  },
  {
   "cell_type": "code",
   "execution_count": 10,
   "id": "c1a5cd18",
   "metadata": {},
   "outputs": [],
   "source": [
    "bussola = coletar_tweets(\"@bussoladoinves\")"
   ]
  },
  {
   "cell_type": "code",
   "execution_count": 11,
   "id": "03dbb24a",
   "metadata": {},
   "outputs": [],
   "source": [
    "terracoecon = coletar_tweets(\"@terracoecon\")"
   ]
  },
  {
   "cell_type": "code",
   "execution_count": 12,
   "id": "956b6385",
   "metadata": {},
   "outputs": [],
   "source": [
    "traderbolsa = coletar_tweets(\"@TraderBolsa\")"
   ]
  },
  {
   "cell_type": "code",
   "execution_count": 13,
   "id": "4d35b4a1",
   "metadata": {},
   "outputs": [],
   "source": [
    "valor = coletar_tweets(\"@valoreconomico\")"
   ]
  },
  {
   "cell_type": "code",
   "execution_count": 14,
   "id": "0a5c63bf",
   "metadata": {},
   "outputs": [],
   "source": [
    "data_join = pd.concat([infomoney, valor, exame, braziljournal, tiagoreis, bussola, terracoecon, traderbolsa])"
   ]
  },
  {
   "cell_type": "code",
   "execution_count": 15,
   "id": "316be041",
   "metadata": {},
   "outputs": [],
   "source": [
    "data_join.index = data_join[\"date\"]\n",
    "data_join.index = pd.to_datetime(data_join.index)\n",
    "data_join.index.name = \"date\"\n",
    "data_join.drop([\"date\"], inplace = True, axis = 1)"
   ]
  },
  {
   "cell_type": "code",
   "execution_count": 16,
   "id": "6863a8c3",
   "metadata": {},
   "outputs": [],
   "source": [
    "data_join.sort_index(ascending=False, inplace = True)"
   ]
  },
  {
   "cell_type": "code",
   "execution_count": 20,
   "id": "a6c98380",
   "metadata": {},
   "outputs": [
    {
     "data": {
      "text/plain": [
       "(25958, 5)"
      ]
     },
     "execution_count": 20,
     "metadata": {},
     "output_type": "execute_result"
    }
   ],
   "source": [
    "data_join.shape"
   ]
  },
  {
   "cell_type": "code",
   "execution_count": 18,
   "id": "d8ef90de",
   "metadata": {},
   "outputs": [],
   "source": [
    "tweets = data_join.tz_convert('Brazil/East')"
   ]
  },
  {
   "cell_type": "code",
   "execution_count": 19,
   "id": "1bc3573d",
   "metadata": {},
   "outputs": [],
   "source": [
    "tweets.to_csv(\"data/tweets_junho.csv\")"
   ]
  },
  {
   "cell_type": "markdown",
   "id": "0656890f",
   "metadata": {},
   "source": [
    "### Juntando dois conjuntos de dados "
   ]
  },
  {
   "cell_type": "code",
   "execution_count": 4,
   "id": "6174e0a6",
   "metadata": {},
   "outputs": [],
   "source": [
    "tweets_maio = pd.read_csv(\"data/tweets.csv\", parse_dates=True)         # Aproximadamente de fevereiro a maio"
   ]
  },
  {
   "cell_type": "code",
   "execution_count": 5,
   "id": "23f16c71",
   "metadata": {},
   "outputs": [],
   "source": [
    "tweets_junho = pd.read_csv(\"data/tweets_junho.csv\", parse_dates=True)  # De maio a junho"
   ]
  },
  {
   "cell_type": "code",
   "execution_count": 6,
   "id": "4867058b",
   "metadata": {},
   "outputs": [],
   "source": [
    "tweets_maio.index = tweets_maio[\"date\"]\n",
    "tweets_maio.index = pd.to_datetime(tweets_maio.index)\n",
    "tweets_maio.index.name = \"date\"\n",
    "tweets_maio.drop([\"date\"], inplace = True, axis = 1)"
   ]
  },
  {
   "cell_type": "code",
   "execution_count": 7,
   "id": "f93713b9",
   "metadata": {},
   "outputs": [],
   "source": [
    "tweets_junho.index = tweets_junho[\"date\"]\n",
    "tweets_junho.index = pd.to_datetime(tweets_junho.index)\n",
    "tweets_junho.index.name = \"date\"\n",
    "tweets_junho.drop([\"date\"], inplace = True, axis = 1)"
   ]
  },
  {
   "cell_type": "code",
   "execution_count": 9,
   "id": "3f2ce6a2",
   "metadata": {},
   "outputs": [],
   "source": [
    "novos = tweets_junho.loc[tweets_junho.index > pd.to_datetime(\"2022-05-05 14:00:00-03:00\")]"
   ]
  },
  {
   "cell_type": "code",
   "execution_count": 10,
   "id": "14cd1643",
   "metadata": {},
   "outputs": [
    {
     "data": {
      "text/plain": [
       "(7900, 5)"
      ]
     },
     "execution_count": 10,
     "metadata": {},
     "output_type": "execute_result"
    }
   ],
   "source": [
    "novos.shape"
   ]
  },
  {
   "cell_type": "code",
   "execution_count": 11,
   "id": "e9f1a8ef",
   "metadata": {},
   "outputs": [],
   "source": [
    "tweets_completo = pd.concat([tweets_maio, novos])"
   ]
  },
  {
   "cell_type": "code",
   "execution_count": 12,
   "id": "24aa77e0",
   "metadata": {},
   "outputs": [
    {
     "data": {
      "text/plain": [
       "(33855, 5)"
      ]
     },
     "execution_count": 12,
     "metadata": {},
     "output_type": "execute_result"
    }
   ],
   "source": [
    "tweets_completo.shape"
   ]
  },
  {
   "cell_type": "code",
   "execution_count": 13,
   "id": "dcce6283",
   "metadata": {},
   "outputs": [
    {
     "data": {
      "text/plain": [
       "33855"
      ]
     },
     "execution_count": 13,
     "metadata": {},
     "output_type": "execute_result"
    }
   ],
   "source": [
    "25955+7900"
   ]
  },
  {
   "cell_type": "code",
   "execution_count": 14,
   "id": "ffe927fe",
   "metadata": {},
   "outputs": [],
   "source": [
    "tweets_completo.sort_index(ascending=False, inplace = True)"
   ]
  },
  {
   "cell_type": "code",
   "execution_count": 15,
   "id": "3a80a300",
   "metadata": {},
   "outputs": [],
   "source": [
    "tweets_2022 = tweets_junho.loc[tweets_junho.index > pd.to_datetime(\"2022-02-01 00:00:00-03:00\")]"
   ]
  },
  {
   "cell_type": "code",
   "execution_count": 16,
   "id": "9b470523",
   "metadata": {},
   "outputs": [
    {
     "data": {
      "text/plain": [
       "(15278, 5)"
      ]
     },
     "execution_count": 16,
     "metadata": {},
     "output_type": "execute_result"
    }
   ],
   "source": [
    "tweets_2022.shape"
   ]
  },
  {
   "cell_type": "code",
   "execution_count": 18,
   "id": "e889229e",
   "metadata": {},
   "outputs": [
    {
     "name": "stderr",
     "output_type": "stream",
     "text": [
      "<ipython-input-18-22f337a8ac1d>:1: SettingWithCopyWarning: \n",
      "A value is trying to be set on a copy of a slice from a DataFrame.\n",
      "Try using .loc[row_indexer,col_indexer] = value instead\n",
      "\n",
      "See the caveats in the documentation: https://pandas.pydata.org/pandas-docs/stable/user_guide/indexing.html#returning-a-view-versus-a-copy\n",
      "  tweets_2022[\"datahora\"] = tweets_2022.index\n"
     ]
    }
   ],
   "source": [
    "tweets_2022[\"datahora\"] = tweets_2022.index"
   ]
  },
  {
   "cell_type": "code",
   "execution_count": 19,
   "id": "e9f97c81",
   "metadata": {},
   "outputs": [
    {
     "name": "stderr",
     "output_type": "stream",
     "text": [
      "<ipython-input-19-6c1c73f94757>:1: SettingWithCopyWarning: \n",
      "A value is trying to be set on a copy of a slice from a DataFrame.\n",
      "Try using .loc[row_indexer,col_indexer] = value instead\n",
      "\n",
      "See the caveats in the documentation: https://pandas.pydata.org/pandas-docs/stable/user_guide/indexing.html#returning-a-view-versus-a-copy\n",
      "  tweets_2022[\"data\"] = tweets_2022.datahora.dt.date\n",
      "<ipython-input-19-6c1c73f94757>:2: SettingWithCopyWarning: \n",
      "A value is trying to be set on a copy of a slice from a DataFrame.\n",
      "Try using .loc[row_indexer,col_indexer] = value instead\n",
      "\n",
      "See the caveats in the documentation: https://pandas.pydata.org/pandas-docs/stable/user_guide/indexing.html#returning-a-view-versus-a-copy\n",
      "  tweets_2022[\"hora\"] = tweets_2022.datahora.dt.hour\n"
     ]
    }
   ],
   "source": [
    "tweets_2022[\"data\"] = tweets_2022.datahora.dt.date\n",
    "tweets_2022[\"hora\"] = tweets_2022.datahora.dt.hour"
   ]
  },
  {
   "cell_type": "code",
   "execution_count": 20,
   "id": "07b48643",
   "metadata": {},
   "outputs": [
    {
     "data": {
      "text/html": [
       "<div>\n",
       "<style scoped>\n",
       "    .dataframe tbody tr th:only-of-type {\n",
       "        vertical-align: middle;\n",
       "    }\n",
       "\n",
       "    .dataframe tbody tr th {\n",
       "        vertical-align: top;\n",
       "    }\n",
       "\n",
       "    .dataframe thead th {\n",
       "        text-align: right;\n",
       "    }\n",
       "</style>\n",
       "<table border=\"1\" class=\"dataframe\">\n",
       "  <thead>\n",
       "    <tr style=\"text-align: right;\">\n",
       "      <th></th>\n",
       "      <th>user_id</th>\n",
       "      <th>screen_name</th>\n",
       "      <th>name</th>\n",
       "      <th>text</th>\n",
       "      <th>lang</th>\n",
       "      <th>datahora</th>\n",
       "      <th>data</th>\n",
       "      <th>hora</th>\n",
       "    </tr>\n",
       "    <tr>\n",
       "      <th>date</th>\n",
       "      <th></th>\n",
       "      <th></th>\n",
       "      <th></th>\n",
       "      <th></th>\n",
       "      <th></th>\n",
       "      <th></th>\n",
       "      <th></th>\n",
       "      <th></th>\n",
       "    </tr>\n",
       "  </thead>\n",
       "  <tbody>\n",
       "    <tr>\n",
       "      <th>2022-02-01 09:49:59-03:00</th>\n",
       "      <td>2424278232</td>\n",
       "      <td>BrazilJournal</td>\n",
       "      <td>Brazil Journal</td>\n",
       "      <td>EDITORIAL: Justiça para Moïse https://t.co/L7A...</td>\n",
       "      <td>fr</td>\n",
       "      <td>2022-02-01 09:49:59-03:00</td>\n",
       "      <td>2022-02-01</td>\n",
       "      <td>9</td>\n",
       "    </tr>\n",
       "    <tr>\n",
       "      <th>2022-02-01 09:25:01-03:00</th>\n",
       "      <td>70575051</td>\n",
       "      <td>bussoladoinves</td>\n",
       "      <td>Bússola do Investidor</td>\n",
       "      <td>Olá investidores! \\nConfiram as empresas que d...</td>\n",
       "      <td>pt</td>\n",
       "      <td>2022-02-01 09:25:01-03:00</td>\n",
       "      <td>2022-02-01</td>\n",
       "      <td>9</td>\n",
       "    </tr>\n",
       "    <tr>\n",
       "      <th>2022-02-01 08:57:31-03:00</th>\n",
       "      <td>70575051</td>\n",
       "      <td>bussoladoinves</td>\n",
       "      <td>Bússola do Investidor</td>\n",
       "      <td>BTG Pactual compra a Elite Corretora - Finance...</td>\n",
       "      <td>it</td>\n",
       "      <td>2022-02-01 08:57:31-03:00</td>\n",
       "      <td>2022-02-01</td>\n",
       "      <td>8</td>\n",
       "    </tr>\n",
       "    <tr>\n",
       "      <th>2022-02-01 08:44:44-03:00</th>\n",
       "      <td>70575051</td>\n",
       "      <td>bussoladoinves</td>\n",
       "      <td>Bússola do Investidor</td>\n",
       "      <td>Americanas e Vibra fazem parceria e criam a Ve...</td>\n",
       "      <td>pt</td>\n",
       "      <td>2022-02-01 08:44:44-03:00</td>\n",
       "      <td>2022-02-01</td>\n",
       "      <td>8</td>\n",
       "    </tr>\n",
       "    <tr>\n",
       "      <th>2022-02-01 08:20:01-03:00</th>\n",
       "      <td>70575051</td>\n",
       "      <td>bussoladoinves</td>\n",
       "      <td>Bússola do Investidor</td>\n",
       "      <td>Mentiras que te contaram sobre #investimentos ...</td>\n",
       "      <td>pt</td>\n",
       "      <td>2022-02-01 08:20:01-03:00</td>\n",
       "      <td>2022-02-01</td>\n",
       "      <td>8</td>\n",
       "    </tr>\n",
       "  </tbody>\n",
       "</table>\n",
       "</div>"
      ],
      "text/plain": [
       "                              user_id     screen_name                   name  \\\n",
       "date                                                                           \n",
       "2022-02-01 09:49:59-03:00  2424278232   BrazilJournal         Brazil Journal   \n",
       "2022-02-01 09:25:01-03:00    70575051  bussoladoinves  Bússola do Investidor   \n",
       "2022-02-01 08:57:31-03:00    70575051  bussoladoinves  Bússola do Investidor   \n",
       "2022-02-01 08:44:44-03:00    70575051  bussoladoinves  Bússola do Investidor   \n",
       "2022-02-01 08:20:01-03:00    70575051  bussoladoinves  Bússola do Investidor   \n",
       "\n",
       "                                                                        text  \\\n",
       "date                                                                           \n",
       "2022-02-01 09:49:59-03:00  EDITORIAL: Justiça para Moïse https://t.co/L7A...   \n",
       "2022-02-01 09:25:01-03:00  Olá investidores! \\nConfiram as empresas que d...   \n",
       "2022-02-01 08:57:31-03:00  BTG Pactual compra a Elite Corretora - Finance...   \n",
       "2022-02-01 08:44:44-03:00  Americanas e Vibra fazem parceria e criam a Ve...   \n",
       "2022-02-01 08:20:01-03:00  Mentiras que te contaram sobre #investimentos ...   \n",
       "\n",
       "                          lang                  datahora        data  hora  \n",
       "date                                                                        \n",
       "2022-02-01 09:49:59-03:00   fr 2022-02-01 09:49:59-03:00  2022-02-01     9  \n",
       "2022-02-01 09:25:01-03:00   pt 2022-02-01 09:25:01-03:00  2022-02-01     9  \n",
       "2022-02-01 08:57:31-03:00   it 2022-02-01 08:57:31-03:00  2022-02-01     8  \n",
       "2022-02-01 08:44:44-03:00   pt 2022-02-01 08:44:44-03:00  2022-02-01     8  \n",
       "2022-02-01 08:20:01-03:00   pt 2022-02-01 08:20:01-03:00  2022-02-01     8  "
      ]
     },
     "execution_count": 20,
     "metadata": {},
     "output_type": "execute_result"
    }
   ],
   "source": [
    "tweets_2022.tail()"
   ]
  },
  {
   "cell_type": "markdown",
   "id": "abe72495",
   "metadata": {},
   "source": [
    "Horas entre 16:00 do dia X até 09:59 do outro dia serão consideradas como 16:00 do dia X e atuarão como preditores do preço das 10:00 (abertura do dia seguinte)"
   ]
  },
  {
   "cell_type": "code",
   "execution_count": 21,
   "id": "6549b2f7",
   "metadata": {},
   "outputs": [
    {
     "name": "stderr",
     "output_type": "stream",
     "text": [
      "<ipython-input-21-731b19b47ebc>:1: SettingWithCopyWarning: \n",
      "A value is trying to be set on a copy of a slice from a DataFrame.\n",
      "Try using .loc[row_indexer,col_indexer] = value instead\n",
      "\n",
      "See the caveats in the documentation: https://pandas.pydata.org/pandas-docs/stable/user_guide/indexing.html#returning-a-view-versus-a-copy\n",
      "  tweets_2022[\"hora_ajustada\"] =  np.where(((tweets_2022[\"hora\"]>=16)|(tweets_2022[\"hora\"]<10)), 16, tweets_2022[\"hora\"])\n"
     ]
    }
   ],
   "source": [
    "tweets_2022[\"hora_ajustada\"] =  np.where(((tweets_2022[\"hora\"]>=16)|(tweets_2022[\"hora\"]<10)), 16, tweets_2022[\"hora\"])"
   ]
  },
  {
   "cell_type": "code",
   "execution_count": 25,
   "id": "a19461bf",
   "metadata": {},
   "outputs": [
    {
     "data": {
      "text/html": [
       "<div>\n",
       "<style scoped>\n",
       "    .dataframe tbody tr th:only-of-type {\n",
       "        vertical-align: middle;\n",
       "    }\n",
       "\n",
       "    .dataframe tbody tr th {\n",
       "        vertical-align: top;\n",
       "    }\n",
       "\n",
       "    .dataframe thead th {\n",
       "        text-align: right;\n",
       "    }\n",
       "</style>\n",
       "<table border=\"1\" class=\"dataframe\">\n",
       "  <thead>\n",
       "    <tr style=\"text-align: right;\">\n",
       "      <th></th>\n",
       "      <th>user_id</th>\n",
       "      <th>screen_name</th>\n",
       "      <th>name</th>\n",
       "      <th>text</th>\n",
       "      <th>lang</th>\n",
       "      <th>datahora</th>\n",
       "      <th>data</th>\n",
       "      <th>hora</th>\n",
       "      <th>hora_ajustada</th>\n",
       "    </tr>\n",
       "    <tr>\n",
       "      <th>date</th>\n",
       "      <th></th>\n",
       "      <th></th>\n",
       "      <th></th>\n",
       "      <th></th>\n",
       "      <th></th>\n",
       "      <th></th>\n",
       "      <th></th>\n",
       "      <th></th>\n",
       "      <th></th>\n",
       "    </tr>\n",
       "  </thead>\n",
       "  <tbody>\n",
       "    <tr>\n",
       "      <th>2022-02-01 09:49:59-03:00</th>\n",
       "      <td>2424278232</td>\n",
       "      <td>BrazilJournal</td>\n",
       "      <td>Brazil Journal</td>\n",
       "      <td>EDITORIAL: Justiça para Moïse https://t.co/L7A...</td>\n",
       "      <td>fr</td>\n",
       "      <td>2022-02-01 09:49:59-03:00</td>\n",
       "      <td>2022-02-01</td>\n",
       "      <td>9</td>\n",
       "      <td>16</td>\n",
       "    </tr>\n",
       "    <tr>\n",
       "      <th>2022-02-01 09:25:01-03:00</th>\n",
       "      <td>70575051</td>\n",
       "      <td>bussoladoinves</td>\n",
       "      <td>Bússola do Investidor</td>\n",
       "      <td>Olá investidores! \\nConfiram as empresas que d...</td>\n",
       "      <td>pt</td>\n",
       "      <td>2022-02-01 09:25:01-03:00</td>\n",
       "      <td>2022-02-01</td>\n",
       "      <td>9</td>\n",
       "      <td>16</td>\n",
       "    </tr>\n",
       "    <tr>\n",
       "      <th>2022-02-01 08:57:31-03:00</th>\n",
       "      <td>70575051</td>\n",
       "      <td>bussoladoinves</td>\n",
       "      <td>Bússola do Investidor</td>\n",
       "      <td>BTG Pactual compra a Elite Corretora - Finance...</td>\n",
       "      <td>it</td>\n",
       "      <td>2022-02-01 08:57:31-03:00</td>\n",
       "      <td>2022-02-01</td>\n",
       "      <td>8</td>\n",
       "      <td>16</td>\n",
       "    </tr>\n",
       "    <tr>\n",
       "      <th>2022-02-01 08:44:44-03:00</th>\n",
       "      <td>70575051</td>\n",
       "      <td>bussoladoinves</td>\n",
       "      <td>Bússola do Investidor</td>\n",
       "      <td>Americanas e Vibra fazem parceria e criam a Ve...</td>\n",
       "      <td>pt</td>\n",
       "      <td>2022-02-01 08:44:44-03:00</td>\n",
       "      <td>2022-02-01</td>\n",
       "      <td>8</td>\n",
       "      <td>16</td>\n",
       "    </tr>\n",
       "    <tr>\n",
       "      <th>2022-02-01 08:20:01-03:00</th>\n",
       "      <td>70575051</td>\n",
       "      <td>bussoladoinves</td>\n",
       "      <td>Bússola do Investidor</td>\n",
       "      <td>Mentiras que te contaram sobre #investimentos ...</td>\n",
       "      <td>pt</td>\n",
       "      <td>2022-02-01 08:20:01-03:00</td>\n",
       "      <td>2022-02-01</td>\n",
       "      <td>8</td>\n",
       "      <td>16</td>\n",
       "    </tr>\n",
       "  </tbody>\n",
       "</table>\n",
       "</div>"
      ],
      "text/plain": [
       "                              user_id     screen_name                   name  \\\n",
       "date                                                                           \n",
       "2022-02-01 09:49:59-03:00  2424278232   BrazilJournal         Brazil Journal   \n",
       "2022-02-01 09:25:01-03:00    70575051  bussoladoinves  Bússola do Investidor   \n",
       "2022-02-01 08:57:31-03:00    70575051  bussoladoinves  Bússola do Investidor   \n",
       "2022-02-01 08:44:44-03:00    70575051  bussoladoinves  Bússola do Investidor   \n",
       "2022-02-01 08:20:01-03:00    70575051  bussoladoinves  Bússola do Investidor   \n",
       "\n",
       "                                                                        text  \\\n",
       "date                                                                           \n",
       "2022-02-01 09:49:59-03:00  EDITORIAL: Justiça para Moïse https://t.co/L7A...   \n",
       "2022-02-01 09:25:01-03:00  Olá investidores! \\nConfiram as empresas que d...   \n",
       "2022-02-01 08:57:31-03:00  BTG Pactual compra a Elite Corretora - Finance...   \n",
       "2022-02-01 08:44:44-03:00  Americanas e Vibra fazem parceria e criam a Ve...   \n",
       "2022-02-01 08:20:01-03:00  Mentiras que te contaram sobre #investimentos ...   \n",
       "\n",
       "                          lang                  datahora        data  hora  \\\n",
       "date                                                                         \n",
       "2022-02-01 09:49:59-03:00   fr 2022-02-01 09:49:59-03:00  2022-02-01     9   \n",
       "2022-02-01 09:25:01-03:00   pt 2022-02-01 09:25:01-03:00  2022-02-01     9   \n",
       "2022-02-01 08:57:31-03:00   it 2022-02-01 08:57:31-03:00  2022-02-01     8   \n",
       "2022-02-01 08:44:44-03:00   pt 2022-02-01 08:44:44-03:00  2022-02-01     8   \n",
       "2022-02-01 08:20:01-03:00   pt 2022-02-01 08:20:01-03:00  2022-02-01     8   \n",
       "\n",
       "                           hora_ajustada  \n",
       "date                                      \n",
       "2022-02-01 09:49:59-03:00             16  \n",
       "2022-02-01 09:25:01-03:00             16  \n",
       "2022-02-01 08:57:31-03:00             16  \n",
       "2022-02-01 08:44:44-03:00             16  \n",
       "2022-02-01 08:20:01-03:00             16  "
      ]
     },
     "execution_count": 25,
     "metadata": {},
     "output_type": "execute_result"
    }
   ],
   "source": [
    "tweets_2022.tail()"
   ]
  },
  {
   "cell_type": "markdown",
   "id": "f5d9c781",
   "metadata": {},
   "source": [
    "Agrupamento dos tweets por data e hora. Todos os tweets de determinada hora e dia são agregados:"
   ]
  },
  {
   "cell_type": "code",
   "execution_count": 128,
   "id": "b52d900b",
   "metadata": {},
   "outputs": [],
   "source": [
    "tweets_agregados = tweets_2022.groupby(['data', 'hora_ajustada'], as_index=False).agg({'text': ' '.join})"
   ]
  },
  {
   "cell_type": "code",
   "execution_count": 129,
   "id": "1462fb4e",
   "metadata": {},
   "outputs": [],
   "source": [
    "pd.set_option('display.max_colwidth', 100)"
   ]
  },
  {
   "cell_type": "code",
   "execution_count": 130,
   "id": "f73fc16f",
   "metadata": {},
   "outputs": [
    {
     "data": {
      "text/html": [
       "<div>\n",
       "<style scoped>\n",
       "    .dataframe tbody tr th:only-of-type {\n",
       "        vertical-align: middle;\n",
       "    }\n",
       "\n",
       "    .dataframe tbody tr th {\n",
       "        vertical-align: top;\n",
       "    }\n",
       "\n",
       "    .dataframe thead th {\n",
       "        text-align: right;\n",
       "    }\n",
       "</style>\n",
       "<table border=\"1\" class=\"dataframe\">\n",
       "  <thead>\n",
       "    <tr style=\"text-align: right;\">\n",
       "      <th></th>\n",
       "      <th>data</th>\n",
       "      <th>hora_ajustada</th>\n",
       "      <th>text</th>\n",
       "    </tr>\n",
       "  </thead>\n",
       "  <tbody>\n",
       "    <tr>\n",
       "      <th>838</th>\n",
       "      <td>2022-06-07</td>\n",
       "      <td>15</td>\n",
       "      <td>Senadoras americanas lançam projeto de lei para criptomoedas https://t.co/HEnQuBIRXN Live do Val...</td>\n",
       "    </tr>\n",
       "    <tr>\n",
       "      <th>839</th>\n",
       "      <td>2022-06-07</td>\n",
       "      <td>16</td>\n",
       "      <td>Negritudes 22: Evento valoriza as narrativas pretas\\nhttps://t.co/kJMsgm7njr Pacheco fala em “cl...</td>\n",
       "    </tr>\n",
       "    <tr>\n",
       "      <th>840</th>\n",
       "      <td>2022-06-08</td>\n",
       "      <td>10</td>\n",
       "      <td>CSN Mineração (CMIN3) emitirá R$ 1,4 bi em debêntures; SLC (SLCE3) eleva previsão de produção, t...</td>\n",
       "    </tr>\n",
       "    <tr>\n",
       "      <th>841</th>\n",
       "      <td>2022-06-08</td>\n",
       "      <td>11</td>\n",
       "      <td>Três companhias divulgaram informações sobre proventos. Confira: - Finance News \\nhttps://t.co/w...</td>\n",
       "    </tr>\n",
       "    <tr>\n",
       "      <th>842</th>\n",
       "      <td>2022-06-08</td>\n",
       "      <td>16</td>\n",
       "      <td>É agora! Economia circular para além da reciclagem: https://t.co/WeMWxpbrtw Teorias da conspiraç...</td>\n",
       "    </tr>\n",
       "  </tbody>\n",
       "</table>\n",
       "</div>"
      ],
      "text/plain": [
       "           data  hora_ajustada  \\\n",
       "838  2022-06-07             15   \n",
       "839  2022-06-07             16   \n",
       "840  2022-06-08             10   \n",
       "841  2022-06-08             11   \n",
       "842  2022-06-08             16   \n",
       "\n",
       "                                                                                                    text  \n",
       "838  Senadoras americanas lançam projeto de lei para criptomoedas https://t.co/HEnQuBIRXN Live do Val...  \n",
       "839  Negritudes 22: Evento valoriza as narrativas pretas\\nhttps://t.co/kJMsgm7njr Pacheco fala em “cl...  \n",
       "840  CSN Mineração (CMIN3) emitirá R$ 1,4 bi em debêntures; SLC (SLCE3) eleva previsão de produção, t...  \n",
       "841  Três companhias divulgaram informações sobre proventos. Confira: - Finance News \\nhttps://t.co/w...  \n",
       "842  É agora! Economia circular para além da reciclagem: https://t.co/WeMWxpbrtw Teorias da conspiraç...  "
      ]
     },
     "execution_count": 130,
     "metadata": {},
     "output_type": "execute_result"
    }
   ],
   "source": [
    "tweets_agregados.tail()"
   ]
  },
  {
   "cell_type": "markdown",
   "id": "010f225a",
   "metadata": {},
   "source": [
    "Visualizando os tweets do dia 07 de junho de 2022 às 16h:"
   ]
  },
  {
   "cell_type": "code",
   "execution_count": 131,
   "id": "b42c1709",
   "metadata": {},
   "outputs": [
    {
     "data": {
      "text/plain": [
       "'Negritudes 22: Evento valoriza as narrativas pretas\\nhttps://t.co/kJMsgm7njr Pacheco fala em “clamor” sobre combustíveis, mas promete ouvir governadores https://t.co/CY78XO8QeB Câmara avança em negociações para votar projeto sobre mercado de criptoativos https://t.co/4leDDxZBP8 Próxima safra do Brasil está salva com chegada de fertilizantes russos, diz ministro da Agricultura https://t.co/xn5rkPk01P Ativos de emergentes tiveram saída de US$ 4,9 bilhões em maio, revela IIF https://t.co/sRKxJ6KXfs Economia do metaverso pode chegar a US$ 13 trilhões, diz Citi https://t.co/262nE2VS3e Fintech processa exchange Gemini por roubo de US$ 37 milhões em criptomoedas https://t.co/kPd5uJlqgD Notícias corporativas da noite desta terça, 7 - Finance News\\nhttps://t.co/uamAiYWwFZ\\n#ações “Óleo de soja está 13 reais o litro”, diz Bolsonaro após propor redução de lucro sobre a cesta básica https://t.co/sLMb12up6C Aluguel residencial sobe 0,59% em maio, afirma FGV https://t.co/osMdjP17OS RT @ExameIn: Companhia perdeu 73% do valor de mercado desde o início do ano; expectativa é que CEO consiga promover mudanças para levar a e… STF derruba decisão que devolveu mandato ao deputado Francischini https://t.co/uSlTq5eV9w TRE nega domicílio eleitoral a Sérgio Moro em São Paulo; decisão afeta possível candidatura https://t.co/edFOM3Hhgg CSN Mineração vai emitir R$ 1,4 bi em debêntures\\xa0 - Finance News \\nhttps://t.co/Z5B4waRgFf\\n#CMIN3 Petróleo em alta pode anular efeito tributário para reduzir combustíveis, dizem especialistas https://t.co/bSl93fZ1S9 Bloco de XP agora à noite: Itaú vende https://t.co/fOlJaFJbhE $XP #ITUB3 #ITUB4 https://t.co/MfDr6PYgSe O Brasil em 60 segundos: Os sinais de melhora da economia terão qual efeito para a campanha de reeleição de Bolsonaro?\\n@Gzeromedia do @eurasiagroup https://t.co/HAJT7fiLVt Mercado eleva prêmio de risco fiscal, impulsiona dólar e juros e vê atraso em corte da Selic com anúncios do governo https://t.co/oxadqCzTN7 Aprovado projeto que prevê redução em conta de luz\\nhttps://t.co/LkGhgcCVxt BC envia nova proposta para reestruturação de carreira, sem citar reajuste\\nhttps://t.co/LAtibjWkhH Privatização da Eletrobras (ELET3 ELET6): como começou e o que acontece após a capitalização https://t.co/LJiTQ0qGsl Resolução para inclusão da Petrobras no PPI é publicada - Finance News \\nhttps://t.co/NrLR9RPNwF\\n#Petrobras #PETR4 Banco Mundial corta previsão para alta do PIB global e vê risco de estagflação https://t.co/ZdzIw8gLMw COMBUSTÍVEIS: O plano de Brasília para subsidiar SUVs e iates https://t.co/6zPa2XUfgT https://t.co/wz219s0YDw Inadimplência das famílias registra oitava alta consecutiva, aponta CNC https://t.co/aboziLXqdA Juíza de SP condena Bolsonaro a pagar R$ 100 mil por ataques a\\xa0jornalistas https://t.co/uqWNd1g4eH #tecnologia e negócios https://t.co/4lE63a6eLU Verde vê Brasil bem com alta de commodities\\nhttps://t.co/EEAX2panEd Tribunal impede Sergio Moro de se candidatar por SP\\nhttps://t.co/JofzGxq4zd Desoneração de gasolina e etanol joga para escanteio reajuste de servidores\\nhttps://t.co/d1695GXfKQ PPI publica condições mínimas para leilão de Congonhas e outros 14 aeroportos https://t.co/vqD2Q6EruP Banrisul anuncia pagamento de juros sobre o capital - Finance News \\nhttps://t.co/0zkoMiS5tr\\n#BRSR6 #proventos Shopify e as ações de ‘über voto’: afinal, qual é o limite para o poder de\\xa0fundadores? https://t.co/uuKPC3TGt1 Fiscais agropecuários farão greve de dois dias\\nhttps://t.co/JzWCv3Cbfa “Não vejo porque a B3 não aderir”, diz CEO da Vórtx sobre criptoações no Brasil https://t.co/EJ0kYCtiYA TRE decide que Moro não pode ser candidato por São\\xa0Paulo https://t.co/NRT3fAdC37 Após STF confirmar condenação de deputado, Bolsonaro ataca Judiciário e faz ameaças\\nhttps://t.co/oL8ed9701Q Alívio para inflação e para Petrobras (PETR4), mas com risco fiscal: quais impactos dos anúncios para reduzir preços de combustíveis? https://t.co/bWJdSj4DRB Brasil registra o maior número de mortes por covid-19 em 24h desde\\xa0março https://t.co/50eqIyrMFE Após críticas por aparência, padre Fábio de Melo revela ter Síndrome de Ménière; entenda a\\xa0doença https://t.co/SCun57F4S9 Com seus filmes, cujos enredos se interligam, a Disney atingiu o topo das maiores bilheterias da história do cinema. Quando ocorreu a aquisição, a companhia não tinha direitos sobre o uso nos cinemas das duas franquias mais rentáveis da Marvel: X-Men e Spider-Man. Porém, a Disney foi capaz de criar um dos universos cinematográficos mais famosos da indústria: o MCU (Marvel Cinematic Universe). Outra aquisição muito importante foi a da Marvel, em 2009, por US$ 4 bilhões. Esta, em particular, é um ótimo exemplo de como a Disney é capaz de gerar valor sobre suas propriedades intelectuais. Após 11 anos, a Disney adquiriu a Pixar, uma de suas maiores concorrentes no mundo das animações, por US$ 7,4 bilhões. A empresa, assim como a Disney, contava com diversas histórias e personagens que usavam da mesma fórmula de sucesso: o apego emocional gerado sobre os clientes. Em 1995, por exemplo, a companhia comprou o grupo televisivo ABC por US$ 19 bilhões, que incluiu uma participação de 80% na rede de esportes ESPN, a maior do segmento  em faturamento, além de ser dona da maior rádio esportiva dos EUA. O crescimento da Walt Disney Company continuou mesmo após o falecimento de seu criador. Na verdade, foi somente depois de sua morte que a empresa iniciou uma nova e importantíssima vertente de geração de valor: a de aquisições. Em 2019, um único parque da Disney, o Magic Kingdom, recebeu quase 21 milhões de visitantes. Posteriormente, a divisão de parques passou a englobar outras experiências para o encantamento dos clientes, como cruzeiros, resorts, hotéis, tornando-se um dos segmentos mais lucrativos. O projeto, que era um dos mais inovadores e tecnológicos do mundo nesse período, foi um sucesso e passou a atrair visitantes do mundo inteiro. Nos parques, a Disney poderia oferecer experiências personalizadas com o uso de seus personagens, além de vender comidas e bebidas. Com o passar do tempo, Walt Disney percebeu que poderia monetizar suas propriedades intelectuais de outras maneiras. A partir disso, ele passou a concentrar seus esforços em novos projetos e afastou-se da divisão de animação da companhia. Em 1955, criou o primeiro parque temático da empresa, que foi chamado de Disneyland, em Anaheim, Califórnia (EUA). Seu plano primordial era construir um lugar onde crianças e adultos pudessem se divertir. O fundador da Disney descobriu a fórmula secreta de seu sucesso: histórias que criam apego emocional nos telespectadores. Isso fez com que ele criasse um departamento de roteiristas separado do time de animadores e inteiramente focado no desenvolvimento das histórias. Com esse episódio, Walt Disney e seu irmão Roy Disney criaram o Disney Brothers Studio, que posteriormente se tornou a Walt Disney Company, para produzir filmes para o cinema. Com isso, Walt Disney se mudou para Hollywood para tentar a vida na indústria cinematográfica. Na época, uma das produções de Walt, “Alice no País das Maravilhas”, se tornou um sucesso, chamando atenção de distribuidores que encomendaram continuações da série ao animador. Hoje ela é uma empresa com um valor de mercado de quase 200 bilhões de dólares.\\n\\nWalt Disney, o fundador, iniciou sua carreira em animação em 1920. Após dois anos, ele criaria seu primeiro estúdio voltado para a produção de desenhos animados inspirados em fábulas e contos de fada Apesar do sucesso de alguns lançamentos, a companhia não foi capaz de se manter rentável e acabou falindo em 1923. Impossível não conhecer algo da Disney. Esta empresa é responsável por te acompanhar desde a infância com desenhos animados e agora com filmes da Marvel e canais de esporte.\\n\\nMas você sabe o que foi necessário para a Disney chegar até aqui? Relator na Câmara retira \\'marco cripto\\' da pauta\\nhttps://t.co/xLW0b8QlKg John Kerry se compromete a analisar caso\\nhttps://t.co/BBsR0fgggM Entenda por que os bancos evitam dar recomendações sobre a operação da Eletrobras\\nhttps://t.co/FodIOP6xgP Minas e Espírito Santo calculam impacto bilionário nos caixas com mudança no ICMS\\nhttps://t.co/xxWIo7wyWI Lira prevê votar PECs para reduzir preço dos combustíveis até 15/07\\nhttps://t.co/k0RxInhPo4 Litro da gasolina cairia R$ 0,79 se impostos federais fossem zerados, afirma Bolsonaro https://t.co/Lt9n5wMdoK Romi anuncia pagamento de juros sobre o capital - Finance News \\nhttps://t.co/dFZOlaU00F\\n#Romi #ROMI3 #provento CPFL Energia: 2° pagamento de dividendo anunciado em abril será dia 14/06 - Finance News \\nhttps://t.co/fCGgg9tpiB\\n#CPFE3 #dividendo Ela criou uma startup para mudar o jeito de nascer no Brasil — e já impactou 1,5 mil\\xa0famílias https://t.co/bKPjIHMJlv Favela vai a Madrid levar inovação ao South Summit e lançar quarto setor https://t.co/aCnDY096XX Gin nacional se reinventa com novos rótulos, NFT e ‘entrada VIP’ eterna em\\xa0bares https://t.co/Iyu6siNHff Nova onda de frio derruba temperaturas no Sul, e avança com menos força em\\xa0SP https://t.co/nWojdf8Zey Medidas para baixar preço dos combustíveis podem forçar BC a postergar redução da Selic https://t.co/cOQuJrVUau Startup de moradia por assinatura lança NFTs e ex-BBBs participam de festa no\\xa0metaverso https://t.co/MSYxe3zhry Variação de preço do prato feito pode chegar até 279% nas metrópoles brasileiras, diz\\xa0pesquisa https://t.co/y8RBkOGS7u Vale e Petro seguram queda do Ibovespa em pregão marcado por risco\\xa0fiscal https://t.co/pExdUMYzvr Dia dos Namorados 2022: 15 restaurantes para comemorar a\\xa0data https://t.co/hLHjG9zhqd Acusada de ser “hub” de lavagem de dinheiro, Binance se defende: “Querem vender falsa narrativa” https://t.co/N1khHTHsw1 Ucrânia acusa Rússia de prender e torturar ao menos 600 pessoas em\\xa0Kherson https://t.co/hbzJOjJ4ZD Governo amplia parceria com Google para alertas sobre\\xa0desastres https://t.co/7oS6kHPHzJ Segunda Turma do STF mantém cassação de deputado bolsonarista\\nhttps://t.co/y1mAJmhp5S Processo de recrutamento precisa de um olhar especializado para ser\\xa0assertivo https://t.co/pnrAmdrSVK Dona da Daslu questiona na Justiça avaliação da marca, que ainda não pode trocar de mãos\\nhttps://t.co/Q9ID7NsaMg Bezerra diz que \"PEC do Etanol\" vai garantir alíquota 30% menor para álcool em relação à gasolina\\nhttps://t.co/pwx079Q6uU RT @mycapinvest: ⚠️ Fechamento da Bolsa ⚠️\\n\\n#IBOV fechou em queda de -0,11% cotado em 110.070 pontos.\\n\\n🟢 Maiores altas\\n\\nVALE3 (+2,34%)\\nBRML… Das estreantes na Bolsa desde 2017, 80% estão com ações no\\xa0vermelho https://t.co/zkav6wCNjf Ibovespa fecha em leve queda, com risco fiscal de um lado e alta das commodities do outro; dólar avança https://t.co/JSmn8QHs3O Desistência de Elon Musk em comprar o Twitter (TWTR34) prepara batalha legal\\xa0bilionária https://t.co/bBcpKIHCv6 Captação de fundos em maio é a pior do ano, com saída de R$ 64 bi, diz Anbima https://t.co/TCxsyfsQLx Stock options valem mesmo após demissão\\nhttps://t.co/GYdV1MLqkp Carf planeja sessões extras e julgamentos em São Paulo em setembro\\nhttps://t.co/JChk0cloUp Estados cobram Difal do ICMS sem atender integralmente a lei\\nhttps://t.co/H20YkCx6yO Rock the Mountain: veja line-up, ingressos e onde será a 2ª edição do festival de música\\xa0brasileira https://t.co/CHK6eJCwKe BB quer liberar R$ 175 bilhões em crédito rural na safra 2022/23\\nhttps://t.co/BuE5xRnfbx Varejo amplia base da Nagro\\nhttps://t.co/dcyMLlWUO8 Águia pretende acelerar projeto de fosfato no RS\\nhttps://t.co/pb8AEwrCDc Com novo fundo, a 051 Capital investe na região do Matopiba\\nhttps://t.co/TBswo9XJbK Turistas podem ser expulsos do Japão se não usarem máscaras\\nhttps://t.co/i1pCb3Olzv EUA tentam evitar fracasso de Cúpula das Américas esvaziada\\nhttps://t.co/hCvadtubQt EUA liberam venda de petróleo venezuelano para a Europa\\nhttps://t.co/jD1JRueq6M Moscou ameaça tomar mais território ucraniano\\nhttps://t.co/uRJaBU9OQW Criação de empresas recua 15% de janeiro a abril\\nhttps://t.co/PV4PiVRvzn Governo discute aumento para policiais rodoviários federais e agentes penitenciários\\nhttps://t.co/ZpQ6dklPE8 Transição para baixo carbono vai demorar mais, diz diretor da ANP\\nhttps://t.co/3fhDJIxLrL Planos de saúde ganham 204 mil usuários em abril, diz ANS https://t.co/T5nX2B0X8D Aval da OCDE passa por desmate e confiança nas instituições do país\\nhttps://t.co/ppeG07Eez6 Soluções para frear desmate e criar emprego na floresta já existem, dizem especialistas\\nhttps://t.co/k0ExuiRErn Embrião do programa de Lula propõe um Estado forte e intervencionista\\nhttps://t.co/0clOJxu8sR TSE enfrenta dificuldades ‘inusuais’, diz Fachin\\nhttps://t.co/Ch3KXv1btP Bolsonaro se reúne com Telegram e cita conversa sobre \\'liberdade de expressão\\' e \\'democracia\\'\\nhttps://t.co/Arp4D186er Defensoria Pública pede à Justiça que obrigue governo federal a disponibilizar helicópteros para buscas de jornalista e indigenista\\nhttps://t.co/FHWu3tdJ5d Fundos de investimentos têm resgate de R$ 64 bilhões em maio, nota Anbima\\nhttps://t.co/4uoRU2lIep Claritas quase zera aposta no real após medidas de combustíveis\\nhttps://t.co/T4SAvoqK0m Claritas quase zera aposta no real após medidas de\\xa0combustíveis https://t.co/6aeMsEp7Hu ‘A liquidez está terrível’: Condições ruins de negociação alimentam instabilidade em Wall Street\\nhttps://t.co/Qmcv6shYN9 Grupo de senadores quer implementar teto do ICMS para combustíveis até\\xa02024 https://t.co/lJQ8wGLFcl Bancos precisam escolher entre competir e colaborar com fintechs, big techs ou bancos digitais\\nhttps://t.co/hyPCqPtjg3 Como evitar o greenwashing e gerar uma estratégia de valor ESG no agronegócio?\\nhttps://t.co/uJRYifikyQ Eve assina acordo para entrega de 35 eVTOLs a Falcon Aviation, dos Emirados Árabes Unidos\\nhttps://t.co/GKOTKg8lwC Empresas de tecnologia dos EUA estão saindo da China; Amazon é a mais recente\\nhttps://t.co/mk2o030Dm7 iOS 16: Veja o que muda com o novo sistema operacional do iPhone e outras novidades da Apple\\nhttps://t.co/iH4vZkpEaT Troca no comando completa 15 dias e longe de solução\\nhttps://t.co/OJP6R82srk Convite para jantar com Lula em SP chega a R$ 20 mil\\nhttps://t.co/8Ky17V1yrU Seu iPhone vai receber o novo iOS 16? Descubra\\nhttps://t.co/8UBfPMEjDU Como melhora da economia impacta a campanha eleitoral?\\nhttps://t.co/xYj3p4AAI7 Com alta da Selic, renda fixa ganha liderança\\nhttps://t.co/1C80vAOJDg Musk arrependido? Por que desculpa não vai colar com Twitter\\nhttps://t.co/A3AsOVUT2X PT tem estratégia para retomar controle estatal da Eletrobras, mas caminho não é simples https://t.co/3MX1u4VwDG Marca Daslu é leiloada por R$ 10,5 milhões\\nhttps://t.co/Q3QVOhweCh Flamengo leva a melhor no STJ em disputa milionária\\nhttps://t.co/h2xqRO9iQJ Francischini x Daniel Silveira: As semelhanças e diferenças da atuação de Nunes Marques e Mendonça nos dois casos\\nhttps://t.co/CjPLMXrfSs Plano para reduzir impostos nos combustíveis tira pressão da Petrobras, dizem analistas\\nhttps://t.co/seNh4i0lBp Veja o funcionamento dos bancos no feriado de Corpus\\xa0Christi https://t.co/DBp9kk7SQn Proposta da União para combustíveis tem alto custo fiscal, é ‘improvisada’ e eleitoreira, avaliam economistas\\nhttps://t.co/WIGsufusBu Análise: governo banaliza uso de PECs e cortes de impostos para objetivos de curto prazo\\nhttps://t.co/OB3sD6PaHh Efeito do ICMS zero no diesel desaparecerá no primeiro reajuste, avaliam Estados\\nhttps://t.co/t3OUpBU1wb Startup brasileira lança ferramenta para compra coletiva e fracionamento de NFTs da\\xa0OpenSea https://t.co/ZPPy47SWA3 Aprenda jogando Fortnite: startup brasileira lança plataforma de educação\\xa0gameficada https://t.co/Lw6XkW5q7c Fundos de investimento perdem R$ 64 bilhões em maio com resgates\\xa0líquidos https://t.co/ENd9O7Df13 Governo estima custo de R$ 40 bilhões com PEC para zerar tributos sobre combustíveis https://t.co/kiujWng68F Cerca de 95% da população brasileira não fala\\xa0inglês https://t.co/wVbwIBEkPp Demanda por ações da Eletrobras já supera R$ 40 bilhões, o que garante\\xa0privatização https://t.co/ddkGP0gxgZ JORNALISTA E INDIGENISTA DESAPARECIDOS NA AMAZÔNIA\\n\\nO correspondente no Brasil do jornal britânico The Guardian, Dom Phillips, e o indigenista brasileiro Bruno Araújo, desapareceram na Amazônia. A informação sobre o desaparecimento foi divulgada nesta segunda-feira https://t.co/dqpo6SbOds BC da Austrália surpreende mercado e eleva taxa de juros acima do esperado https://t.co/a9DxYZl5xj SEC prepara mudança em regras para ações\\nhttps://t.co/Xn8sLT3bNa Recompra de ações avança com bolsa sob pressão\\nhttps://t.co/rswxjpJtNC Após o 11 de setembro, vi analista de banco falando que as pessoas não iam mais viajar de avião. \\n\\nDurante a gripe aviária em 2006, vi analista falando que as pessoas não iriam mais comer carne de frango. \\n\\nE por aí vai…nenhuma dessas afirmações pareciam lunaticas na época. “Talvez as pessoas nunca mais morem em casas e apartamentos…” afirma investidor em pânico após queda das ações das incorporadoras. \\n\\nEu já vi esse filme tantas vezes. https://t.co/9VeUwjd3Z4 Polishop forma joint venture com a Wiz e entra no mercado de\\xa0seguros https://t.co/VvdU0V8wOv ADRIANO PIRES. O diesel e a transição energética https://t.co/XmsVHAuSzR https://t.co/aqtCPuxl2w Rússia impõe sanções contra Janet Yellen e mais 60 autoridades\\xa0americanas https://t.co/0zNWIrmq4Q Wiz e Polishop criam joint venture\\xa0 - Finance News\\nhttps://t.co/12PeyMKBx2\\n#WIZS3 Take Blip capta US$ 70 milhões para levar a conversa com empresas para os\\xa0chats https://t.co/EZqTLGTNqB Negociação de criptomoedas sobe 417% no Brasil, acelerando criação do Real Digital e\\xa0regulamentação https://t.co/doSzmxwduW Justiça determina que servidores do grupo de risco não precisam voltar ao trabalho\\xa0presencial https://t.co/CuULElM4ZB Carrefour Brasil ([ativo=CRFB3]) conclui compra do Grupo Big e confirma Abilio Diniz na vice-presidência do conselho https://t.co/KMvvUHDriO Apple vai ao metaverso? Conheça o plano da empresa para ter um óculos RV\\xa0próprio https://t.co/Tkvpik2Li8 Governo quer usar dinheiro da privatização da Eletrobras para reduzir preço do\\xa0diesel https://t.co/NDuHtgA4de Projeto de lei que limita cobrança do ICMS a 17% segue para votação no\\xa0Senado https://t.co/wkQX1F3B8W #DIVERSIDADE Caso Amber Heard e Johnny Depp ganha repercussão internacional e isso pode afetar diretamente muitas mulheres que sofrem violência, escrevem Isabela Rahal e Juliana Barros na coluna Vozes de hoje na Bússola https://t.co/pfIP2EK6PU WGSN lança plataforma de informações essenciais de moda para microempreendedores https://t.co/OfOVvODEwD O que dizem os gurus sobre o futuro dos\\xa0criptoativos https://t.co/aPkfS1O19x Para que esse seja o nosso último post sem notícias, vamos sempre defender a LIBERDADE DE IMPRENSA.\\nUma campanha do consórcio dos veículos de imprensa por você. E pela democracia. https://t.co/UJXQZvrAiy No Morning Call desta terça-feira, 7 de junho, comentamos os últimos dados do mercado de trabalho no Brasil. No segundo bloco, falamos sobre as expectativas coletadas pelo Banco Central.\\n\\n#Patrocinado por @bancosafra https://t.co/etZTtwbCDw SPX sai de commodities e aposta em China, transportes e\\xa0consumo https://t.co/LLsao39GAr SPX sai de commodities e aposta em China, transportes e\\xa0consumo https://t.co/LLsao2S5bR Mercado dá poucos sinais de expectativas de recessão, diz\\xa0Deutsche https://t.co/vnVYc6DLi5 Carrefour Brasil: Abilio Diniz será vice-presidente do CA da companhia - Finance News \\nhttps://t.co/BCfO4LDMiO\\n#CRFB3 Museu Nacional completa 204 anos com exposição de baleia-cachalote https://t.co/pteU0tNkl2 #ESG Somente nos primeiros três meses deste ano, quase oito milhões de brasileiros foram afetados por catástrofes ambientais, escreve Danilo Maeda em sua coluna de hoje na Bússola https://t.co/a06euSykDm CVC: Reservas confirmadas crescem em maio, mas seguem abaixo do\\xa0pré-pandemia https://t.co/Y1fRhq1Mwt No Brasil, 808 mil empresas foram abertas até abril, alta de\\xa011,5% https://t.co/bojdCtj6De Bolsas caem com atenção à inflação e após dados da Alemanha; medidas para reduzir preços de combustíveis e mais assuntos hoje https://t.co/iZYfvDb3p3 Healthtech Alice lança plano de saúde para empresas com limite de\\xa0reajuste https://t.co/UszddQ02p6 O casal de brasileiros que produz raros vinhos no\\xa0Chile https://t.co/7kqM2qg36b Mercados nesta terça, minério de ferro, petróleo e notícias corporativas - Finance News \\nhttps://t.co/xQlFyaYCKN\\n#ações #Bolsa #minério #petróleo Cidades do interior de SP voltam a registrar alta no afastamento de servidores pela\\xa0covid https://t.co/bSzLne5MMo Bolsonaro propõe zerar ICMS e ressarcir Estados\\nhttps://t.co/8NGHyki9WY Pacote para baixar preço de combustíveis divide opiniões de especialistas da indústria\\nhttps://t.co/GrkmgfDuxs Governadores criticam compensação parcial de corte de ICMS sugerido por\\xa0Bolsonaro https://t.co/8f5fuf923l Plano para combustível mais barato, CVC, Eletrobras e o que mais move o\\xa0mercado https://t.co/lgfXoyQtc2 Mendonça suspende julgamento sobre mandato de deputado após 2 votos pela\\xa0cassação https://t.co/UIZE8GHUoC Hoje é o dia da Liberdade de Imprensa. \\n\\nImprensa livre representa um dos pilares da democracia moderna. Prévia de programa de governo de Lula traz revogações do teto de gastos e reforma\\xa0trabalhista https://t.co/2Z89xJEH0e Investimento em imóvel: Aluguel tem menor rentabilidade que a renda\\xa0fixa https://t.co/Vo3lc46qW8 Eletrobras: uso do FGTS em fundo tem prazo mínimo de aplicação?\\xa0Entenda https://t.co/6l8XYcuYCK Produção de veículos vai crescer em maio? Anfavea divulga\\xa0resultados https://t.co/LufGyWLvY6 Daslu: Após escândalos, marca de luxo vai a leilão por R$ 1,4 milhão — relembre a\\xa0história https://t.co/eFVTeyEraB Para onde vai o ICMS? Negociação sobre corte para combustíveis continua no\\xa0Senado https://t.co/DSS9WrSQs3 Não tem FGTS? Confira como investir diretamente nas ações da Eletrobras https://t.co/nR92kzTqyK Aperto do mercado de gás natural no inverno pode gerar danos duradouros à economia da Europa, aponta BofA https://t.co/2CoiJMvX6G @StockMKTNewz @congresstrading Ela sempre acerta Onde assistir ao sorteio das oitavas de final da Copa do Brasil 2022 ao\\xa0vivo https://t.co/XbPBun4Bfz Onde assistir ao vivo o jogo Alemanha x Inglaterra hoje, terça-feira, 7; veja\\xa0horário https://t.co/gpvdRnqywX Onde assistir ao vivo o jogo Emirados Árabes x Austrália hoje, terça, 7; veja\\xa0horário https://t.co/AIvR6VzkfT Onde assistir ao vivo o jogo do Corinthians hoje, terça-feira, 7; veja\\xa0horário https://t.co/sw0NUecXtU Jogos de futebol hoje, terça-feira, 7; onde assistir ao vivo e\\xa0horários https://t.co/VwRvHSOFQX'"
      ]
     },
     "execution_count": 131,
     "metadata": {},
     "output_type": "execute_result"
    }
   ],
   "source": [
    "tweets_agregados.iloc[839,2]"
   ]
  },
  {
   "cell_type": "markdown",
   "id": "c2c6772d",
   "metadata": {},
   "source": [
    "### Pré-processamento do texto"
   ]
  },
  {
   "cell_type": "code",
   "execution_count": 132,
   "id": "0e88c189",
   "metadata": {},
   "outputs": [],
   "source": [
    "import nltk\n",
    "import string\n",
    "import re\n",
    "from nltk.corpus import stopwords"
   ]
  },
  {
   "cell_type": "code",
   "execution_count": 133,
   "id": "79b54b0c",
   "metadata": {},
   "outputs": [
    {
     "name": "stderr",
     "output_type": "stream",
     "text": [
      "[nltk_data] Downloading package stopwords to\n",
      "[nltk_data]     C:\\Users\\bruno\\AppData\\Roaming\\nltk_data...\n",
      "[nltk_data]   Package stopwords is already up-to-date!\n",
      "[nltk_data] Downloading package punkt to\n",
      "[nltk_data]     C:\\Users\\bruno\\AppData\\Roaming\\nltk_data...\n",
      "[nltk_data]   Package punkt is already up-to-date!\n"
     ]
    },
    {
     "data": {
      "text/plain": [
       "True"
      ]
     },
     "execution_count": 133,
     "metadata": {},
     "output_type": "execute_result"
    }
   ],
   "source": [
    "nltk.download(\"stopwords\")\n",
    "nltk.download('punkt')"
   ]
  },
  {
   "cell_type": "code",
   "execution_count": 134,
   "id": "218b8f58",
   "metadata": {},
   "outputs": [],
   "source": [
    "portugues_stops = stopwords.words('portuguese')"
   ]
  },
  {
   "cell_type": "code",
   "execution_count": 135,
   "id": "67ebbb10",
   "metadata": {},
   "outputs": [],
   "source": [
    "pontuacao = string.punctuation+'“'+'”'"
   ]
  },
  {
   "cell_type": "code",
   "execution_count": 136,
   "id": "69ba6151",
   "metadata": {},
   "outputs": [
    {
     "data": {
      "text/plain": [
       "'!\"#$%&\\'()*+,-./:;<=>?@[\\\\]^_`{|}~“”'"
      ]
     },
     "execution_count": 136,
     "metadata": {},
     "output_type": "execute_result"
    }
   ],
   "source": [
    "pontuacao"
   ]
  },
  {
   "cell_type": "code",
   "execution_count": 137,
   "id": "9bf36aae",
   "metadata": {},
   "outputs": [],
   "source": [
    "def pre_processamento(texto):\n",
    "    \n",
    "    \"\"\"\n",
    "    Pré-processa o texto para eliminar palavras que trazem pouca ou nenhuma informação para a tarefa de predição.\n",
    "    1. Torna as palavras lowercase;\n",
    "    2. Remove stopwords;\n",
    "    3. Remove dígitos;\n",
    "    4. Reomove links, urls;\n",
    "    5. Remove pontuação;\n",
    "    6. Remove letras isoladas.\n",
    "    \n",
    "    Parâmetros\n",
    "    ----------\n",
    "    testo: str\n",
    "    Uma string com o conteúdo a ser pré-processado.\n",
    "\n",
    "    Retorna\n",
    "    -------\n",
    "    Uma string com o texto pré-processado.\n",
    "    \"\"\"\n",
    "        \n",
    "    pre = nltk.word_tokenize(texto, language='portuguese')\n",
    "    pre = [palavra.lower() for palavra in pre]\n",
    "    pre = [palavra for palavra in pre if palavra not in portugues_stops]\n",
    "    pre = [re.sub(r\"\\d+\",'',palavra) for palavra in pre]\n",
    "    pre = [re.sub(\"https\", '', palavra) for palavra in pre]\n",
    "    pre = [re.sub(r\"^\\/.*\", '', palavra) for palavra in pre]                #remove expressões que comecem com \"/\"\n",
    "    pre = [palavra for palavra in pre if palavra not in pontuacao]\n",
    "    pre = [palavra for palavra in pre if len(palavra)>1]\n",
    "    pre = \" \".join(pre)\n",
    "    \n",
    "    return pre"
   ]
  },
  {
   "cell_type": "code",
   "execution_count": 138,
   "id": "3e2a3f82",
   "metadata": {},
   "outputs": [
    {
     "data": {
      "text/plain": [
       "22436"
      ]
     },
     "execution_count": 138,
     "metadata": {},
     "output_type": "execute_result"
    }
   ],
   "source": [
    "len(tweets_agregados.iloc[839,2])"
   ]
  },
  {
   "cell_type": "code",
   "execution_count": 139,
   "id": "55ad191a",
   "metadata": {},
   "outputs": [
    {
     "data": {
      "text/plain": [
       "14389"
      ]
     },
     "execution_count": 139,
     "metadata": {},
     "output_type": "execute_result"
    }
   ],
   "source": [
    "len(pre_processamento(tweets_agregados.iloc[839,2]))"
   ]
  },
  {
   "cell_type": "code",
   "execution_count": 140,
   "id": "d3437f60",
   "metadata": {},
   "outputs": [
    {
     "data": {
      "text/plain": [
       "\"negritudes evento valoriza narrativas pretas pacheco fala clamor sobre combustíveis promete ouvir governadores câmara avança negociações votar projeto sobre mercado criptoativos próxima safra brasil salva chegada fertilizantes russos diz ministro agricultura ativos emergentes saída us bilhões maio revela iif economia metaverso pode chegar us trilhões diz citi fintech processa exchange gemini roubo us milhões criptomoedas notícias corporativas noite desta terça finance news ações óleo soja reais litro diz bolsonaro após propor redução lucro sobre cesta básica aluguel residencial sobe maio afirma fgv rt examein companhia perdeu valor mercado desde início ano expectativa ceo consiga promover mudanças levar e… stf derruba decisão devolveu mandato deputado francischini tre nega domicílio eleitoral sérgio moro paulo decisão afeta possível candidatura csn mineração vai emitir bi debêntures finance news cmin petróleo alta pode anular efeito tributário reduzir combustíveis dizem especialistas bloco xp agora noite itaú vende xp itub itub brasil segundos sinais melhora economia efeito campanha reeleição bolsonaro gzeromedia eurasiagroup mercado eleva prêmio risco fiscal impulsiona dólar juros vê atraso corte selic anúncios governo aprovado projeto prevê redução conta luz bc envia nova proposta reestruturação carreira citar reajuste privatização eletrobras elet elet começou acontece após capitalização resolução inclusão petrobras ppi publicada finance news petrobras petr banco mundial corta previsão alta pib global vê risco estagflação combustíveis plano brasília subsidiar suvs iates inadimplência famílias registra oitava alta consecutiva aponta cnc juíza sp condena bolsonaro pagar mil ataques jornalistas tecnologia negócios verde vê brasil bem alta commodities tribunal impede sergio moro candidatar sp desoneração gasolina etanol joga escanteio reajuste servidores ppi publica condições mínimas leilão congonhas outros aeroportos banrisul anuncia pagamento juros sobre capital finance news brsr proventos shopify ações über voto afinal limite poder fundadores fiscais agropecuários farão greve dois dias vejo porque aderir diz ceo vórtx sobre criptoações brasil tre decide moro pode ser candidato paulo após stf confirmar condenação deputado bolsonaro ataca judiciário faz ameaças alívio inflação petrobras petr risco fiscal quais impactos anúncios reduzir preços combustíveis brasil registra maior número mortes covid- desde março após críticas aparência padre fábio melo revela ter síndrome ménière entenda doença filmes cujos enredos interligam disney atingiu topo maiores bilheterias história cinema ocorreu aquisição companhia direitos sobre uso cinemas duas franquias rentáveis marvel x-men spider-man porém disney capaz criar universos cinematográficos famosos indústria mcu marvel cinematic universe outra aquisição importante marvel us bilhões particular ótimo exemplo disney capaz gerar valor sobre propriedades intelectuais após anos disney adquiriu pixar maiores concorrentes mundo animações us bilhões empresa assim disney contava diversas histórias personagens usavam mesma fórmula sucesso apego emocional gerado sobre clientes exemplo companhia comprou grupo televisivo abc us bilhões incluiu participação rede esportes espn maior segmento faturamento além ser dona maior rádio esportiva eua crescimento walt disney company continuou após falecimento criador verdade somente morte empresa iniciou nova importantíssima vertente geração valor aquisições único parque disney magic kingdom recebeu quase milhões visitantes posteriormente divisão parques passou englobar outras experiências encantamento clientes cruzeiros resorts hotéis tornando-se segmentos lucrativos projeto inovadores tecnológicos mundo nesse período sucesso passou atrair visitantes mundo inteiro parques disney poderia oferecer experiências personalizadas uso personagens além vender comidas bebidas passar tempo walt disney percebeu poderia monetizar propriedades intelectuais outras maneiras partir disso passou concentrar esforços novos projetos afastou-se divisão animação companhia criou primeiro parque temático empresa chamado disneyland anaheim califórnia eua plano primordial construir lugar onde crianças adultos pudessem divertir fundador disney descobriu fórmula secreta sucesso histórias criam apego emocional telespectadores fez criasse departamento roteiristas separado time animadores inteiramente focado desenvolvimento histórias episódio walt disney irmão roy disney criaram disney brothers studio posteriormente tornou walt disney company produzir filmes cinema walt disney mudou hollywood tentar vida indústria cinematográfica época produções walt alice país maravilhas tornou sucesso chamando atenção distribuidores encomendaram continuações série animador hoje empresa valor mercado quase bilhões dólares walt disney fundador iniciou carreira animação após dois anos criaria primeiro estúdio voltado produção desenhos animados inspirados fábulas contos fada apesar sucesso alguns lançamentos companhia capaz manter rentável acabou falindo impossível conhecer algo disney empresa responsável acompanhar desde infância desenhos animados agora filmes marvel canais esporte sabe necessário disney chegar aqui relator câmara retira 'marco cripto pauta john kerry compromete analisar caso entenda bancos evitam dar recomendações sobre operação eletrobras minas espírito santo calculam impacto bilionário caixas mudança icms lira prevê votar pecs reduzir preço combustíveis litro gasolina cairia impostos federais zerados afirma bolsonaro romi anuncia pagamento juros sobre capital finance news romi romi provento cpfl energia pagamento dividendo anunciado abril dia finance news cpfe dividendo criou startup mudar jeito nascer brasil impactou mil famílias favela vai madrid levar inovação south summit lançar quarto setor gin nacional reinventa novos rótulos nft entrada vip eterna bares nova onda frio derruba temperaturas sul avança menos força sp medidas baixar preço combustíveis podem forçar bc postergar redução selic startup moradia assinatura lança nfts ex-bbbs participam festa metaverso variação preço prato feito pode chegar metrópoles brasileiras diz pesquisa vale petro seguram queda ibovespa pregão marcado risco fiscal dia namorados restaurantes comemorar data acusada ser hub lavagem dinheiro binance defende querem vender falsa narrativa ucrânia acusa rússia prender torturar menos pessoas kherson governo amplia parceria google alertas sobre desastres segunda turma stf mantém cassação deputado bolsonarista processo recrutamento precisa olhar especializado ser assertivo dona daslu questiona justiça avaliação marca ainda pode trocar mãos bezerra diz `` pec etanol '' vai garantir alíquota menor álcool relação gasolina rt mycapinvest ⚠️ fechamento bolsa ⚠️ ibov fechou queda -, cotado pontos maiores altas vale brml… estreantes bolsa desde ações vermelho ibovespa fecha leve queda risco fiscal lado alta commodities outro dólar avança desistência elon musk comprar twitter twtr prepara batalha legal bilionária captação fundos maio pior ano saída bi diz anbima stock options valem após demissão carf planeja sessões extras julgamentos paulo setembro estados cobram difal icms atender integralmente lei rock the mountain veja line-up ingressos onde edição festival música brasileira bb quer liberar bilhões crédito rural safra varejo amplia base nagro águia pretende acelerar projeto fosfato rs novo fundo capital investe região matopiba turistas podem ser expulsos japão usarem máscaras eua tentam evitar fracasso cúpula américas esvaziada eua liberam venda petróleo venezuelano europa moscou ameaça tomar território ucraniano criação empresas recua janeiro abril governo discute aumento policiais rodoviários federais agentes penitenciários transição baixo carbono vai demorar diz diretor anp planos saúde ganham mil usuários abril diz ans aval ocde passa desmate confiança instituições país soluções frear desmate criar emprego floresta existem dizem especialistas embrião programa lula propõe estado forte intervencionista tse enfrenta dificuldades inusuais diz fachin bolsonaro reúne telegram cita conversa sobre 'liberdade expressão 'democracia' defensoria pública pede justiça obrigue governo federal disponibilizar helicópteros buscas jornalista indigenista fundos investimentos têm resgate bilhões maio nota anbima claritas quase zera aposta real após medidas combustíveis claritas quase zera aposta real após medidas combustíveis liquidez terrível condições ruins negociação alimentam instabilidade wall street grupo senadores quer implementar teto icms combustíveis bancos precisam escolher competir colaborar fintechs big techs bancos digitais evitar greenwashing gerar estratégia valor esg agronegócio eve assina acordo entrega evtols falcon aviation emirados árabes unidos empresas tecnologia eua saindo china amazon recente ios veja muda novo sistema operacional iphone outras novidades apple troca comando completa dias longe solução convite jantar lula sp chega mil iphone vai receber novo ios descubra melhora economia impacta campanha eleitoral alta selic renda fixa ganha liderança musk arrependido desculpa vai colar twitter pt estratégia retomar controle estatal eletrobras caminho simples marca daslu leiloada milhões flamengo leva melhor stj disputa milionária francischini daniel silveira semelhanças diferenças atuação nunes marques mendonça dois casos plano reduzir impostos combustíveis tira pressão petrobras dizem analistas veja funcionamento bancos feriado corpus christi proposta união combustíveis alto custo fiscal improvisada eleitoreira avaliam economistas análise governo banaliza uso pecs cortes impostos objetivos curto prazo efeito icms zero diesel desaparecerá primeiro reajuste avaliam estados startup brasileira lança ferramenta compra coletiva fracionamento nfts opensea aprenda jogando fortnite startup brasileira lança plataforma educação gameficada fundos investimento perdem bilhões maio resgates líquidos governo estima custo bilhões pec zerar tributos sobre combustíveis cerca população brasileira fala inglês demanda ações eletrobras supera bilhões garante privatização jornalista indigenista desaparecidos amazônia correspondente brasil jornal britânico the guardian dom phillips indigenista brasileiro bruno araújo desapareceram amazônia informação sobre desaparecimento divulgada nesta segunda-feira bc austrália surpreende mercado eleva taxa juros acima esperado sec prepara mudança regras ações recompra ações avança bolsa sob pressão após setembro vi analista banco falando pessoas iam viajar avião durante gripe aviária vi analista falando pessoas iriam comer carne frango aí vai…nenhuma dessas afirmações pareciam lunaticas época talvez pessoas nunca morem casas apartamentos… afirma investidor pânico após queda ações incorporadoras vi filme tantas vezes polishop forma joint venture wiz entra mercado seguros adriano pires diesel transição energética rússia impõe sanções contra janet yellen autoridades americanas wiz polishop criam joint venture finance news wizs take blip capta us milhões levar conversa empresas chats negociação criptomoedas sobe brasil acelerando criação real digital regulamentação justiça determina servidores grupo risco precisam voltar trabalho presencial carrefour brasil ativo=crfb conclui compra grupo big confirma abilio diniz vice-presidência conselho apple vai metaverso conheça plano empresa ter óculos rv próprio governo quer usar dinheiro privatização eletrobras reduzir preço diesel projeto lei limita cobrança icms segue votação senado diversidade caso amber heard johnny depp ganha repercussão internacional pode afetar diretamente muitas mulheres sofrem violência escrevem isabela rahal juliana barros coluna vozes hoje bússola wgsn lança plataforma informações essenciais moda microempreendedores dizem gurus sobre futuro criptoativos último post notícias vamos sempre defender liberdade imprensa campanha consórcio veículos imprensa democracia morning call desta terça-feira junho comentamos últimos dados mercado trabalho brasil segundo bloco falamos sobre expectativas coletadas banco central patrocinado bancosafra spx sai commodities aposta china transportes consumo spx sai commodities aposta china transportes consumo mercado dá poucos sinais expectativas recessão diz deutsche carrefour brasil abilio diniz vice-presidente ca companhia finance news crfb museu nacional completa anos exposição baleia-cachalote esg somente primeiros três meses deste ano quase oito milhões brasileiros afetados catástrofes ambientais escreve danilo maeda coluna hoje bússola cvc reservas confirmadas crescem maio seguem abaixo pré-pandemia brasil mil empresas abertas abril alta bolsas caem atenção inflação após dados alemanha medidas reduzir preços combustíveis assuntos hoje healthtech alice lança plano saúde empresas limite reajuste casal brasileiros produz raros vinhos chile mercados nesta terça minério ferro petróleo notícias corporativas finance news ações bolsa minério petróleo cidades interior sp voltam registrar alta afastamento servidores covid bolsonaro propõe zerar icms ressarcir estados pacote baixar preço combustíveis divide opiniões especialistas indústria governadores criticam compensação parcial corte icms sugerido bolsonaro plano combustível barato cvc eletrobras move mercado mendonça suspende julgamento sobre mandato deputado após votos cassação hoje dia liberdade imprensa imprensa livre representa pilares democracia moderna prévia programa governo lula traz revogações teto gastos reforma trabalhista investimento imóvel aluguel menor rentabilidade renda fixa eletrobras uso fgts fundo prazo mínimo aplicação entenda produção veículos vai crescer maio anfavea divulga resultados daslu após escândalos marca luxo vai leilão milhão relembre história onde vai icms negociação sobre corte combustíveis continua senado fgts confira investir diretamente ações eletrobras aperto mercado gás natural inverno pode gerar danos duradouros economia europa aponta bofa stockmktnewz congresstrading sempre acerta onde assistir sorteio oitavas final copa brasil vivo onde assistir vivo jogo alemanha inglaterra hoje terça-feira veja horário onde assistir vivo jogo emirados árabes austrália hoje terça veja horário onde assistir vivo jogo corinthians hoje terça-feira veja horário jogos futebol hoje terça-feira onde assistir vivo horários\""
      ]
     },
     "execution_count": 140,
     "metadata": {},
     "output_type": "execute_result"
    }
   ],
   "source": [
    "pre_processamento(tweets_agregados.iloc[839,2])"
   ]
  },
  {
   "cell_type": "markdown",
   "id": "39740e2a",
   "metadata": {},
   "source": [
    "A função lambda abaico aplica a função *pre-processamento()* a cada célula do dataframe *tweets_agregados*:"
   ]
  },
  {
   "cell_type": "code",
   "execution_count": 141,
   "id": "0e413bcb",
   "metadata": {},
   "outputs": [],
   "source": [
    "tweets_agregados['texto_processado'] = tweets_agregados.apply(lambda row: pre_processamento(row['text']), axis=1)"
   ]
  },
  {
   "cell_type": "code",
   "execution_count": 142,
   "id": "216e26e9",
   "metadata": {},
   "outputs": [
    {
     "data": {
      "text/html": [
       "<div>\n",
       "<style scoped>\n",
       "    .dataframe tbody tr th:only-of-type {\n",
       "        vertical-align: middle;\n",
       "    }\n",
       "\n",
       "    .dataframe tbody tr th {\n",
       "        vertical-align: top;\n",
       "    }\n",
       "\n",
       "    .dataframe thead th {\n",
       "        text-align: right;\n",
       "    }\n",
       "</style>\n",
       "<table border=\"1\" class=\"dataframe\">\n",
       "  <thead>\n",
       "    <tr style=\"text-align: right;\">\n",
       "      <th></th>\n",
       "      <th>data</th>\n",
       "      <th>hora_ajustada</th>\n",
       "      <th>text</th>\n",
       "      <th>texto_processado</th>\n",
       "    </tr>\n",
       "  </thead>\n",
       "  <tbody>\n",
       "    <tr>\n",
       "      <th>0</th>\n",
       "      <td>2022-02-01</td>\n",
       "      <td>10</td>\n",
       "      <td>Dica de #leitura direto da nossa #biblioteca pra você:\\n\\n📚 A psicologia financeira\\nO #livro tr...</td>\n",
       "      <td>dica leitura direto biblioteca pra psicologia financeira livro traz casos sucesso fracassos most...</td>\n",
       "    </tr>\n",
       "    <tr>\n",
       "      <th>1</th>\n",
       "      <td>2022-02-01</td>\n",
       "      <td>12</td>\n",
       "      <td>BLOCK TRADE.  Starboard vende metade da posição em 3R, pondo fim ao overhang https://t.co/Pf4m7U...</td>\n",
       "      <td>block trade starboard vende metade posição pondo fim overhang rrrp</td>\n",
       "    </tr>\n",
       "    <tr>\n",
       "      <th>2</th>\n",
       "      <td>2022-02-01</td>\n",
       "      <td>13</td>\n",
       "      <td>Atualização das 13h30: Vale, 3R, Banco Pan, Randon e outros destaques - Finance News \\nhttps://t...</td>\n",
       "      <td>atualização vale banco pan randon outros destaques finance news rrrp rapt bpan petr ibovespa</td>\n",
       "    </tr>\n",
       "    <tr>\n",
       "      <th>3</th>\n",
       "      <td>2022-02-01</td>\n",
       "      <td>14</td>\n",
       "      <td>⚠️ #IbovespaFuturo registra queda. Entenda por que.   📉\\n\\nVeja essa e outras #notícias que vão ...</td>\n",
       "      <td>⚠️ ibovespafuturo registra queda entenda veja outras notícias vão movimentar mercadofinanceiro i...</td>\n",
       "    </tr>\n",
       "    <tr>\n",
       "      <th>4</th>\n",
       "      <td>2022-02-01</td>\n",
       "      <td>16</td>\n",
       "      <td>Lucro ajustado da Romi cresce e soma R$ 54,7 milhões no 4T21 - Finance News \\nhttps://t.co/C0Mmw...</td>\n",
       "      <td>lucro ajustado romi cresce soma milhões finance news romi romi queda techs fator lula projeções ...</td>\n",
       "    </tr>\n",
       "  </tbody>\n",
       "</table>\n",
       "</div>"
      ],
      "text/plain": [
       "         data  hora_ajustada  \\\n",
       "0  2022-02-01             10   \n",
       "1  2022-02-01             12   \n",
       "2  2022-02-01             13   \n",
       "3  2022-02-01             14   \n",
       "4  2022-02-01             16   \n",
       "\n",
       "                                                                                                  text  \\\n",
       "0  Dica de #leitura direto da nossa #biblioteca pra você:\\n\\n📚 A psicologia financeira\\nO #livro tr...   \n",
       "1  BLOCK TRADE.  Starboard vende metade da posição em 3R, pondo fim ao overhang https://t.co/Pf4m7U...   \n",
       "2  Atualização das 13h30: Vale, 3R, Banco Pan, Randon e outros destaques - Finance News \\nhttps://t...   \n",
       "3  ⚠️ #IbovespaFuturo registra queda. Entenda por que.   📉\\n\\nVeja essa e outras #notícias que vão ...   \n",
       "4  Lucro ajustado da Romi cresce e soma R$ 54,7 milhões no 4T21 - Finance News \\nhttps://t.co/C0Mmw...   \n",
       "\n",
       "                                                                                      texto_processado  \n",
       "0  dica leitura direto biblioteca pra psicologia financeira livro traz casos sucesso fracassos most...  \n",
       "1                                   block trade starboard vende metade posição pondo fim overhang rrrp  \n",
       "2         atualização vale banco pan randon outros destaques finance news rrrp rapt bpan petr ibovespa  \n",
       "3  ⚠️ ibovespafuturo registra queda entenda veja outras notícias vão movimentar mercadofinanceiro i...  \n",
       "4  lucro ajustado romi cresce soma milhões finance news romi romi queda techs fator lula projeções ...  "
      ]
     },
     "execution_count": 142,
     "metadata": {},
     "output_type": "execute_result"
    }
   ],
   "source": [
    "tweets_agregados.head()"
   ]
  },
  {
   "cell_type": "markdown",
   "id": "88fb61cc",
   "metadata": {},
   "source": [
    "### Análise de Sentimento"
   ]
  },
  {
   "cell_type": "code",
   "execution_count": 143,
   "id": "f025eff9",
   "metadata": {},
   "outputs": [],
   "source": [
    "from leia import SentimentIntensityAnalyzer \n",
    "\n",
    "s = SentimentIntensityAnalyzer()"
   ]
  },
  {
   "cell_type": "code",
   "execution_count": 144,
   "id": "5e238f7f",
   "metadata": {},
   "outputs": [
    {
     "data": {
      "text/plain": [
       "{'neg': 0.098, 'neu': 0.757, 'pos': 0.145, 'compound': 0.2732}"
      ]
     },
     "execution_count": 144,
     "metadata": {},
     "output_type": "execute_result"
    }
   ],
   "source": [
    "s.polarity_scores(tweets_agregados.iloc[3,3])"
   ]
  },
  {
   "cell_type": "code",
   "execution_count": 145,
   "id": "f1a11202",
   "metadata": {},
   "outputs": [
    {
     "data": {
      "text/plain": [
       "0.2732"
      ]
     },
     "execution_count": 145,
     "metadata": {},
     "output_type": "execute_result"
    }
   ],
   "source": [
    "s.polarity_scores(tweets_agregados.iloc[3,3])[\"compound\"]"
   ]
  },
  {
   "cell_type": "markdown",
   "id": "dd27e2c9",
   "metadata": {},
   "source": [
    "A função lambda abaixo aplica a medição de polaridade do sentimento a cada conjunto de tweets pré-processado:"
   ]
  },
  {
   "cell_type": "code",
   "execution_count": 146,
   "id": "260523d0",
   "metadata": {},
   "outputs": [],
   "source": [
    "tweets_agregados['sentimento'] = tweets_agregados.apply(lambda row: s.polarity_scores(row['texto_processado'])[\"compound\"], axis=1)"
   ]
  },
  {
   "cell_type": "code",
   "execution_count": 147,
   "id": "fcceea1b",
   "metadata": {},
   "outputs": [
    {
     "data": {
      "text/html": [
       "<div>\n",
       "<style scoped>\n",
       "    .dataframe tbody tr th:only-of-type {\n",
       "        vertical-align: middle;\n",
       "    }\n",
       "\n",
       "    .dataframe tbody tr th {\n",
       "        vertical-align: top;\n",
       "    }\n",
       "\n",
       "    .dataframe thead th {\n",
       "        text-align: right;\n",
       "    }\n",
       "</style>\n",
       "<table border=\"1\" class=\"dataframe\">\n",
       "  <thead>\n",
       "    <tr style=\"text-align: right;\">\n",
       "      <th></th>\n",
       "      <th>data</th>\n",
       "      <th>hora_ajustada</th>\n",
       "      <th>text</th>\n",
       "      <th>texto_processado</th>\n",
       "      <th>sentimento</th>\n",
       "    </tr>\n",
       "  </thead>\n",
       "  <tbody>\n",
       "    <tr>\n",
       "      <th>0</th>\n",
       "      <td>2022-02-01</td>\n",
       "      <td>10</td>\n",
       "      <td>Dica de #leitura direto da nossa #biblioteca pra você:\\n\\n📚 A psicologia financeira\\nO #livro tr...</td>\n",
       "      <td>dica leitura direto biblioteca pra psicologia financeira livro traz casos sucesso fracassos most...</td>\n",
       "      <td>0.7964</td>\n",
       "    </tr>\n",
       "    <tr>\n",
       "      <th>1</th>\n",
       "      <td>2022-02-01</td>\n",
       "      <td>12</td>\n",
       "      <td>BLOCK TRADE.  Starboard vende metade da posição em 3R, pondo fim ao overhang https://t.co/Pf4m7U...</td>\n",
       "      <td>block trade starboard vende metade posição pondo fim overhang rrrp</td>\n",
       "      <td>0.0000</td>\n",
       "    </tr>\n",
       "    <tr>\n",
       "      <th>2</th>\n",
       "      <td>2022-02-01</td>\n",
       "      <td>13</td>\n",
       "      <td>Atualização das 13h30: Vale, 3R, Banco Pan, Randon e outros destaques - Finance News \\nhttps://t...</td>\n",
       "      <td>atualização vale banco pan randon outros destaques finance news rrrp rapt bpan petr ibovespa</td>\n",
       "      <td>-0.4767</td>\n",
       "    </tr>\n",
       "    <tr>\n",
       "      <th>3</th>\n",
       "      <td>2022-02-01</td>\n",
       "      <td>14</td>\n",
       "      <td>⚠️ #IbovespaFuturo registra queda. Entenda por que.   📉\\n\\nVeja essa e outras #notícias que vão ...</td>\n",
       "      <td>⚠️ ibovespafuturo registra queda entenda veja outras notícias vão movimentar mercadofinanceiro i...</td>\n",
       "      <td>0.2732</td>\n",
       "    </tr>\n",
       "    <tr>\n",
       "      <th>4</th>\n",
       "      <td>2022-02-01</td>\n",
       "      <td>16</td>\n",
       "      <td>Lucro ajustado da Romi cresce e soma R$ 54,7 milhões no 4T21 - Finance News \\nhttps://t.co/C0Mmw...</td>\n",
       "      <td>lucro ajustado romi cresce soma milhões finance news romi romi queda techs fator lula projeções ...</td>\n",
       "      <td>0.9231</td>\n",
       "    </tr>\n",
       "    <tr>\n",
       "      <th>5</th>\n",
       "      <td>2022-02-02</td>\n",
       "      <td>10</td>\n",
       "      <td>Rápidas: BTG, Meal, petroleiras, BRF, Santander, Cielo - Finance News \\nhttps://t.co/Vs6GpzIWCW\\...</td>\n",
       "      <td>rápidas btg meal petroleiras brf santander cielo finance news bpac brfs sanb</td>\n",
       "      <td>0.0000</td>\n",
       "    </tr>\n",
       "    <tr>\n",
       "      <th>6</th>\n",
       "      <td>2022-02-02</td>\n",
       "      <td>11</td>\n",
       "      <td>Ações do Santander têm queda firme após balanço abaixo do esperado pelo mercado | Finanças | Val...</td>\n",
       "      <td>ações santander têm queda firme após balanço abaixo esperado mercado finanças valor econômico</td>\n",
       "      <td>0.4019</td>\n",
       "    </tr>\n",
       "    <tr>\n",
       "      <th>7</th>\n",
       "      <td>2022-02-02</td>\n",
       "      <td>12</td>\n",
       "      <td>Vendas de veículos caem e têm pior janeiro em 17 anos, diz Fenabrave - Economia https://t.co/5za...</td>\n",
       "      <td>vendas veículos caem têm pior janeiro anos diz fenabrave economia</td>\n",
       "      <td>-0.6249</td>\n",
       "    </tr>\n",
       "    <tr>\n",
       "      <th>8</th>\n",
       "      <td>2022-02-02</td>\n",
       "      <td>13</td>\n",
       "      <td>Atualização das 13h30: IRB, Assaí, BRF e outros destaques - Finance News \\nhttps://t.co/fY2q7nE1...</td>\n",
       "      <td>atualização irb assaí brf outros destaques finance news irbr ibovespa asai lov that chicken maio...</td>\n",
       "      <td>0.8555</td>\n",
       "    </tr>\n",
       "    <tr>\n",
       "      <th>9</th>\n",
       "      <td>2022-02-02</td>\n",
       "      <td>14</td>\n",
       "      <td>Ministério da Economia estuda cortes no IPI de 15% a 30%, diz fonte da pasta | Brasil | Valor Ec...</td>\n",
       "      <td>ministério economia estuda cortes ipi diz fonte pasta brasil valor econômico</td>\n",
       "      <td>0.4019</td>\n",
       "    </tr>\n",
       "  </tbody>\n",
       "</table>\n",
       "</div>"
      ],
      "text/plain": [
       "         data  hora_ajustada  \\\n",
       "0  2022-02-01             10   \n",
       "1  2022-02-01             12   \n",
       "2  2022-02-01             13   \n",
       "3  2022-02-01             14   \n",
       "4  2022-02-01             16   \n",
       "5  2022-02-02             10   \n",
       "6  2022-02-02             11   \n",
       "7  2022-02-02             12   \n",
       "8  2022-02-02             13   \n",
       "9  2022-02-02             14   \n",
       "\n",
       "                                                                                                  text  \\\n",
       "0  Dica de #leitura direto da nossa #biblioteca pra você:\\n\\n📚 A psicologia financeira\\nO #livro tr...   \n",
       "1  BLOCK TRADE.  Starboard vende metade da posição em 3R, pondo fim ao overhang https://t.co/Pf4m7U...   \n",
       "2  Atualização das 13h30: Vale, 3R, Banco Pan, Randon e outros destaques - Finance News \\nhttps://t...   \n",
       "3  ⚠️ #IbovespaFuturo registra queda. Entenda por que.   📉\\n\\nVeja essa e outras #notícias que vão ...   \n",
       "4  Lucro ajustado da Romi cresce e soma R$ 54,7 milhões no 4T21 - Finance News \\nhttps://t.co/C0Mmw...   \n",
       "5  Rápidas: BTG, Meal, petroleiras, BRF, Santander, Cielo - Finance News \\nhttps://t.co/Vs6GpzIWCW\\...   \n",
       "6  Ações do Santander têm queda firme após balanço abaixo do esperado pelo mercado | Finanças | Val...   \n",
       "7  Vendas de veículos caem e têm pior janeiro em 17 anos, diz Fenabrave - Economia https://t.co/5za...   \n",
       "8  Atualização das 13h30: IRB, Assaí, BRF e outros destaques - Finance News \\nhttps://t.co/fY2q7nE1...   \n",
       "9  Ministério da Economia estuda cortes no IPI de 15% a 30%, diz fonte da pasta | Brasil | Valor Ec...   \n",
       "\n",
       "                                                                                      texto_processado  \\\n",
       "0  dica leitura direto biblioteca pra psicologia financeira livro traz casos sucesso fracassos most...   \n",
       "1                                   block trade starboard vende metade posição pondo fim overhang rrrp   \n",
       "2         atualização vale banco pan randon outros destaques finance news rrrp rapt bpan petr ibovespa   \n",
       "3  ⚠️ ibovespafuturo registra queda entenda veja outras notícias vão movimentar mercadofinanceiro i...   \n",
       "4  lucro ajustado romi cresce soma milhões finance news romi romi queda techs fator lula projeções ...   \n",
       "5                         rápidas btg meal petroleiras brf santander cielo finance news bpac brfs sanb   \n",
       "6        ações santander têm queda firme após balanço abaixo esperado mercado finanças valor econômico   \n",
       "7                                    vendas veículos caem têm pior janeiro anos diz fenabrave economia   \n",
       "8  atualização irb assaí brf outros destaques finance news irbr ibovespa asai lov that chicken maio...   \n",
       "9                         ministério economia estuda cortes ipi diz fonte pasta brasil valor econômico   \n",
       "\n",
       "   sentimento  \n",
       "0      0.7964  \n",
       "1      0.0000  \n",
       "2     -0.4767  \n",
       "3      0.2732  \n",
       "4      0.9231  \n",
       "5      0.0000  \n",
       "6      0.4019  \n",
       "7     -0.6249  \n",
       "8      0.8555  \n",
       "9      0.4019  "
      ]
     },
     "execution_count": 147,
     "metadata": {},
     "output_type": "execute_result"
    }
   ],
   "source": [
    "tweets_agregados.head(10)"
   ]
  },
  {
   "cell_type": "markdown",
   "id": "537cd541",
   "metadata": {},
   "source": [
    "### Ajustando o índice para data e hora"
   ]
  },
  {
   "cell_type": "code",
   "execution_count": 148,
   "id": "d1d7ba67",
   "metadata": {},
   "outputs": [],
   "source": [
    "tweets_agregados[\"data\"] = tweets_agregados[\"data\"].astype(str)\n",
    "tweets_agregados[\"hora_ajustada\"] = tweets_agregados[\"hora_ajustada\"].astype(str)"
   ]
  },
  {
   "cell_type": "code",
   "execution_count": 149,
   "id": "c1b3b9df",
   "metadata": {},
   "outputs": [
    {
     "data": {
      "text/plain": [
       "dtype('O')"
      ]
     },
     "execution_count": 149,
     "metadata": {},
     "output_type": "execute_result"
    }
   ],
   "source": [
    "tweets_agregados[\"data\"].dtype"
   ]
  },
  {
   "cell_type": "code",
   "execution_count": 150,
   "id": "a44ccb16",
   "metadata": {},
   "outputs": [
    {
     "data": {
      "text/plain": [
       "dtype('O')"
      ]
     },
     "execution_count": 150,
     "metadata": {},
     "output_type": "execute_result"
    }
   ],
   "source": [
    "tweets_agregados[\"hora_ajustada\"].dtype"
   ]
  },
  {
   "cell_type": "code",
   "execution_count": 155,
   "id": "07708772",
   "metadata": {},
   "outputs": [],
   "source": [
    "lista_horas = tweets_agregados[\"hora_ajustada\"].tolist()\n",
    "lista_datas = tweets_agregados[\"data\"].tolist()"
   ]
  },
  {
   "cell_type": "code",
   "execution_count": 172,
   "id": "3a2bdecb",
   "metadata": {},
   "outputs": [],
   "source": [
    "lista_indice = [pd.to_datetime(lista_datas[d]+ \" \" + lista_horas[d] + \":00:00-03:00\") for d in range(len(lista_datas))]"
   ]
  },
  {
   "cell_type": "code",
   "execution_count": 173,
   "id": "349b28e7",
   "metadata": {},
   "outputs": [],
   "source": [
    "tweets_agregados.index = lista_indice"
   ]
  },
  {
   "cell_type": "code",
   "execution_count": 178,
   "id": "3b69ebeb",
   "metadata": {},
   "outputs": [
    {
     "data": {
      "text/html": [
       "<div>\n",
       "<style scoped>\n",
       "    .dataframe tbody tr th:only-of-type {\n",
       "        vertical-align: middle;\n",
       "    }\n",
       "\n",
       "    .dataframe tbody tr th {\n",
       "        vertical-align: top;\n",
       "    }\n",
       "\n",
       "    .dataframe thead th {\n",
       "        text-align: right;\n",
       "    }\n",
       "</style>\n",
       "<table border=\"1\" class=\"dataframe\">\n",
       "  <thead>\n",
       "    <tr style=\"text-align: right;\">\n",
       "      <th></th>\n",
       "      <th>data</th>\n",
       "      <th>hora_ajustada</th>\n",
       "      <th>text</th>\n",
       "      <th>texto_processado</th>\n",
       "      <th>sentimento</th>\n",
       "    </tr>\n",
       "  </thead>\n",
       "  <tbody>\n",
       "    <tr>\n",
       "      <th>2022-06-04 11:00:00-03:00</th>\n",
       "      <td>2022-06-04</td>\n",
       "      <td>11</td>\n",
       "      <td>Engenheiro é o segundo brasileiro a viajar ao espaço https://t.co/WQvvfoBR5T Saudades do ‘arraiá...</td>\n",
       "      <td>engenheiro segundo brasileiro viajar espaço saudades arraiá volta festas joão anima mercado even...</td>\n",
       "      <td>0.7430</td>\n",
       "    </tr>\n",
       "    <tr>\n",
       "      <th>2022-06-04 12:00:00-03:00</th>\n",
       "      <td>2022-06-04</td>\n",
       "      <td>12</td>\n",
       "      <td>Guedes promete unificar data de pagamento de tributos das empresas https://t.co/8trsgNbpva Estre...</td>\n",
       "      <td>guedes promete unificar data pagamento tributos empresas estrelas pop homenageiam rainha elisabe...</td>\n",
       "      <td>0.5859</td>\n",
       "    </tr>\n",
       "    <tr>\n",
       "      <th>2022-06-04 13:00:00-03:00</th>\n",
       "      <td>2022-06-04</td>\n",
       "      <td>13</td>\n",
       "      <td>PUBG, a rara diversão no sombrio universo do Afeganistão https://t.co/XK4CwKwVCu “Medo não impor...</td>\n",
       "      <td>pubg rara diversão sombrio universo afeganistão medo importava diz victor hespanha segundo brasi...</td>\n",
       "      <td>-0.4588</td>\n",
       "    </tr>\n",
       "    <tr>\n",
       "      <th>2022-06-04 14:00:00-03:00</th>\n",
       "      <td>2022-06-04</td>\n",
       "      <td>14</td>\n",
       "      <td>Mercado de aço perde força desde abril e siderúrgicas seguram reajustes de preços | Empresas | V...</td>\n",
       "      <td>mercado aço perde força desde abril siderúrgicas seguram reajustes preços empresas valor econômi...</td>\n",
       "      <td>0.7506</td>\n",
       "    </tr>\n",
       "    <tr>\n",
       "      <th>2022-06-04 15:00:00-03:00</th>\n",
       "      <td>2022-06-04</td>\n",
       "      <td>15</td>\n",
       "      <td>Seria possível um novo governo reestatizar a Eletrobras (ELET3;ELET6)? https://t.co/REdjzXCVlC V...</td>\n",
       "      <td>possível novo governo reestatizar eletrobras elet elet vivemos onda covid entenda motivos alta c...</td>\n",
       "      <td>0.3182</td>\n",
       "    </tr>\n",
       "    <tr>\n",
       "      <th>2022-06-04 16:00:00-03:00</th>\n",
       "      <td>2022-06-04</td>\n",
       "      <td>16</td>\n",
       "      <td>@MarioWorms1983 https://t.co/MU0l7pmXk0 Gasolina mais cara faz pessoas trocarem carro por ônibus...</td>\n",
       "      <td>marioworms gasolina cara faz pessoas trocarem carro ônibus mostra estudo honra rodrigofm excelen...</td>\n",
       "      <td>0.9712</td>\n",
       "    </tr>\n",
       "    <tr>\n",
       "      <th>2022-06-05 10:00:00-03:00</th>\n",
       "      <td>2022-06-05</td>\n",
       "      <td>10</td>\n",
       "      <td>IPCA, preço de oferta da Eletrobras e assembleia sobre fusão entre Aliansce e brMalls: o que aco...</td>\n",
       "      <td>ipca preço oferta eletrobras assembleia sobre fusão aliansce brmalls acompanhar semana ipca elet...</td>\n",
       "      <td>-0.7579</td>\n",
       "    </tr>\n",
       "    <tr>\n",
       "      <th>2022-06-05 11:00:00-03:00</th>\n",
       "      <td>2022-06-05</td>\n",
       "      <td>11</td>\n",
       "      <td>Pix Parcelado: como comparar vantagens, juros e modalidades? Veja se a ferramenta serve para voc...</td>\n",
       "      <td>pix parcelado comparar vantagens juros modalidades veja ferramenta serve dia meio ambiente token...</td>\n",
       "      <td>0.3612</td>\n",
       "    </tr>\n",
       "    <tr>\n",
       "      <th>2022-06-05 12:00:00-03:00</th>\n",
       "      <td>2022-06-05</td>\n",
       "      <td>12</td>\n",
       "      <td>Tarcísio afirma que irá revogar impostos em São Paulo\\nhttps://t.co/Lfz9Z69A1s Vinhos de Portuga...</td>\n",
       "      <td>tarcísio afirma irá revogar impostos paulo vinhos portugal chega último dia novas provas bate-pa...</td>\n",
       "      <td>-0.2960</td>\n",
       "    </tr>\n",
       "    <tr>\n",
       "      <th>2022-06-05 13:00:00-03:00</th>\n",
       "      <td>2022-06-05</td>\n",
       "      <td>13</td>\n",
       "      <td>Pequim retira restrições contra a covid após surto epidêmico https://t.co/LxtJp09cpX ARTIGO: O q...</td>\n",
       "      <td>pequim retira restrições contra covid após surto epidêmico artigo significa desistência doria ti...</td>\n",
       "      <td>0.0000</td>\n",
       "    </tr>\n",
       "    <tr>\n",
       "      <th>2022-06-05 14:00:00-03:00</th>\n",
       "      <td>2022-06-05</td>\n",
       "      <td>14</td>\n",
       "      <td>Governo cria câmara para ‘qualificar dados de desmatamento’ sem técnicos do Inpe\\nhttps://t.co/E...</td>\n",
       "      <td>governo cria câmara qualificar dados desmatamento técnicos inpe brasil recicla apenas resíduos s...</td>\n",
       "      <td>0.2732</td>\n",
       "    </tr>\n",
       "    <tr>\n",
       "      <th>2022-06-05 15:00:00-03:00</th>\n",
       "      <td>2022-06-05</td>\n",
       "      <td>15</td>\n",
       "      <td>O que os CFOs estão planejando se a economia desandar\\nhttps://t.co/yDmgnxDTtY Teto para ICMS: e...</td>\n",
       "      <td>cfos planejando economia desandar teto icms entenda próximos passos proposta ucrânia vê sonho co...</td>\n",
       "      <td>0.1779</td>\n",
       "    </tr>\n",
       "    <tr>\n",
       "      <th>2022-06-05 16:00:00-03:00</th>\n",
       "      <td>2022-06-05</td>\n",
       "      <td>16</td>\n",
       "      <td>Furnas: suspensão de assembleia de debenturistas pode afetar oferta da Eletrobras Por Estadão Co...</td>\n",
       "      <td>furnas suspensão assembleia debenturistas pode afetar oferta eletrobras estadão conteúdo eletrob...</td>\n",
       "      <td>0.9949</td>\n",
       "    </tr>\n",
       "    <tr>\n",
       "      <th>2022-06-06 10:00:00-03:00</th>\n",
       "      <td>2022-06-06</td>\n",
       "      <td>10</td>\n",
       "      <td>Mais de dois terços das pessoas no mundo têm anticorpos contra covid, diz OMS https://t.co/QxDEo...</td>\n",
       "      <td>dois terços pessoas mundo têm anticorpos contra covid diz oms elon musk diz twitter cumprindo ob...</td>\n",
       "      <td>-0.1027</td>\n",
       "    </tr>\n",
       "    <tr>\n",
       "      <th>2022-06-06 11:00:00-03:00</th>\n",
       "      <td>2022-06-06</td>\n",
       "      <td>11</td>\n",
       "      <td>Eletrobras: Justiça derruba liminar que suspendia assembleia  - Finance News \\nhttps://t.co/bIBe...</td>\n",
       "      <td>eletrobras justiça derruba liminar suspendia assembleia finance news elet preço etanol recua pos...</td>\n",
       "      <td>0.9477</td>\n",
       "    </tr>\n",
       "    <tr>\n",
       "      <th>2022-06-06 12:00:00-03:00</th>\n",
       "      <td>2022-06-06</td>\n",
       "      <td>12</td>\n",
       "      <td>Criação de PIX custou US$ 4 milhões, diz presidente do Banco Central https://t.co/ZIns9QMySb Pri...</td>\n",
       "      <td>criação pix custou us milhões diz presidente banco central privatizar petrobras petr levaria men...</td>\n",
       "      <td>0.4939</td>\n",
       "    </tr>\n",
       "    <tr>\n",
       "      <th>2022-06-06 13:00:00-03:00</th>\n",
       "      <td>2022-06-06</td>\n",
       "      <td>13</td>\n",
       "      <td>@DividendGrowth enough said! Veja a carteira de crédito privado do Safra desse mês que contempla...</td>\n",
       "      <td>dividendgrowth enough said veja carteira crédito privado safra desse mês contempla títulos poden...</td>\n",
       "      <td>-0.0772</td>\n",
       "    </tr>\n",
       "    <tr>\n",
       "      <th>2022-06-06 14:00:00-03:00</th>\n",
       "      <td>2022-06-06</td>\n",
       "      <td>14</td>\n",
       "      <td>Live: Soluções para proteger Amazônia e gerar empregos já existem no Brasil e no mundo, dizem es...</td>\n",
       "      <td>live soluções proteger amazônia gerar empregos existem brasil mundo dizem especialistas furnas d...</td>\n",
       "      <td>0.6705</td>\n",
       "    </tr>\n",
       "    <tr>\n",
       "      <th>2022-06-06 15:00:00-03:00</th>\n",
       "      <td>2022-06-06</td>\n",
       "      <td>15</td>\n",
       "      <td>Yuga Labs confirma ataque hacker que roubou US$ 360 mil em NFTs https://t.co/dxroXxAswq Corretor...</td>\n",
       "      <td>yuga labs confirma ataque hacker roubou us mil nfts corretoras cripto descentralizadas ainda mov...</td>\n",
       "      <td>0.2500</td>\n",
       "    </tr>\n",
       "    <tr>\n",
       "      <th>2022-06-06 16:00:00-03:00</th>\n",
       "      <td>2022-06-06</td>\n",
       "      <td>16</td>\n",
       "      <td>RT @gracilianors: Dividendos da PETR4 e royalties de petróleo pra custear desoneração federal. C...</td>\n",
       "      <td>rt gracilianors dividendos petr royalties petróleo pra custear desoneração federal compensação e...</td>\n",
       "      <td>0.9153</td>\n",
       "    </tr>\n",
       "    <tr>\n",
       "      <th>2022-06-07 10:00:00-03:00</th>\n",
       "      <td>2022-06-07</td>\n",
       "      <td>10</td>\n",
       "      <td>Risco de estagflação aumenta com ritmo lento de crescimento, diz Banco Mundial\\nhttps://t.co/Nh2...</td>\n",
       "      <td>risco estagflação aumenta ritmo lento crescimento diz banco mundial pacheco convoca reunião gove...</td>\n",
       "      <td>0.5423</td>\n",
       "    </tr>\n",
       "    <tr>\n",
       "      <th>2022-06-07 11:00:00-03:00</th>\n",
       "      <td>2022-06-07</td>\n",
       "      <td>11</td>\n",
       "      <td>Carrefour (CRFB3) conclui aquisição do Grupo BIG e entra no grupo de 10 maiores empresas do Bras...</td>\n",
       "      <td>carrefour crfb conclui aquisição grupo big entra grupo maiores empresas brasil produção veículos...</td>\n",
       "      <td>0.4588</td>\n",
       "    </tr>\n",
       "    <tr>\n",
       "      <th>2022-06-07 12:00:00-03:00</th>\n",
       "      <td>2022-06-07</td>\n",
       "      <td>12</td>\n",
       "      <td>Japão e Otan reforçam laços ante invasão da Rússia na Ucrânia e focando China https://t.co/R24QF...</td>\n",
       "      <td>japão otan reforçam laços ante invasão rússia ucrânia focando china caminhoneiros chamam propost...</td>\n",
       "      <td>0.9026</td>\n",
       "    </tr>\n",
       "    <tr>\n",
       "      <th>2022-06-07 13:00:00-03:00</th>\n",
       "      <td>2022-06-07</td>\n",
       "      <td>13</td>\n",
       "      <td>Aporte de Furnas em usina abre caminho para Eletrobras\\nhttps://t.co/ZsXz6gspQw Eletrobras: Saib...</td>\n",
       "      <td>aporte furnas usina abre caminho eletrobras eletrobras saiba quais riscos envolvidos oferta açõe...</td>\n",
       "      <td>-0.9260</td>\n",
       "    </tr>\n",
       "    <tr>\n",
       "      <th>2022-06-07 14:00:00-03:00</th>\n",
       "      <td>2022-06-07</td>\n",
       "      <td>14</td>\n",
       "      <td>Exposição na Casa de Cultura Laura Alvim reúne 20 artistas https://t.co/bxvRrO7t0T Fiat Strada m...</td>\n",
       "      <td>exposição casa cultura laura alvim reúne artistas fiat strada mantém liderança vendidos maio vej...</td>\n",
       "      <td>-0.4215</td>\n",
       "    </tr>\n",
       "    <tr>\n",
       "      <th>2022-06-07 15:00:00-03:00</th>\n",
       "      <td>2022-06-07</td>\n",
       "      <td>15</td>\n",
       "      <td>Senadoras americanas lançam projeto de lei para criptomoedas https://t.co/HEnQuBIRXN Live do Val...</td>\n",
       "      <td>senadoras americanas lançam projeto lei criptomoedas live valor infantojuvenil infanto-juvenil d...</td>\n",
       "      <td>0.2732</td>\n",
       "    </tr>\n",
       "    <tr>\n",
       "      <th>2022-06-07 16:00:00-03:00</th>\n",
       "      <td>2022-06-07</td>\n",
       "      <td>16</td>\n",
       "      <td>Negritudes 22: Evento valoriza as narrativas pretas\\nhttps://t.co/kJMsgm7njr Pacheco fala em “cl...</td>\n",
       "      <td>negritudes evento valoriza narrativas pretas pacheco fala clamor sobre combustíveis promete ouvi...</td>\n",
       "      <td>0.9962</td>\n",
       "    </tr>\n",
       "    <tr>\n",
       "      <th>2022-06-08 10:00:00-03:00</th>\n",
       "      <td>2022-06-08</td>\n",
       "      <td>10</td>\n",
       "      <td>CSN Mineração (CMIN3) emitirá R$ 1,4 bi em debêntures; SLC (SLCE3) eleva previsão de produção, t...</td>\n",
       "      <td>csn mineração cmin emitirá bi debêntures slc slce eleva previsão produção tráfego ecorodovias ec...</td>\n",
       "      <td>-0.8750</td>\n",
       "    </tr>\n",
       "    <tr>\n",
       "      <th>2022-06-08 11:00:00-03:00</th>\n",
       "      <td>2022-06-08</td>\n",
       "      <td>11</td>\n",
       "      <td>Três companhias divulgaram informações sobre proventos. Confira: - Finance News \\nhttps://t.co/w...</td>\n",
       "      <td>três companhias divulgaram informações sobre proventos confira finance news brsr romi cpfe cláss...</td>\n",
       "      <td>-0.1531</td>\n",
       "    </tr>\n",
       "    <tr>\n",
       "      <th>2022-06-08 16:00:00-03:00</th>\n",
       "      <td>2022-06-08</td>\n",
       "      <td>16</td>\n",
       "      <td>É agora! Economia circular para além da reciclagem: https://t.co/WeMWxpbrtw Teorias da conspiraç...</td>\n",
       "      <td>agora economia circular além reciclagem teorias conspiração prejudicam projeto acordo global pre...</td>\n",
       "      <td>-0.4404</td>\n",
       "    </tr>\n",
       "  </tbody>\n",
       "</table>\n",
       "</div>"
      ],
      "text/plain": [
       "                                 data hora_ajustada  \\\n",
       "2022-06-04 11:00:00-03:00  2022-06-04            11   \n",
       "2022-06-04 12:00:00-03:00  2022-06-04            12   \n",
       "2022-06-04 13:00:00-03:00  2022-06-04            13   \n",
       "2022-06-04 14:00:00-03:00  2022-06-04            14   \n",
       "2022-06-04 15:00:00-03:00  2022-06-04            15   \n",
       "2022-06-04 16:00:00-03:00  2022-06-04            16   \n",
       "2022-06-05 10:00:00-03:00  2022-06-05            10   \n",
       "2022-06-05 11:00:00-03:00  2022-06-05            11   \n",
       "2022-06-05 12:00:00-03:00  2022-06-05            12   \n",
       "2022-06-05 13:00:00-03:00  2022-06-05            13   \n",
       "2022-06-05 14:00:00-03:00  2022-06-05            14   \n",
       "2022-06-05 15:00:00-03:00  2022-06-05            15   \n",
       "2022-06-05 16:00:00-03:00  2022-06-05            16   \n",
       "2022-06-06 10:00:00-03:00  2022-06-06            10   \n",
       "2022-06-06 11:00:00-03:00  2022-06-06            11   \n",
       "2022-06-06 12:00:00-03:00  2022-06-06            12   \n",
       "2022-06-06 13:00:00-03:00  2022-06-06            13   \n",
       "2022-06-06 14:00:00-03:00  2022-06-06            14   \n",
       "2022-06-06 15:00:00-03:00  2022-06-06            15   \n",
       "2022-06-06 16:00:00-03:00  2022-06-06            16   \n",
       "2022-06-07 10:00:00-03:00  2022-06-07            10   \n",
       "2022-06-07 11:00:00-03:00  2022-06-07            11   \n",
       "2022-06-07 12:00:00-03:00  2022-06-07            12   \n",
       "2022-06-07 13:00:00-03:00  2022-06-07            13   \n",
       "2022-06-07 14:00:00-03:00  2022-06-07            14   \n",
       "2022-06-07 15:00:00-03:00  2022-06-07            15   \n",
       "2022-06-07 16:00:00-03:00  2022-06-07            16   \n",
       "2022-06-08 10:00:00-03:00  2022-06-08            10   \n",
       "2022-06-08 11:00:00-03:00  2022-06-08            11   \n",
       "2022-06-08 16:00:00-03:00  2022-06-08            16   \n",
       "\n",
       "                                                                                                                          text  \\\n",
       "2022-06-04 11:00:00-03:00  Engenheiro é o segundo brasileiro a viajar ao espaço https://t.co/WQvvfoBR5T Saudades do ‘arraiá...   \n",
       "2022-06-04 12:00:00-03:00  Guedes promete unificar data de pagamento de tributos das empresas https://t.co/8trsgNbpva Estre...   \n",
       "2022-06-04 13:00:00-03:00  PUBG, a rara diversão no sombrio universo do Afeganistão https://t.co/XK4CwKwVCu “Medo não impor...   \n",
       "2022-06-04 14:00:00-03:00  Mercado de aço perde força desde abril e siderúrgicas seguram reajustes de preços | Empresas | V...   \n",
       "2022-06-04 15:00:00-03:00  Seria possível um novo governo reestatizar a Eletrobras (ELET3;ELET6)? https://t.co/REdjzXCVlC V...   \n",
       "2022-06-04 16:00:00-03:00  @MarioWorms1983 https://t.co/MU0l7pmXk0 Gasolina mais cara faz pessoas trocarem carro por ônibus...   \n",
       "2022-06-05 10:00:00-03:00  IPCA, preço de oferta da Eletrobras e assembleia sobre fusão entre Aliansce e brMalls: o que aco...   \n",
       "2022-06-05 11:00:00-03:00  Pix Parcelado: como comparar vantagens, juros e modalidades? Veja se a ferramenta serve para voc...   \n",
       "2022-06-05 12:00:00-03:00  Tarcísio afirma que irá revogar impostos em São Paulo\\nhttps://t.co/Lfz9Z69A1s Vinhos de Portuga...   \n",
       "2022-06-05 13:00:00-03:00  Pequim retira restrições contra a covid após surto epidêmico https://t.co/LxtJp09cpX ARTIGO: O q...   \n",
       "2022-06-05 14:00:00-03:00  Governo cria câmara para ‘qualificar dados de desmatamento’ sem técnicos do Inpe\\nhttps://t.co/E...   \n",
       "2022-06-05 15:00:00-03:00  O que os CFOs estão planejando se a economia desandar\\nhttps://t.co/yDmgnxDTtY Teto para ICMS: e...   \n",
       "2022-06-05 16:00:00-03:00  Furnas: suspensão de assembleia de debenturistas pode afetar oferta da Eletrobras Por Estadão Co...   \n",
       "2022-06-06 10:00:00-03:00  Mais de dois terços das pessoas no mundo têm anticorpos contra covid, diz OMS https://t.co/QxDEo...   \n",
       "2022-06-06 11:00:00-03:00  Eletrobras: Justiça derruba liminar que suspendia assembleia  - Finance News \\nhttps://t.co/bIBe...   \n",
       "2022-06-06 12:00:00-03:00  Criação de PIX custou US$ 4 milhões, diz presidente do Banco Central https://t.co/ZIns9QMySb Pri...   \n",
       "2022-06-06 13:00:00-03:00  @DividendGrowth enough said! Veja a carteira de crédito privado do Safra desse mês que contempla...   \n",
       "2022-06-06 14:00:00-03:00  Live: Soluções para proteger Amazônia e gerar empregos já existem no Brasil e no mundo, dizem es...   \n",
       "2022-06-06 15:00:00-03:00  Yuga Labs confirma ataque hacker que roubou US$ 360 mil em NFTs https://t.co/dxroXxAswq Corretor...   \n",
       "2022-06-06 16:00:00-03:00  RT @gracilianors: Dividendos da PETR4 e royalties de petróleo pra custear desoneração federal. C...   \n",
       "2022-06-07 10:00:00-03:00  Risco de estagflação aumenta com ritmo lento de crescimento, diz Banco Mundial\\nhttps://t.co/Nh2...   \n",
       "2022-06-07 11:00:00-03:00  Carrefour (CRFB3) conclui aquisição do Grupo BIG e entra no grupo de 10 maiores empresas do Bras...   \n",
       "2022-06-07 12:00:00-03:00  Japão e Otan reforçam laços ante invasão da Rússia na Ucrânia e focando China https://t.co/R24QF...   \n",
       "2022-06-07 13:00:00-03:00  Aporte de Furnas em usina abre caminho para Eletrobras\\nhttps://t.co/ZsXz6gspQw Eletrobras: Saib...   \n",
       "2022-06-07 14:00:00-03:00  Exposição na Casa de Cultura Laura Alvim reúne 20 artistas https://t.co/bxvRrO7t0T Fiat Strada m...   \n",
       "2022-06-07 15:00:00-03:00  Senadoras americanas lançam projeto de lei para criptomoedas https://t.co/HEnQuBIRXN Live do Val...   \n",
       "2022-06-07 16:00:00-03:00  Negritudes 22: Evento valoriza as narrativas pretas\\nhttps://t.co/kJMsgm7njr Pacheco fala em “cl...   \n",
       "2022-06-08 10:00:00-03:00  CSN Mineração (CMIN3) emitirá R$ 1,4 bi em debêntures; SLC (SLCE3) eleva previsão de produção, t...   \n",
       "2022-06-08 11:00:00-03:00  Três companhias divulgaram informações sobre proventos. Confira: - Finance News \\nhttps://t.co/w...   \n",
       "2022-06-08 16:00:00-03:00  É agora! Economia circular para além da reciclagem: https://t.co/WeMWxpbrtw Teorias da conspiraç...   \n",
       "\n",
       "                                                                                                              texto_processado  \\\n",
       "2022-06-04 11:00:00-03:00  engenheiro segundo brasileiro viajar espaço saudades arraiá volta festas joão anima mercado even...   \n",
       "2022-06-04 12:00:00-03:00  guedes promete unificar data pagamento tributos empresas estrelas pop homenageiam rainha elisabe...   \n",
       "2022-06-04 13:00:00-03:00  pubg rara diversão sombrio universo afeganistão medo importava diz victor hespanha segundo brasi...   \n",
       "2022-06-04 14:00:00-03:00  mercado aço perde força desde abril siderúrgicas seguram reajustes preços empresas valor econômi...   \n",
       "2022-06-04 15:00:00-03:00  possível novo governo reestatizar eletrobras elet elet vivemos onda covid entenda motivos alta c...   \n",
       "2022-06-04 16:00:00-03:00  marioworms gasolina cara faz pessoas trocarem carro ônibus mostra estudo honra rodrigofm excelen...   \n",
       "2022-06-05 10:00:00-03:00  ipca preço oferta eletrobras assembleia sobre fusão aliansce brmalls acompanhar semana ipca elet...   \n",
       "2022-06-05 11:00:00-03:00  pix parcelado comparar vantagens juros modalidades veja ferramenta serve dia meio ambiente token...   \n",
       "2022-06-05 12:00:00-03:00  tarcísio afirma irá revogar impostos paulo vinhos portugal chega último dia novas provas bate-pa...   \n",
       "2022-06-05 13:00:00-03:00  pequim retira restrições contra covid após surto epidêmico artigo significa desistência doria ti...   \n",
       "2022-06-05 14:00:00-03:00  governo cria câmara qualificar dados desmatamento técnicos inpe brasil recicla apenas resíduos s...   \n",
       "2022-06-05 15:00:00-03:00  cfos planejando economia desandar teto icms entenda próximos passos proposta ucrânia vê sonho co...   \n",
       "2022-06-05 16:00:00-03:00  furnas suspensão assembleia debenturistas pode afetar oferta eletrobras estadão conteúdo eletrob...   \n",
       "2022-06-06 10:00:00-03:00  dois terços pessoas mundo têm anticorpos contra covid diz oms elon musk diz twitter cumprindo ob...   \n",
       "2022-06-06 11:00:00-03:00  eletrobras justiça derruba liminar suspendia assembleia finance news elet preço etanol recua pos...   \n",
       "2022-06-06 12:00:00-03:00  criação pix custou us milhões diz presidente banco central privatizar petrobras petr levaria men...   \n",
       "2022-06-06 13:00:00-03:00  dividendgrowth enough said veja carteira crédito privado safra desse mês contempla títulos poden...   \n",
       "2022-06-06 14:00:00-03:00  live soluções proteger amazônia gerar empregos existem brasil mundo dizem especialistas furnas d...   \n",
       "2022-06-06 15:00:00-03:00  yuga labs confirma ataque hacker roubou us mil nfts corretoras cripto descentralizadas ainda mov...   \n",
       "2022-06-06 16:00:00-03:00  rt gracilianors dividendos petr royalties petróleo pra custear desoneração federal compensação e...   \n",
       "2022-06-07 10:00:00-03:00  risco estagflação aumenta ritmo lento crescimento diz banco mundial pacheco convoca reunião gove...   \n",
       "2022-06-07 11:00:00-03:00  carrefour crfb conclui aquisição grupo big entra grupo maiores empresas brasil produção veículos...   \n",
       "2022-06-07 12:00:00-03:00  japão otan reforçam laços ante invasão rússia ucrânia focando china caminhoneiros chamam propost...   \n",
       "2022-06-07 13:00:00-03:00  aporte furnas usina abre caminho eletrobras eletrobras saiba quais riscos envolvidos oferta açõe...   \n",
       "2022-06-07 14:00:00-03:00  exposição casa cultura laura alvim reúne artistas fiat strada mantém liderança vendidos maio vej...   \n",
       "2022-06-07 15:00:00-03:00  senadoras americanas lançam projeto lei criptomoedas live valor infantojuvenil infanto-juvenil d...   \n",
       "2022-06-07 16:00:00-03:00  negritudes evento valoriza narrativas pretas pacheco fala clamor sobre combustíveis promete ouvi...   \n",
       "2022-06-08 10:00:00-03:00  csn mineração cmin emitirá bi debêntures slc slce eleva previsão produção tráfego ecorodovias ec...   \n",
       "2022-06-08 11:00:00-03:00  três companhias divulgaram informações sobre proventos confira finance news brsr romi cpfe cláss...   \n",
       "2022-06-08 16:00:00-03:00  agora economia circular além reciclagem teorias conspiração prejudicam projeto acordo global pre...   \n",
       "\n",
       "                           sentimento  \n",
       "2022-06-04 11:00:00-03:00      0.7430  \n",
       "2022-06-04 12:00:00-03:00      0.5859  \n",
       "2022-06-04 13:00:00-03:00     -0.4588  \n",
       "2022-06-04 14:00:00-03:00      0.7506  \n",
       "2022-06-04 15:00:00-03:00      0.3182  \n",
       "2022-06-04 16:00:00-03:00      0.9712  \n",
       "2022-06-05 10:00:00-03:00     -0.7579  \n",
       "2022-06-05 11:00:00-03:00      0.3612  \n",
       "2022-06-05 12:00:00-03:00     -0.2960  \n",
       "2022-06-05 13:00:00-03:00      0.0000  \n",
       "2022-06-05 14:00:00-03:00      0.2732  \n",
       "2022-06-05 15:00:00-03:00      0.1779  \n",
       "2022-06-05 16:00:00-03:00      0.9949  \n",
       "2022-06-06 10:00:00-03:00     -0.1027  \n",
       "2022-06-06 11:00:00-03:00      0.9477  \n",
       "2022-06-06 12:00:00-03:00      0.4939  \n",
       "2022-06-06 13:00:00-03:00     -0.0772  \n",
       "2022-06-06 14:00:00-03:00      0.6705  \n",
       "2022-06-06 15:00:00-03:00      0.2500  \n",
       "2022-06-06 16:00:00-03:00      0.9153  \n",
       "2022-06-07 10:00:00-03:00      0.5423  \n",
       "2022-06-07 11:00:00-03:00      0.4588  \n",
       "2022-06-07 12:00:00-03:00      0.9026  \n",
       "2022-06-07 13:00:00-03:00     -0.9260  \n",
       "2022-06-07 14:00:00-03:00     -0.4215  \n",
       "2022-06-07 15:00:00-03:00      0.2732  \n",
       "2022-06-07 16:00:00-03:00      0.9962  \n",
       "2022-06-08 10:00:00-03:00     -0.8750  \n",
       "2022-06-08 11:00:00-03:00     -0.1531  \n",
       "2022-06-08 16:00:00-03:00     -0.4404  "
      ]
     },
     "execution_count": 178,
     "metadata": {},
     "output_type": "execute_result"
    }
   ],
   "source": [
    "tweets_agregados.tail(30)"
   ]
  },
  {
   "cell_type": "code",
   "execution_count": 175,
   "id": "abb4c908",
   "metadata": {},
   "outputs": [
    {
     "data": {
      "text/plain": [
       "datetime64[ns, pytz.FixedOffset(-180)]"
      ]
     },
     "execution_count": 175,
     "metadata": {},
     "output_type": "execute_result"
    }
   ],
   "source": [
    "tweets_agregados.index.dtype"
   ]
  },
  {
   "cell_type": "code",
   "execution_count": 176,
   "id": "0281efd9",
   "metadata": {},
   "outputs": [],
   "source": [
    "sentimento = tweets_agregados[\"sentimento\"]"
   ]
  },
  {
   "cell_type": "code",
   "execution_count": 177,
   "id": "1a1eb95c",
   "metadata": {},
   "outputs": [
    {
     "data": {
      "text/plain": [
       "<AxesSubplot:>"
      ]
     },
     "execution_count": 177,
     "metadata": {},
     "output_type": "execute_result"
    },
    {
     "data": {
      "image/png": "[encoded data removed]",
      "text/plain": [
       "<Figure size 432x288 with 1 Axes>"
      ]
     },
     "metadata": {
      "needs_background": "light"
     },
     "output_type": "display_data"
    }
   ],
   "source": [
    "sentimento.plot()"
   ]
  },
  {
   "cell_type": "code",
   "execution_count": 179,
   "id": "3c826e82",
   "metadata": {},
   "outputs": [],
   "source": [
    "tweets_agregados.to_csv(\"data/sentimento.csv\", date_format = '%Y-%m-%d %H:%M:%S')"
   ]
  }
 ],
 "metadata": {
  "kernelspec": {
   "display_name": "Python 3",
   "language": "python",
   "name": "python3"
  },
  "language_info": {
   "codemirror_mode": {
    "name": "ipython",
    "version": 3
   },
   "file_extension": ".py",
   "mimetype": "text/x-python",
   "name": "python",
   "nbconvert_exporter": "python",
   "pygments_lexer": "ipython3",
   "version": "3.8.8"
  }
 },
 "nbformat": 4,
 "nbformat_minor": 5
}
