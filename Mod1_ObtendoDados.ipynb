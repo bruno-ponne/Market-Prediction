{
 "cells": [
  {
   "cell_type": "markdown",
   "id": "4cc5e2ab",
   "metadata": {},
   "source": [
    "# Previsão do mercado financeiro"
   ]
  },
  {
   "cell_type": "markdown",
   "id": "a793372a",
   "metadata": {},
   "source": [
    "## Módulo 1 - Base de Dados"
   ]
  },
  {
   "cell_type": "code",
   "execution_count": 11,
   "id": "22379272",
   "metadata": {},
   "outputs": [],
   "source": [
    "import pandas as pd\n",
    "import numpy as np\n",
    "import yfinance as yf\n",
    "import pytz\n",
    "from pytrends.request import TrendReq"
   ]
  },
  {
   "cell_type": "markdown",
   "id": "805413ea",
   "metadata": {},
   "source": [
    "Download dos dados por meio da biblioteca *yfinance*:"
   ]
  },
  {
   "cell_type": "code",
   "execution_count": 4,
   "id": "b58ce34f",
   "metadata": {},
   "outputs": [
    {
     "name": "stdout",
     "output_type": "stream",
     "text": [
      "[*********************100%***********************]  1 of 1 completed\n",
      "[*********************100%***********************]  1 of 1 completed\n",
      "[*********************100%***********************]  1 of 1 completed\n"
     ]
    }
   ],
   "source": [
    "petr = yf.download(tickers=\"PETR4.SA\", start = \"2020-08-01\", end = \"2022-06-08\", interval = \"60m\")\n",
    "oil = yf.download(tickers=\"CL=F\", start = \"2020-08-01\", end = \"2022-06-08\", interval = \"60m\")\n",
    "dollar = yf.download(tickers=\"BRL=X\", start = \"2020-08-01\", end = \"2022-06-08\", interval = \"60m\")"
   ]
  },
  {
   "cell_type": "markdown",
   "id": "01da2485",
   "metadata": {},
   "source": [
    "Renomeação das features de interesse em cada base:"
   ]
  },
  {
   "cell_type": "code",
   "execution_count": 5,
   "id": "4fec2153",
   "metadata": {},
   "outputs": [],
   "source": [
    "dollar.rename(columns={'Close':'dollar'}, inplace=True)\n",
    "oil.rename(columns={'Close':'oil'}, inplace=True)"
   ]
  },
  {
   "cell_type": "markdown",
   "id": "963f4558",
   "metadata": {},
   "source": [
    "Unindo os dados com left_join:"
   ]
  },
  {
   "cell_type": "code",
   "execution_count": 6,
   "id": "783789e9",
   "metadata": {},
   "outputs": [],
   "source": [
    "data01 = pd.merge(petr, oil[\"oil\"], how = \"left\", left_index=True, right_index=True)"
   ]
  },
  {
   "cell_type": "code",
   "execution_count": 7,
   "id": "513c99ec",
   "metadata": {},
   "outputs": [],
   "source": [
    "data02 = pd.merge(data01, dollar[\"dollar\"], how = \"left\", left_index=True, right_index=True)"
   ]
  },
  {
   "cell_type": "code",
   "execution_count": 8,
   "id": "e2e8c06e",
   "metadata": {},
   "outputs": [],
   "source": [
    "data03 = data02.tz_convert('Brazil/East')"
   ]
  },
  {
   "cell_type": "code",
   "execution_count": 9,
   "id": "215a2b89",
   "metadata": {},
   "outputs": [
    {
     "data": {
      "text/html": [
       "<div>\n",
       "<style scoped>\n",
       "    .dataframe tbody tr th:only-of-type {\n",
       "        vertical-align: middle;\n",
       "    }\n",
       "\n",
       "    .dataframe tbody tr th {\n",
       "        vertical-align: top;\n",
       "    }\n",
       "\n",
       "    .dataframe thead th {\n",
       "        text-align: right;\n",
       "    }\n",
       "</style>\n",
       "<table border=\"1\" class=\"dataframe\">\n",
       "  <thead>\n",
       "    <tr style=\"text-align: right;\">\n",
       "      <th></th>\n",
       "      <th>Open</th>\n",
       "      <th>High</th>\n",
       "      <th>Low</th>\n",
       "      <th>Close</th>\n",
       "      <th>Adj Close</th>\n",
       "      <th>Volume</th>\n",
       "      <th>oil</th>\n",
       "      <th>dollar</th>\n",
       "    </tr>\n",
       "    <tr>\n",
       "      <th>Datetime</th>\n",
       "      <th></th>\n",
       "      <th></th>\n",
       "      <th></th>\n",
       "      <th></th>\n",
       "      <th></th>\n",
       "      <th></th>\n",
       "      <th></th>\n",
       "      <th></th>\n",
       "    </tr>\n",
       "  </thead>\n",
       "  <tbody>\n",
       "    <tr>\n",
       "      <th>2020-08-03 10:00:00-03:00</th>\n",
       "      <td>22.540001</td>\n",
       "      <td>22.549999</td>\n",
       "      <td>21.770000</td>\n",
       "      <td>21.850000</td>\n",
       "      <td>21.850000</td>\n",
       "      <td>0.0</td>\n",
       "      <td>40.419998</td>\n",
       "      <td>5.3120</td>\n",
       "    </tr>\n",
       "    <tr>\n",
       "      <th>2020-08-03 11:00:00-03:00</th>\n",
       "      <td>21.850000</td>\n",
       "      <td>22.090000</td>\n",
       "      <td>21.780001</td>\n",
       "      <td>21.799999</td>\n",
       "      <td>21.799999</td>\n",
       "      <td>10130100.0</td>\n",
       "      <td>40.959999</td>\n",
       "      <td>5.3297</td>\n",
       "    </tr>\n",
       "    <tr>\n",
       "      <th>2020-08-03 12:00:00-03:00</th>\n",
       "      <td>21.790001</td>\n",
       "      <td>22.040001</td>\n",
       "      <td>21.790001</td>\n",
       "      <td>21.950001</td>\n",
       "      <td>21.950001</td>\n",
       "      <td>7127000.0</td>\n",
       "      <td>41.009998</td>\n",
       "      <td>5.3190</td>\n",
       "    </tr>\n",
       "    <tr>\n",
       "      <th>2020-08-03 13:00:00-03:00</th>\n",
       "      <td>21.959999</td>\n",
       "      <td>22.110001</td>\n",
       "      <td>21.910000</td>\n",
       "      <td>22.070000</td>\n",
       "      <td>22.070000</td>\n",
       "      <td>5119400.0</td>\n",
       "      <td>41.099998</td>\n",
       "      <td>5.3179</td>\n",
       "    </tr>\n",
       "    <tr>\n",
       "      <th>2020-08-03 14:00:00-03:00</th>\n",
       "      <td>22.059999</td>\n",
       "      <td>22.090000</td>\n",
       "      <td>21.959999</td>\n",
       "      <td>22.030001</td>\n",
       "      <td>22.030001</td>\n",
       "      <td>7982900.0</td>\n",
       "      <td>41.150002</td>\n",
       "      <td>5.3127</td>\n",
       "    </tr>\n",
       "  </tbody>\n",
       "</table>\n",
       "</div>"
      ],
      "text/plain": [
       "                                Open       High        Low      Close  \\\n",
       "Datetime                                                                \n",
       "2020-08-03 10:00:00-03:00  22.540001  22.549999  21.770000  21.850000   \n",
       "2020-08-03 11:00:00-03:00  21.850000  22.090000  21.780001  21.799999   \n",
       "2020-08-03 12:00:00-03:00  21.790001  22.040001  21.790001  21.950001   \n",
       "2020-08-03 13:00:00-03:00  21.959999  22.110001  21.910000  22.070000   \n",
       "2020-08-03 14:00:00-03:00  22.059999  22.090000  21.959999  22.030001   \n",
       "\n",
       "                           Adj Close      Volume        oil  dollar  \n",
       "Datetime                                                             \n",
       "2020-08-03 10:00:00-03:00  21.850000         0.0  40.419998  5.3120  \n",
       "2020-08-03 11:00:00-03:00  21.799999  10130100.0  40.959999  5.3297  \n",
       "2020-08-03 12:00:00-03:00  21.950001   7127000.0  41.009998  5.3190  \n",
       "2020-08-03 13:00:00-03:00  22.070000   5119400.0  41.099998  5.3179  \n",
       "2020-08-03 14:00:00-03:00  22.030001   7982900.0  41.150002  5.3127  "
      ]
     },
     "execution_count": 9,
     "metadata": {},
     "output_type": "execute_result"
    }
   ],
   "source": [
    "data03.head()"
   ]
  },
  {
   "cell_type": "code",
   "execution_count": 10,
   "id": "e049ff1c",
   "metadata": {},
   "outputs": [
    {
     "data": {
      "text/plain": [
       "Open          1\n",
       "High          1\n",
       "Low           1\n",
       "Close         1\n",
       "Adj Close     1\n",
       "Volume        1\n",
       "oil          78\n",
       "dollar        2\n",
       "dtype: int64"
      ]
     },
     "execution_count": 10,
     "metadata": {},
     "output_type": "execute_result"
    }
   ],
   "source": [
    "data03.isna().sum()"
   ]
  },
  {
   "cell_type": "markdown",
   "id": "060aeb16",
   "metadata": {},
   "source": [
    "### Dados do Google Trends"
   ]
  },
  {
   "cell_type": "code",
   "execution_count": 12,
   "id": "cbffaabf",
   "metadata": {},
   "outputs": [],
   "source": [
    "pytrends = TrendReq(hl='en-US', tz=180)\n",
    "\n",
    "kw_list = ['PETR4','PETROBRAS',\"CRISE\"]\n",
    "\n",
    "google_tr = pytrends.get_historical_interest(kw_list, year_start=2020,\n",
    "                                             month_start=8, day_start=1,\n",
    "                                             hour_start=0, year_end=2022,\n",
    "                                             month_end=6, day_end=8, hour_end=0,\n",
    "                                             cat=0, geo='', gprop='', sleep=60)"
   ]
  },
  {
   "cell_type": "code",
   "execution_count": 14,
   "id": "c180e5ad",
   "metadata": {},
   "outputs": [],
   "source": [
    "google_tr = google_tr.tz_localize(tz='Brazil/East')\n"
   ]
  },
  {
   "cell_type": "code",
   "execution_count": 16,
   "id": "e137171a",
   "metadata": {},
   "outputs": [
    {
     "data": {
      "text/html": [
       "<div>\n",
       "<style scoped>\n",
       "    .dataframe tbody tr th:only-of-type {\n",
       "        vertical-align: middle;\n",
       "    }\n",
       "\n",
       "    .dataframe tbody tr th {\n",
       "        vertical-align: top;\n",
       "    }\n",
       "\n",
       "    .dataframe thead th {\n",
       "        text-align: right;\n",
       "    }\n",
       "</style>\n",
       "<table border=\"1\" class=\"dataframe\">\n",
       "  <thead>\n",
       "    <tr style=\"text-align: right;\">\n",
       "      <th></th>\n",
       "      <th>PETR4</th>\n",
       "      <th>PETROBRAS</th>\n",
       "      <th>CRISE</th>\n",
       "      <th>isPartial</th>\n",
       "    </tr>\n",
       "    <tr>\n",
       "      <th>date</th>\n",
       "      <th></th>\n",
       "      <th></th>\n",
       "      <th></th>\n",
       "      <th></th>\n",
       "    </tr>\n",
       "  </thead>\n",
       "  <tbody>\n",
       "    <tr>\n",
       "      <th>2020-08-01 00:00:00-03:00</th>\n",
       "      <td>12</td>\n",
       "      <td>47</td>\n",
       "      <td>52</td>\n",
       "      <td>False</td>\n",
       "    </tr>\n",
       "    <tr>\n",
       "      <th>2020-08-01 01:00:00-03:00</th>\n",
       "      <td>17</td>\n",
       "      <td>29</td>\n",
       "      <td>78</td>\n",
       "      <td>False</td>\n",
       "    </tr>\n",
       "    <tr>\n",
       "      <th>2020-08-01 02:00:00-03:00</th>\n",
       "      <td>7</td>\n",
       "      <td>12</td>\n",
       "      <td>72</td>\n",
       "      <td>False</td>\n",
       "    </tr>\n",
       "    <tr>\n",
       "      <th>2020-08-01 03:00:00-03:00</th>\n",
       "      <td>5</td>\n",
       "      <td>8</td>\n",
       "      <td>33</td>\n",
       "      <td>False</td>\n",
       "    </tr>\n",
       "    <tr>\n",
       "      <th>2020-08-01 04:00:00-03:00</th>\n",
       "      <td>3</td>\n",
       "      <td>10</td>\n",
       "      <td>26</td>\n",
       "      <td>False</td>\n",
       "    </tr>\n",
       "  </tbody>\n",
       "</table>\n",
       "</div>"
      ],
      "text/plain": [
       "                           PETR4  PETROBRAS  CRISE  isPartial\n",
       "date                                                         \n",
       "2020-08-01 00:00:00-03:00     12         47     52      False\n",
       "2020-08-01 01:00:00-03:00     17         29     78      False\n",
       "2020-08-01 02:00:00-03:00      7         12     72      False\n",
       "2020-08-01 03:00:00-03:00      5          8     33      False\n",
       "2020-08-01 04:00:00-03:00      3         10     26      False"
      ]
     },
     "execution_count": 16,
     "metadata": {},
     "output_type": "execute_result"
    }
   ],
   "source": [
    "google_tr.head()"
   ]
  },
  {
   "cell_type": "code",
   "execution_count": 17,
   "id": "67934950",
   "metadata": {},
   "outputs": [],
   "source": [
    "data04 = pd.merge(data03, google_tr, how = \"left\", left_index=True, right_index=True)"
   ]
  },
  {
   "cell_type": "code",
   "execution_count": 20,
   "id": "6bdd4288",
   "metadata": {},
   "outputs": [
    {
     "data": {
      "text/html": [
       "<div>\n",
       "<style scoped>\n",
       "    .dataframe tbody tr th:only-of-type {\n",
       "        vertical-align: middle;\n",
       "    }\n",
       "\n",
       "    .dataframe tbody tr th {\n",
       "        vertical-align: top;\n",
       "    }\n",
       "\n",
       "    .dataframe thead th {\n",
       "        text-align: right;\n",
       "    }\n",
       "</style>\n",
       "<table border=\"1\" class=\"dataframe\">\n",
       "  <thead>\n",
       "    <tr style=\"text-align: right;\">\n",
       "      <th></th>\n",
       "      <th>Open</th>\n",
       "      <th>High</th>\n",
       "      <th>Low</th>\n",
       "      <th>Close</th>\n",
       "      <th>Adj Close</th>\n",
       "      <th>Volume</th>\n",
       "      <th>oil</th>\n",
       "      <th>dollar</th>\n",
       "      <th>PETR4</th>\n",
       "      <th>PETROBRAS</th>\n",
       "      <th>CRISE</th>\n",
       "      <th>isPartial</th>\n",
       "    </tr>\n",
       "  </thead>\n",
       "  <tbody>\n",
       "    <tr>\n",
       "      <th>2020-08-03 10:00:00-03:00</th>\n",
       "      <td>22.540001</td>\n",
       "      <td>22.549999</td>\n",
       "      <td>21.770000</td>\n",
       "      <td>21.850000</td>\n",
       "      <td>21.850000</td>\n",
       "      <td>0.0</td>\n",
       "      <td>40.419998</td>\n",
       "      <td>5.3120</td>\n",
       "      <td>0.0</td>\n",
       "      <td>10.0</td>\n",
       "      <td>64.0</td>\n",
       "      <td>False</td>\n",
       "    </tr>\n",
       "    <tr>\n",
       "      <th>2020-08-03 11:00:00-03:00</th>\n",
       "      <td>21.850000</td>\n",
       "      <td>22.090000</td>\n",
       "      <td>21.780001</td>\n",
       "      <td>21.799999</td>\n",
       "      <td>21.799999</td>\n",
       "      <td>10130100.0</td>\n",
       "      <td>40.959999</td>\n",
       "      <td>5.3297</td>\n",
       "      <td>3.0</td>\n",
       "      <td>15.0</td>\n",
       "      <td>42.0</td>\n",
       "      <td>False</td>\n",
       "    </tr>\n",
       "    <tr>\n",
       "      <th>2020-08-03 12:00:00-03:00</th>\n",
       "      <td>21.790001</td>\n",
       "      <td>22.040001</td>\n",
       "      <td>21.790001</td>\n",
       "      <td>21.950001</td>\n",
       "      <td>21.950001</td>\n",
       "      <td>7127000.0</td>\n",
       "      <td>41.009998</td>\n",
       "      <td>5.3190</td>\n",
       "      <td>4.0</td>\n",
       "      <td>28.0</td>\n",
       "      <td>71.0</td>\n",
       "      <td>False</td>\n",
       "    </tr>\n",
       "    <tr>\n",
       "      <th>2020-08-03 13:00:00-03:00</th>\n",
       "      <td>21.959999</td>\n",
       "      <td>22.110001</td>\n",
       "      <td>21.910000</td>\n",
       "      <td>22.070000</td>\n",
       "      <td>22.070000</td>\n",
       "      <td>5119400.0</td>\n",
       "      <td>41.099998</td>\n",
       "      <td>5.3179</td>\n",
       "      <td>22.0</td>\n",
       "      <td>24.0</td>\n",
       "      <td>66.0</td>\n",
       "      <td>False</td>\n",
       "    </tr>\n",
       "    <tr>\n",
       "      <th>2020-08-03 14:00:00-03:00</th>\n",
       "      <td>22.059999</td>\n",
       "      <td>22.090000</td>\n",
       "      <td>21.959999</td>\n",
       "      <td>22.030001</td>\n",
       "      <td>22.030001</td>\n",
       "      <td>7982900.0</td>\n",
       "      <td>41.150002</td>\n",
       "      <td>5.3127</td>\n",
       "      <td>35.0</td>\n",
       "      <td>28.0</td>\n",
       "      <td>62.0</td>\n",
       "      <td>False</td>\n",
       "    </tr>\n",
       "  </tbody>\n",
       "</table>\n",
       "</div>"
      ],
      "text/plain": [
       "                                Open       High        Low      Close  \\\n",
       "2020-08-03 10:00:00-03:00  22.540001  22.549999  21.770000  21.850000   \n",
       "2020-08-03 11:00:00-03:00  21.850000  22.090000  21.780001  21.799999   \n",
       "2020-08-03 12:00:00-03:00  21.790001  22.040001  21.790001  21.950001   \n",
       "2020-08-03 13:00:00-03:00  21.959999  22.110001  21.910000  22.070000   \n",
       "2020-08-03 14:00:00-03:00  22.059999  22.090000  21.959999  22.030001   \n",
       "\n",
       "                           Adj Close      Volume        oil  dollar  PETR4  \\\n",
       "2020-08-03 10:00:00-03:00  21.850000         0.0  40.419998  5.3120    0.0   \n",
       "2020-08-03 11:00:00-03:00  21.799999  10130100.0  40.959999  5.3297    3.0   \n",
       "2020-08-03 12:00:00-03:00  21.950001   7127000.0  41.009998  5.3190    4.0   \n",
       "2020-08-03 13:00:00-03:00  22.070000   5119400.0  41.099998  5.3179   22.0   \n",
       "2020-08-03 14:00:00-03:00  22.030001   7982900.0  41.150002  5.3127   35.0   \n",
       "\n",
       "                           PETROBRAS  CRISE isPartial  \n",
       "2020-08-03 10:00:00-03:00       10.0   64.0     False  \n",
       "2020-08-03 11:00:00-03:00       15.0   42.0     False  \n",
       "2020-08-03 12:00:00-03:00       28.0   71.0     False  \n",
       "2020-08-03 13:00:00-03:00       24.0   66.0     False  \n",
       "2020-08-03 14:00:00-03:00       28.0   62.0     False  "
      ]
     },
     "execution_count": 20,
     "metadata": {},
     "output_type": "execute_result"
    }
   ],
   "source": [
    "data04.head()"
   ]
  },
  {
   "cell_type": "code",
   "execution_count": 21,
   "id": "aa38c07d",
   "metadata": {},
   "outputs": [],
   "source": [
    "data04.to_csv(\"trabalho_final.csv\", date_format = '%Y-%m-%d %H:%M:%S')"
   ]
  }
 ],
 "metadata": {
  "kernelspec": {
   "display_name": "Python 3",
   "language": "python",
   "name": "python3"
  },
  "language_info": {
   "codemirror_mode": {
    "name": "ipython",
    "version": 3
   },
   "file_extension": ".py",
   "mimetype": "text/x-python",
   "name": "python",
   "nbconvert_exporter": "python",
   "pygments_lexer": "ipython3",
   "version": "3.8.8"
  }
 },
 "nbformat": 4,
 "nbformat_minor": 5
}
