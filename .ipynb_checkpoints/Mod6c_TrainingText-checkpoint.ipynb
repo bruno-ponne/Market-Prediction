{
 "cells": [
  {
   "cell_type": "markdown",
   "id": "f0c559d1",
   "metadata": {},
   "source": [
    "# Módulo 6c - Treinando os modelos com dados textuais"
   ]
  },
  {
   "cell_type": "code",
   "execution_count": 196,
   "id": "16a6503d",
   "metadata": {},
   "outputs": [],
   "source": [
    "from numpy import loadtxt\n",
    "import pandas as pd\n",
    "from sklearn.ensemble import RandomForestClassifier\n",
    "from sklearn.ensemble import AdaBoostClassifier\n",
    "from sklearn.metrics import precision_score\n",
    "from sklearn.metrics import accuracy_score\n",
    "from sklearn.metrics import recall_score"
   ]
  },
  {
   "cell_type": "code",
   "execution_count": 197,
   "id": "ca2a89d4",
   "metadata": {},
   "outputs": [
    {
     "name": "stdout",
     "output_type": "stream",
     "text": [
      "[[0.36133199 0.7375     0.27275164 ... 0.         0.         0.89754763]\n",
      " [0.42373204 0.625      0.51479182 ... 0.         1.         0.49402108]\n",
      " [0.41765741 0.4125     0.1716134  ... 0.         0.         0.25248277]\n",
      " ...\n",
      " [0.31259221 0.25       0.36556714 ... 0.         0.         0.45490474]\n",
      " [0.4065331  0.4375     0.27939567 ... 0.         0.         0.99908796]\n",
      " [0.45120385 0.4125     0.20304323 ... 0.         0.         0.98758614]]\n"
     ]
    }
   ],
   "source": [
    "TrainX_Scaled2 = loadtxt('TrainX_Scaled2.csv', delimiter=',')\n",
    "\n",
    "print(TrainX_Scaled2)"
   ]
  },
  {
   "cell_type": "code",
   "execution_count": 198,
   "id": "3f4455aa",
   "metadata": {},
   "outputs": [
    {
     "data": {
      "text/plain": [
       "(481, 13)"
      ]
     },
     "execution_count": 198,
     "metadata": {},
     "output_type": "execute_result"
    }
   ],
   "source": [
    "TrainX_Scaled2.shape"
   ]
  },
  {
   "cell_type": "code",
   "execution_count": 199,
   "id": "7ab0ce90",
   "metadata": {},
   "outputs": [],
   "source": [
    "TrainY2 = pd.read_csv(\"TrainY2.csv\", parse_dates=True)\n",
    "TrainY2.index = TrainY2[\"date\"]\n",
    "TrainY2.index = pd.to_datetime(TrainY2.index)\n",
    "TrainY2.drop([\"date\"], inplace = True, axis = 1)"
   ]
  },
  {
   "cell_type": "code",
   "execution_count": 200,
   "id": "567565ce",
   "metadata": {},
   "outputs": [
    {
     "data": {
      "text/plain": [
       "(481, 2)"
      ]
     },
     "execution_count": 200,
     "metadata": {},
     "output_type": "execute_result"
    }
   ],
   "source": [
    "TrainY2.shape"
   ]
  },
  {
   "cell_type": "code",
   "execution_count": 201,
   "id": "358968b0",
   "metadata": {},
   "outputs": [
    {
     "data": {
      "text/html": [
       "<div>\n",
       "<style scoped>\n",
       "    .dataframe tbody tr th:only-of-type {\n",
       "        vertical-align: middle;\n",
       "    }\n",
       "\n",
       "    .dataframe tbody tr th {\n",
       "        vertical-align: top;\n",
       "    }\n",
       "\n",
       "    .dataframe thead th {\n",
       "        text-align: right;\n",
       "    }\n",
       "</style>\n",
       "<table border=\"1\" class=\"dataframe\">\n",
       "  <thead>\n",
       "    <tr style=\"text-align: right;\">\n",
       "      <th></th>\n",
       "      <th>target_value</th>\n",
       "      <th>target_class</th>\n",
       "    </tr>\n",
       "    <tr>\n",
       "      <th>date</th>\n",
       "      <th></th>\n",
       "      <th></th>\n",
       "    </tr>\n",
       "  </thead>\n",
       "  <tbody>\n",
       "    <tr>\n",
       "      <th>2022-02-01 10:00:00</th>\n",
       "      <td>0.011487</td>\n",
       "      <td>1.0</td>\n",
       "    </tr>\n",
       "    <tr>\n",
       "      <th>2022-02-01 12:00:00</th>\n",
       "      <td>-0.006911</td>\n",
       "      <td>0.0</td>\n",
       "    </tr>\n",
       "    <tr>\n",
       "      <th>2022-02-01 13:00:00</th>\n",
       "      <td>-0.003026</td>\n",
       "      <td>0.0</td>\n",
       "    </tr>\n",
       "    <tr>\n",
       "      <th>2022-02-01 14:00:00</th>\n",
       "      <td>0.000910</td>\n",
       "      <td>1.0</td>\n",
       "    </tr>\n",
       "    <tr>\n",
       "      <th>2022-02-02 10:00:00</th>\n",
       "      <td>-0.010046</td>\n",
       "      <td>0.0</td>\n",
       "    </tr>\n",
       "  </tbody>\n",
       "</table>\n",
       "</div>"
      ],
      "text/plain": [
       "                     target_value  target_class\n",
       "date                                           \n",
       "2022-02-01 10:00:00      0.011487           1.0\n",
       "2022-02-01 12:00:00     -0.006911           0.0\n",
       "2022-02-01 13:00:00     -0.003026           0.0\n",
       "2022-02-01 14:00:00      0.000910           1.0\n",
       "2022-02-02 10:00:00     -0.010046           0.0"
      ]
     },
     "execution_count": 201,
     "metadata": {},
     "output_type": "execute_result"
    }
   ],
   "source": [
    "TrainY2.head()"
   ]
  },
  {
   "cell_type": "code",
   "execution_count": 202,
   "id": "b8f43495",
   "metadata": {},
   "outputs": [
    {
     "name": "stdout",
     "output_type": "stream",
     "text": [
      "[[0.40264879 0.08823529 0.41101697 ... 0.         1.         0.38872434]\n",
      " [0.38732201 0.41176471 0.40973411 ... 0.         0.         0.84988309]\n",
      " [0.40210006 0.61764706 0.53313108 ... 0.         1.         0.95676799]\n",
      " ...\n",
      " [0.26851365 0.76470588 0.2689709  ... 0.         0.         0.        ]\n",
      " [0.38622276 0.76470588 0.34045117 ... 0.         0.         0.26214601]\n",
      " [0.39772575 0.67647059 0.30421479 ... 0.         0.         0.62312289]]\n"
     ]
    }
   ],
   "source": [
    "TestX_Scaled2 = loadtxt('TestX_Scaled2.csv', delimiter=',')\n",
    "print(TestX_Scaled2)"
   ]
  },
  {
   "cell_type": "code",
   "execution_count": 203,
   "id": "8b37f23e",
   "metadata": {},
   "outputs": [
    {
     "data": {
      "text/plain": [
       "(86, 13)"
      ]
     },
     "execution_count": 203,
     "metadata": {},
     "output_type": "execute_result"
    }
   ],
   "source": [
    "TestX_Scaled2.shape"
   ]
  },
  {
   "cell_type": "code",
   "execution_count": 204,
   "id": "f7511a06",
   "metadata": {},
   "outputs": [],
   "source": [
    "TestY2 = pd.read_csv(\"TestY2.csv\", parse_dates=True)\n",
    "TestY2.index = TestY2[\"date\"]\n",
    "TestY2.index = pd.to_datetime(TestY2.index)\n",
    "TestY2.drop([\"date\"], inplace = True, axis = 1)"
   ]
  },
  {
   "cell_type": "code",
   "execution_count": 205,
   "id": "a8294217",
   "metadata": {},
   "outputs": [
    {
     "data": {
      "text/html": [
       "<div>\n",
       "<style scoped>\n",
       "    .dataframe tbody tr th:only-of-type {\n",
       "        vertical-align: middle;\n",
       "    }\n",
       "\n",
       "    .dataframe tbody tr th {\n",
       "        vertical-align: top;\n",
       "    }\n",
       "\n",
       "    .dataframe thead th {\n",
       "        text-align: right;\n",
       "    }\n",
       "</style>\n",
       "<table border=\"1\" class=\"dataframe\">\n",
       "  <thead>\n",
       "    <tr style=\"text-align: right;\">\n",
       "      <th></th>\n",
       "      <th>target_value</th>\n",
       "      <th>target_class</th>\n",
       "    </tr>\n",
       "    <tr>\n",
       "      <th>date</th>\n",
       "      <th></th>\n",
       "      <th></th>\n",
       "    </tr>\n",
       "  </thead>\n",
       "  <tbody>\n",
       "    <tr>\n",
       "      <th>2022-05-20 14:00:00</th>\n",
       "      <td>-0.001443</td>\n",
       "      <td>0.0</td>\n",
       "    </tr>\n",
       "    <tr>\n",
       "      <th>2022-05-20 15:00:00</th>\n",
       "      <td>0.004626</td>\n",
       "      <td>1.0</td>\n",
       "    </tr>\n",
       "    <tr>\n",
       "      <th>2022-05-20 16:00:00</th>\n",
       "      <td>0.019281</td>\n",
       "      <td>1.0</td>\n",
       "    </tr>\n",
       "    <tr>\n",
       "      <th>2022-05-23 10:00:00</th>\n",
       "      <td>0.011293</td>\n",
       "      <td>1.0</td>\n",
       "    </tr>\n",
       "    <tr>\n",
       "      <th>2022-05-23 11:00:00</th>\n",
       "      <td>0.001396</td>\n",
       "      <td>1.0</td>\n",
       "    </tr>\n",
       "  </tbody>\n",
       "</table>\n",
       "</div>"
      ],
      "text/plain": [
       "                     target_value  target_class\n",
       "date                                           \n",
       "2022-05-20 14:00:00     -0.001443           0.0\n",
       "2022-05-20 15:00:00      0.004626           1.0\n",
       "2022-05-20 16:00:00      0.019281           1.0\n",
       "2022-05-23 10:00:00      0.011293           1.0\n",
       "2022-05-23 11:00:00      0.001396           1.0"
      ]
     },
     "execution_count": 205,
     "metadata": {},
     "output_type": "execute_result"
    }
   ],
   "source": [
    "TestY2.head()"
   ]
  },
  {
   "cell_type": "code",
   "execution_count": 206,
   "id": "68e62c7a",
   "metadata": {},
   "outputs": [
    {
     "data": {
      "text/plain": [
       "(86, 2)"
      ]
     },
     "execution_count": 206,
     "metadata": {},
     "output_type": "execute_result"
    }
   ],
   "source": [
    "TestY2.shape"
   ]
  },
  {
   "cell_type": "markdown",
   "id": "027ea76a",
   "metadata": {},
   "source": [
    "### Random Forest"
   ]
  },
  {
   "cell_type": "code",
   "execution_count": 207,
   "id": "fb4b49d0",
   "metadata": {},
   "outputs": [],
   "source": [
    "def backtest(features, targets, model, start=300, step=50):\n",
    "    \n",
    "    \"\"\"\n",
    "    Faz o treinamento do modelo com backtesting, \n",
    "    uma forma de validação para séries temporais, \n",
    "    em que cross-validation não pode ser utilizado.\n",
    "    Basicamente ele treina o modelo nos primeitos\n",
    "    start número de exemplos e testa este modelo nos\n",
    "    step exemplos posteriores. \n",
    "    \n",
    "    Argumentos\n",
    "    ----------\n",
    "    features: array\n",
    "    Array contendo as features de treinamento já normalizadas.\n",
    "    \n",
    "    targets: pandas data frame\n",
    "    Coluna de um Pandas Data Frame contendo os targets de treino\n",
    "    \n",
    "    model: algoritmo de treinamento\n",
    "    \n",
    "    start: int\n",
    "    Indica quantos exemplos utilizar no primeiro treinamento\n",
    "    \n",
    "    step: int\n",
    "    Indica o incremento do set de treinamento a cada iteração.\n",
    "\n",
    "    Retorna\n",
    "    -------\n",
    "    Data Frame com duas colunas, sendo uma de predições do target e \n",
    "    a outra os targets reais\n",
    "    \n",
    "    \"\"\"\n",
    "    \n",
    "    predictions = []\n",
    "    \n",
    "    # Percorre os dados de treinamento, conforme o tamanho de step:\n",
    "    for i in range(start, features.shape[0], step):                 \n",
    "        # Separacao do set de treino e de validacao\n",
    "        xtrain = features[0:i].copy()\n",
    "        ytrain = targets.iloc[0:i].copy()\n",
    "        \n",
    "        xval = features[i:(i+step)].copy()\n",
    "        yval = targets.iloc[i:(i+step)].copy()\n",
    "        \n",
    "        # Treinando o modelo\n",
    "        model.fit(xtrain, ytrain)\n",
    "        \n",
    "        # Predicoes:\n",
    "        preds = model.predict_proba(xval)[:,1]\n",
    "        preds = pd.Series(preds, index = yval.index)\n",
    "        preds[preds >.5] = 1\n",
    "        preds[preds<=.5] = 0\n",
    "        \n",
    "        \n",
    "        # Combine predictions and test values\n",
    "        combined = pd.concat({\"Target\": yval,\"Predictions\": preds}, axis=1)\n",
    "        \n",
    "        predictions.append(combined)\n",
    "    \n",
    "    return pd.concat(predictions)"
   ]
  },
  {
   "cell_type": "code",
   "execution_count": 208,
   "id": "a198e3be",
   "metadata": {},
   "outputs": [],
   "source": [
    "def tunning(features, targets, n_estimators, min_samples_leaf, max_features):\n",
    "    \n",
    "    \"\"\"\n",
    "    Faz a busca pelos hyperparametros mais adequados ao\n",
    "    modelo.\n",
    "    \n",
    "    Argumentos\n",
    "    ----------\n",
    "    \n",
    "    n_estimators: list\n",
    "    Lista contendo os valores de n_estimators a serem testados\n",
    "    \n",
    "    min_samples_leaf: list\n",
    "    Lista contendo os valores de min_samples_spli a serem testados\n",
    "    \n",
    "    max_features: list\n",
    "    Lista contendo os valores de max_features a serem testados\n",
    "\n",
    "    Retorna\n",
    "    -------\n",
    "    Data Frame com as combinações de hiperparametros e a precisão\n",
    "    correspondente\n",
    "    \n",
    "    \"\"\"\n",
    "    \n",
    "    ilist = []\n",
    "    jlist = []\n",
    "    wlist = []\n",
    "    precisionlist = []\n",
    "    for i in n_estimators:\n",
    "        for j in min_samples_leaf:\n",
    "            for w in max_features:\n",
    "                RF_model = RandomForestClassifier(n_estimators=i, min_samples_leaf=j, max_features = w, random_state=42)\n",
    "                predictions = backtest(features = features, targets = targets, model = RF_model)\n",
    "                p = precision_score(predictions[\"Target\"], predictions[\"Predictions\"])\n",
    "                ilist.append(i)\n",
    "                jlist.append(j)\n",
    "                wlist.append(w)\n",
    "                precisionlist.append(p)\n",
    "    d={\n",
    "    'n_estimators': ilist,\n",
    "    'min_samples_leaf': jlist,\n",
    "    'max_features': wlist,\n",
    "    \"precision\": precisionlist}\n",
    "    \n",
    "    return pd.DataFrame.from_dict(d, orient='index').transpose()"
   ]
  },
  {
   "cell_type": "code",
   "execution_count": 209,
   "id": "f195c5e6",
   "metadata": {},
   "outputs": [],
   "source": [
    "RF_model = RandomForestClassifier(random_state=42)"
   ]
  },
  {
   "cell_type": "code",
   "execution_count": 210,
   "id": "673ef544",
   "metadata": {},
   "outputs": [],
   "source": [
    "predictions = backtest(features = TrainX_Scaled2, targets = TrainY2.iloc[:,1], model = RF_model)"
   ]
  },
  {
   "cell_type": "code",
   "execution_count": 211,
   "id": "daaa16a9",
   "metadata": {},
   "outputs": [
    {
     "data": {
      "text/plain": [
       "0.5"
      ]
     },
     "execution_count": 211,
     "metadata": {},
     "output_type": "execute_result"
    }
   ],
   "source": [
    "precision_score(predictions[\"Target\"], predictions[\"Predictions\"])"
   ]
  },
  {
   "cell_type": "code",
   "execution_count": 17,
   "id": "44ec1d99",
   "metadata": {},
   "outputs": [
    {
     "data": {
      "text/plain": [
       "0.0    95\n",
       "1.0    86\n",
       "Name: Predictions, dtype: int64"
      ]
     },
     "execution_count": 17,
     "metadata": {},
     "output_type": "execute_result"
    }
   ],
   "source": [
    "predictions[\"Predictions\"].value_counts()"
   ]
  },
  {
   "cell_type": "code",
   "execution_count": 18,
   "id": "b69b2e4f",
   "metadata": {},
   "outputs": [
    {
     "data": {
      "text/plain": [
       "(181, 2)"
      ]
     },
     "execution_count": 18,
     "metadata": {},
     "output_type": "execute_result"
    }
   ],
   "source": [
    "predictions.shape"
   ]
  },
  {
   "cell_type": "code",
   "execution_count": 19,
   "id": "b42d861c",
   "metadata": {},
   "outputs": [
    {
     "data": {
      "text/plain": [
       "0.4861878453038674"
      ]
     },
     "execution_count": 19,
     "metadata": {},
     "output_type": "execute_result"
    }
   ],
   "source": [
    "accuracy_score(predictions[\"Target\"], predictions[\"Predictions\"])"
   ]
  },
  {
   "cell_type": "code",
   "execution_count": 20,
   "id": "ca7a35b6",
   "metadata": {},
   "outputs": [],
   "source": [
    "from random import random\n",
    "from random import randint\n",
    "\n",
    "max_features = [0.3,0.6,0.9]\n",
    "n_estimators = [randint(0,1000) for i in range(15)]\n",
    "min_samples_leaf = [2,4,7,6,11,18,9,13,15,5]"
   ]
  },
  {
   "cell_type": "code",
   "execution_count": 21,
   "id": "ac46d4b7",
   "metadata": {},
   "outputs": [
    {
     "data": {
      "text/plain": [
       "[38, 110, 711, 974, 101, 458, 332, 585, 699, 403, 344, 251, 771, 287, 848]"
      ]
     },
     "execution_count": 21,
     "metadata": {},
     "output_type": "execute_result"
    }
   ],
   "source": [
    "n_estimators"
   ]
  },
  {
   "cell_type": "code",
   "execution_count": 22,
   "id": "c97ed73b",
   "metadata": {},
   "outputs": [
    {
     "ename": "KeyboardInterrupt",
     "evalue": "",
     "output_type": "error",
     "traceback": [
      "\u001b[1;31m---------------------------------------------------------------------------\u001b[0m",
      "\u001b[1;31mKeyboardInterrupt\u001b[0m                         Traceback (most recent call last)",
      "\u001b[1;32m<ipython-input-22-d8466fe92996>\u001b[0m in \u001b[0;36m<module>\u001b[1;34m\u001b[0m\n\u001b[1;32m----> 1\u001b[1;33m hyper_parms = tunning(features = TrainX_Scaled2, \n\u001b[0m\u001b[0;32m      2\u001b[0m                       \u001b[0mtargets\u001b[0m \u001b[1;33m=\u001b[0m \u001b[0mTrainY2\u001b[0m\u001b[1;33m.\u001b[0m\u001b[0miloc\u001b[0m\u001b[1;33m[\u001b[0m\u001b[1;33m:\u001b[0m\u001b[1;33m,\u001b[0m\u001b[1;36m1\u001b[0m\u001b[1;33m]\u001b[0m\u001b[1;33m,\u001b[0m\u001b[1;33m\u001b[0m\u001b[1;33m\u001b[0m\u001b[0m\n\u001b[0;32m      3\u001b[0m                       \u001b[0mn_estimators\u001b[0m \u001b[1;33m=\u001b[0m \u001b[0mn_estimators\u001b[0m\u001b[1;33m,\u001b[0m\u001b[1;33m\u001b[0m\u001b[1;33m\u001b[0m\u001b[0m\n\u001b[0;32m      4\u001b[0m                       \u001b[0mmin_samples_leaf\u001b[0m \u001b[1;33m=\u001b[0m \u001b[0mmin_samples_leaf\u001b[0m\u001b[1;33m,\u001b[0m\u001b[1;33m\u001b[0m\u001b[1;33m\u001b[0m\u001b[0m\n\u001b[0;32m      5\u001b[0m                       \u001b[0mmax_features\u001b[0m \u001b[1;33m=\u001b[0m \u001b[0mmax_features\u001b[0m\u001b[1;33m\u001b[0m\u001b[1;33m\u001b[0m\u001b[0m\n",
      "\u001b[1;32m<ipython-input-13-01e8c04edf6c>\u001b[0m in \u001b[0;36mtunning\u001b[1;34m(features, targets, n_estimators, min_samples_leaf, max_features)\u001b[0m\n\u001b[0;32m     32\u001b[0m             \u001b[1;32mfor\u001b[0m \u001b[0mw\u001b[0m \u001b[1;32min\u001b[0m \u001b[0mmax_features\u001b[0m\u001b[1;33m:\u001b[0m\u001b[1;33m\u001b[0m\u001b[1;33m\u001b[0m\u001b[0m\n\u001b[0;32m     33\u001b[0m                 \u001b[0mRF_model\u001b[0m \u001b[1;33m=\u001b[0m \u001b[0mRandomForestClassifier\u001b[0m\u001b[1;33m(\u001b[0m\u001b[0mn_estimators\u001b[0m\u001b[1;33m=\u001b[0m\u001b[0mi\u001b[0m\u001b[1;33m,\u001b[0m \u001b[0mmin_samples_leaf\u001b[0m\u001b[1;33m=\u001b[0m\u001b[0mj\u001b[0m\u001b[1;33m,\u001b[0m \u001b[0mmax_features\u001b[0m \u001b[1;33m=\u001b[0m \u001b[0mw\u001b[0m\u001b[1;33m,\u001b[0m \u001b[0mrandom_state\u001b[0m\u001b[1;33m=\u001b[0m\u001b[1;36m42\u001b[0m\u001b[1;33m)\u001b[0m\u001b[1;33m\u001b[0m\u001b[1;33m\u001b[0m\u001b[0m\n\u001b[1;32m---> 34\u001b[1;33m                 \u001b[0mpredictions\u001b[0m \u001b[1;33m=\u001b[0m \u001b[0mbacktest\u001b[0m\u001b[1;33m(\u001b[0m\u001b[0mfeatures\u001b[0m \u001b[1;33m=\u001b[0m \u001b[0mfeatures\u001b[0m\u001b[1;33m,\u001b[0m \u001b[0mtargets\u001b[0m \u001b[1;33m=\u001b[0m \u001b[0mtargets\u001b[0m\u001b[1;33m,\u001b[0m \u001b[0mmodel\u001b[0m \u001b[1;33m=\u001b[0m \u001b[0mRF_model\u001b[0m\u001b[1;33m)\u001b[0m\u001b[1;33m\u001b[0m\u001b[1;33m\u001b[0m\u001b[0m\n\u001b[0m\u001b[0;32m     35\u001b[0m                 \u001b[0mp\u001b[0m \u001b[1;33m=\u001b[0m \u001b[0mprecision_score\u001b[0m\u001b[1;33m(\u001b[0m\u001b[0mpredictions\u001b[0m\u001b[1;33m[\u001b[0m\u001b[1;34m\"Target\"\u001b[0m\u001b[1;33m]\u001b[0m\u001b[1;33m,\u001b[0m \u001b[0mpredictions\u001b[0m\u001b[1;33m[\u001b[0m\u001b[1;34m\"Predictions\"\u001b[0m\u001b[1;33m]\u001b[0m\u001b[1;33m)\u001b[0m\u001b[1;33m\u001b[0m\u001b[1;33m\u001b[0m\u001b[0m\n\u001b[0;32m     36\u001b[0m                 \u001b[0milist\u001b[0m\u001b[1;33m.\u001b[0m\u001b[0mappend\u001b[0m\u001b[1;33m(\u001b[0m\u001b[0mi\u001b[0m\u001b[1;33m)\u001b[0m\u001b[1;33m\u001b[0m\u001b[1;33m\u001b[0m\u001b[0m\n",
      "\u001b[1;32m<ipython-input-12-9c6d223eba80>\u001b[0m in \u001b[0;36mbacktest\u001b[1;34m(features, targets, model, start, step)\u001b[0m\n\u001b[0;32m     44\u001b[0m \u001b[1;33m\u001b[0m\u001b[0m\n\u001b[0;32m     45\u001b[0m         \u001b[1;31m# Treinando o modelo\u001b[0m\u001b[1;33m\u001b[0m\u001b[1;33m\u001b[0m\u001b[1;33m\u001b[0m\u001b[0m\n\u001b[1;32m---> 46\u001b[1;33m         \u001b[0mmodel\u001b[0m\u001b[1;33m.\u001b[0m\u001b[0mfit\u001b[0m\u001b[1;33m(\u001b[0m\u001b[0mxtrain\u001b[0m\u001b[1;33m,\u001b[0m \u001b[0mytrain\u001b[0m\u001b[1;33m)\u001b[0m\u001b[1;33m\u001b[0m\u001b[1;33m\u001b[0m\u001b[0m\n\u001b[0m\u001b[0;32m     47\u001b[0m \u001b[1;33m\u001b[0m\u001b[0m\n\u001b[0;32m     48\u001b[0m         \u001b[1;31m# Predicoes:\u001b[0m\u001b[1;33m\u001b[0m\u001b[1;33m\u001b[0m\u001b[1;33m\u001b[0m\u001b[0m\n",
      "\u001b[1;32m~\\anaconda3\\lib\\site-packages\\sklearn\\ensemble\\_forest.py\u001b[0m in \u001b[0;36mfit\u001b[1;34m(self, X, y, sample_weight)\u001b[0m\n\u001b[0;32m    385\u001b[0m             \u001b[1;31m# parallel_backend contexts set at a higher level,\u001b[0m\u001b[1;33m\u001b[0m\u001b[1;33m\u001b[0m\u001b[1;33m\u001b[0m\u001b[0m\n\u001b[0;32m    386\u001b[0m             \u001b[1;31m# since correctness does not rely on using threads.\u001b[0m\u001b[1;33m\u001b[0m\u001b[1;33m\u001b[0m\u001b[1;33m\u001b[0m\u001b[0m\n\u001b[1;32m--> 387\u001b[1;33m             trees = Parallel(n_jobs=self.n_jobs, verbose=self.verbose,\n\u001b[0m\u001b[0;32m    388\u001b[0m                              \u001b[1;33m**\u001b[0m\u001b[0m_joblib_parallel_args\u001b[0m\u001b[1;33m(\u001b[0m\u001b[0mprefer\u001b[0m\u001b[1;33m=\u001b[0m\u001b[1;34m'threads'\u001b[0m\u001b[1;33m)\u001b[0m\u001b[1;33m)\u001b[0m\u001b[1;33m(\u001b[0m\u001b[1;33m\u001b[0m\u001b[1;33m\u001b[0m\u001b[0m\n\u001b[0;32m    389\u001b[0m                 delayed(_parallel_build_trees)(\n",
      "\u001b[1;32m~\\anaconda3\\lib\\site-packages\\joblib\\parallel.py\u001b[0m in \u001b[0;36m__call__\u001b[1;34m(self, iterable)\u001b[0m\n\u001b[0;32m   1042\u001b[0m                 \u001b[0mself\u001b[0m\u001b[1;33m.\u001b[0m\u001b[0m_iterating\u001b[0m \u001b[1;33m=\u001b[0m \u001b[0mself\u001b[0m\u001b[1;33m.\u001b[0m\u001b[0m_original_iterator\u001b[0m \u001b[1;32mis\u001b[0m \u001b[1;32mnot\u001b[0m \u001b[1;32mNone\u001b[0m\u001b[1;33m\u001b[0m\u001b[1;33m\u001b[0m\u001b[0m\n\u001b[0;32m   1043\u001b[0m \u001b[1;33m\u001b[0m\u001b[0m\n\u001b[1;32m-> 1044\u001b[1;33m             \u001b[1;32mwhile\u001b[0m \u001b[0mself\u001b[0m\u001b[1;33m.\u001b[0m\u001b[0mdispatch_one_batch\u001b[0m\u001b[1;33m(\u001b[0m\u001b[0miterator\u001b[0m\u001b[1;33m)\u001b[0m\u001b[1;33m:\u001b[0m\u001b[1;33m\u001b[0m\u001b[1;33m\u001b[0m\u001b[0m\n\u001b[0m\u001b[0;32m   1045\u001b[0m                 \u001b[1;32mpass\u001b[0m\u001b[1;33m\u001b[0m\u001b[1;33m\u001b[0m\u001b[0m\n\u001b[0;32m   1046\u001b[0m \u001b[1;33m\u001b[0m\u001b[0m\n",
      "\u001b[1;32m~\\anaconda3\\lib\\site-packages\\joblib\\parallel.py\u001b[0m in \u001b[0;36mdispatch_one_batch\u001b[1;34m(self, iterator)\u001b[0m\n\u001b[0;32m    857\u001b[0m                 \u001b[1;32mreturn\u001b[0m \u001b[1;32mFalse\u001b[0m\u001b[1;33m\u001b[0m\u001b[1;33m\u001b[0m\u001b[0m\n\u001b[0;32m    858\u001b[0m             \u001b[1;32melse\u001b[0m\u001b[1;33m:\u001b[0m\u001b[1;33m\u001b[0m\u001b[1;33m\u001b[0m\u001b[0m\n\u001b[1;32m--> 859\u001b[1;33m                 \u001b[0mself\u001b[0m\u001b[1;33m.\u001b[0m\u001b[0m_dispatch\u001b[0m\u001b[1;33m(\u001b[0m\u001b[0mtasks\u001b[0m\u001b[1;33m)\u001b[0m\u001b[1;33m\u001b[0m\u001b[1;33m\u001b[0m\u001b[0m\n\u001b[0m\u001b[0;32m    860\u001b[0m                 \u001b[1;32mreturn\u001b[0m \u001b[1;32mTrue\u001b[0m\u001b[1;33m\u001b[0m\u001b[1;33m\u001b[0m\u001b[0m\n\u001b[0;32m    861\u001b[0m \u001b[1;33m\u001b[0m\u001b[0m\n",
      "\u001b[1;32m~\\anaconda3\\lib\\site-packages\\joblib\\parallel.py\u001b[0m in \u001b[0;36m_dispatch\u001b[1;34m(self, batch)\u001b[0m\n\u001b[0;32m    775\u001b[0m         \u001b[1;32mwith\u001b[0m \u001b[0mself\u001b[0m\u001b[1;33m.\u001b[0m\u001b[0m_lock\u001b[0m\u001b[1;33m:\u001b[0m\u001b[1;33m\u001b[0m\u001b[1;33m\u001b[0m\u001b[0m\n\u001b[0;32m    776\u001b[0m             \u001b[0mjob_idx\u001b[0m \u001b[1;33m=\u001b[0m \u001b[0mlen\u001b[0m\u001b[1;33m(\u001b[0m\u001b[0mself\u001b[0m\u001b[1;33m.\u001b[0m\u001b[0m_jobs\u001b[0m\u001b[1;33m)\u001b[0m\u001b[1;33m\u001b[0m\u001b[1;33m\u001b[0m\u001b[0m\n\u001b[1;32m--> 777\u001b[1;33m             \u001b[0mjob\u001b[0m \u001b[1;33m=\u001b[0m \u001b[0mself\u001b[0m\u001b[1;33m.\u001b[0m\u001b[0m_backend\u001b[0m\u001b[1;33m.\u001b[0m\u001b[0mapply_async\u001b[0m\u001b[1;33m(\u001b[0m\u001b[0mbatch\u001b[0m\u001b[1;33m,\u001b[0m \u001b[0mcallback\u001b[0m\u001b[1;33m=\u001b[0m\u001b[0mcb\u001b[0m\u001b[1;33m)\u001b[0m\u001b[1;33m\u001b[0m\u001b[1;33m\u001b[0m\u001b[0m\n\u001b[0m\u001b[0;32m    778\u001b[0m             \u001b[1;31m# A job can complete so quickly than its callback is\u001b[0m\u001b[1;33m\u001b[0m\u001b[1;33m\u001b[0m\u001b[1;33m\u001b[0m\u001b[0m\n\u001b[0;32m    779\u001b[0m             \u001b[1;31m# called before we get here, causing self._jobs to\u001b[0m\u001b[1;33m\u001b[0m\u001b[1;33m\u001b[0m\u001b[1;33m\u001b[0m\u001b[0m\n",
      "\u001b[1;32m~\\anaconda3\\lib\\site-packages\\joblib\\_parallel_backends.py\u001b[0m in \u001b[0;36mapply_async\u001b[1;34m(self, func, callback)\u001b[0m\n\u001b[0;32m    206\u001b[0m     \u001b[1;32mdef\u001b[0m \u001b[0mapply_async\u001b[0m\u001b[1;33m(\u001b[0m\u001b[0mself\u001b[0m\u001b[1;33m,\u001b[0m \u001b[0mfunc\u001b[0m\u001b[1;33m,\u001b[0m \u001b[0mcallback\u001b[0m\u001b[1;33m=\u001b[0m\u001b[1;32mNone\u001b[0m\u001b[1;33m)\u001b[0m\u001b[1;33m:\u001b[0m\u001b[1;33m\u001b[0m\u001b[1;33m\u001b[0m\u001b[0m\n\u001b[0;32m    207\u001b[0m         \u001b[1;34m\"\"\"Schedule a func to be run\"\"\"\u001b[0m\u001b[1;33m\u001b[0m\u001b[1;33m\u001b[0m\u001b[0m\n\u001b[1;32m--> 208\u001b[1;33m         \u001b[0mresult\u001b[0m \u001b[1;33m=\u001b[0m \u001b[0mImmediateResult\u001b[0m\u001b[1;33m(\u001b[0m\u001b[0mfunc\u001b[0m\u001b[1;33m)\u001b[0m\u001b[1;33m\u001b[0m\u001b[1;33m\u001b[0m\u001b[0m\n\u001b[0m\u001b[0;32m    209\u001b[0m         \u001b[1;32mif\u001b[0m \u001b[0mcallback\u001b[0m\u001b[1;33m:\u001b[0m\u001b[1;33m\u001b[0m\u001b[1;33m\u001b[0m\u001b[0m\n\u001b[0;32m    210\u001b[0m             \u001b[0mcallback\u001b[0m\u001b[1;33m(\u001b[0m\u001b[0mresult\u001b[0m\u001b[1;33m)\u001b[0m\u001b[1;33m\u001b[0m\u001b[1;33m\u001b[0m\u001b[0m\n",
      "\u001b[1;32m~\\anaconda3\\lib\\site-packages\\joblib\\_parallel_backends.py\u001b[0m in \u001b[0;36m__init__\u001b[1;34m(self, batch)\u001b[0m\n\u001b[0;32m    570\u001b[0m         \u001b[1;31m# Don't delay the application, to avoid keeping the input\u001b[0m\u001b[1;33m\u001b[0m\u001b[1;33m\u001b[0m\u001b[1;33m\u001b[0m\u001b[0m\n\u001b[0;32m    571\u001b[0m         \u001b[1;31m# arguments in memory\u001b[0m\u001b[1;33m\u001b[0m\u001b[1;33m\u001b[0m\u001b[1;33m\u001b[0m\u001b[0m\n\u001b[1;32m--> 572\u001b[1;33m         \u001b[0mself\u001b[0m\u001b[1;33m.\u001b[0m\u001b[0mresults\u001b[0m \u001b[1;33m=\u001b[0m \u001b[0mbatch\u001b[0m\u001b[1;33m(\u001b[0m\u001b[1;33m)\u001b[0m\u001b[1;33m\u001b[0m\u001b[1;33m\u001b[0m\u001b[0m\n\u001b[0m\u001b[0;32m    573\u001b[0m \u001b[1;33m\u001b[0m\u001b[0m\n\u001b[0;32m    574\u001b[0m     \u001b[1;32mdef\u001b[0m \u001b[0mget\u001b[0m\u001b[1;33m(\u001b[0m\u001b[0mself\u001b[0m\u001b[1;33m)\u001b[0m\u001b[1;33m:\u001b[0m\u001b[1;33m\u001b[0m\u001b[1;33m\u001b[0m\u001b[0m\n",
      "\u001b[1;32m~\\anaconda3\\lib\\site-packages\\joblib\\parallel.py\u001b[0m in \u001b[0;36m__call__\u001b[1;34m(self)\u001b[0m\n\u001b[0;32m    260\u001b[0m         \u001b[1;31m# change the default number of processes to -1\u001b[0m\u001b[1;33m\u001b[0m\u001b[1;33m\u001b[0m\u001b[1;33m\u001b[0m\u001b[0m\n\u001b[0;32m    261\u001b[0m         \u001b[1;32mwith\u001b[0m \u001b[0mparallel_backend\u001b[0m\u001b[1;33m(\u001b[0m\u001b[0mself\u001b[0m\u001b[1;33m.\u001b[0m\u001b[0m_backend\u001b[0m\u001b[1;33m,\u001b[0m \u001b[0mn_jobs\u001b[0m\u001b[1;33m=\u001b[0m\u001b[0mself\u001b[0m\u001b[1;33m.\u001b[0m\u001b[0m_n_jobs\u001b[0m\u001b[1;33m)\u001b[0m\u001b[1;33m:\u001b[0m\u001b[1;33m\u001b[0m\u001b[1;33m\u001b[0m\u001b[0m\n\u001b[1;32m--> 262\u001b[1;33m             return [func(*args, **kwargs)\n\u001b[0m\u001b[0;32m    263\u001b[0m                     for func, args, kwargs in self.items]\n\u001b[0;32m    264\u001b[0m \u001b[1;33m\u001b[0m\u001b[0m\n",
      "\u001b[1;32m~\\anaconda3\\lib\\site-packages\\joblib\\parallel.py\u001b[0m in \u001b[0;36m<listcomp>\u001b[1;34m(.0)\u001b[0m\n\u001b[0;32m    260\u001b[0m         \u001b[1;31m# change the default number of processes to -1\u001b[0m\u001b[1;33m\u001b[0m\u001b[1;33m\u001b[0m\u001b[1;33m\u001b[0m\u001b[0m\n\u001b[0;32m    261\u001b[0m         \u001b[1;32mwith\u001b[0m \u001b[0mparallel_backend\u001b[0m\u001b[1;33m(\u001b[0m\u001b[0mself\u001b[0m\u001b[1;33m.\u001b[0m\u001b[0m_backend\u001b[0m\u001b[1;33m,\u001b[0m \u001b[0mn_jobs\u001b[0m\u001b[1;33m=\u001b[0m\u001b[0mself\u001b[0m\u001b[1;33m.\u001b[0m\u001b[0m_n_jobs\u001b[0m\u001b[1;33m)\u001b[0m\u001b[1;33m:\u001b[0m\u001b[1;33m\u001b[0m\u001b[1;33m\u001b[0m\u001b[0m\n\u001b[1;32m--> 262\u001b[1;33m             return [func(*args, **kwargs)\n\u001b[0m\u001b[0;32m    263\u001b[0m                     for func, args, kwargs in self.items]\n\u001b[0;32m    264\u001b[0m \u001b[1;33m\u001b[0m\u001b[0m\n",
      "\u001b[1;32m~\\anaconda3\\lib\\site-packages\\sklearn\\utils\\fixes.py\u001b[0m in \u001b[0;36m__call__\u001b[1;34m(self, *args, **kwargs)\u001b[0m\n\u001b[0;32m    220\u001b[0m     \u001b[1;32mdef\u001b[0m \u001b[0m__call__\u001b[0m\u001b[1;33m(\u001b[0m\u001b[0mself\u001b[0m\u001b[1;33m,\u001b[0m \u001b[1;33m*\u001b[0m\u001b[0margs\u001b[0m\u001b[1;33m,\u001b[0m \u001b[1;33m**\u001b[0m\u001b[0mkwargs\u001b[0m\u001b[1;33m)\u001b[0m\u001b[1;33m:\u001b[0m\u001b[1;33m\u001b[0m\u001b[1;33m\u001b[0m\u001b[0m\n\u001b[0;32m    221\u001b[0m         \u001b[1;32mwith\u001b[0m \u001b[0mconfig_context\u001b[0m\u001b[1;33m(\u001b[0m\u001b[1;33m**\u001b[0m\u001b[0mself\u001b[0m\u001b[1;33m.\u001b[0m\u001b[0mconfig\u001b[0m\u001b[1;33m)\u001b[0m\u001b[1;33m:\u001b[0m\u001b[1;33m\u001b[0m\u001b[1;33m\u001b[0m\u001b[0m\n\u001b[1;32m--> 222\u001b[1;33m             \u001b[1;32mreturn\u001b[0m \u001b[0mself\u001b[0m\u001b[1;33m.\u001b[0m\u001b[0mfunction\u001b[0m\u001b[1;33m(\u001b[0m\u001b[1;33m*\u001b[0m\u001b[0margs\u001b[0m\u001b[1;33m,\u001b[0m \u001b[1;33m**\u001b[0m\u001b[0mkwargs\u001b[0m\u001b[1;33m)\u001b[0m\u001b[1;33m\u001b[0m\u001b[1;33m\u001b[0m\u001b[0m\n\u001b[0m",
      "\u001b[1;32m~\\anaconda3\\lib\\site-packages\\sklearn\\ensemble\\_forest.py\u001b[0m in \u001b[0;36m_parallel_build_trees\u001b[1;34m(tree, forest, X, y, sample_weight, tree_idx, n_trees, verbose, class_weight, n_samples_bootstrap)\u001b[0m\n\u001b[0;32m    167\u001b[0m                                                         indices=indices)\n\u001b[0;32m    168\u001b[0m \u001b[1;33m\u001b[0m\u001b[0m\n\u001b[1;32m--> 169\u001b[1;33m         \u001b[0mtree\u001b[0m\u001b[1;33m.\u001b[0m\u001b[0mfit\u001b[0m\u001b[1;33m(\u001b[0m\u001b[0mX\u001b[0m\u001b[1;33m,\u001b[0m \u001b[0my\u001b[0m\u001b[1;33m,\u001b[0m \u001b[0msample_weight\u001b[0m\u001b[1;33m=\u001b[0m\u001b[0mcurr_sample_weight\u001b[0m\u001b[1;33m,\u001b[0m \u001b[0mcheck_input\u001b[0m\u001b[1;33m=\u001b[0m\u001b[1;32mFalse\u001b[0m\u001b[1;33m)\u001b[0m\u001b[1;33m\u001b[0m\u001b[1;33m\u001b[0m\u001b[0m\n\u001b[0m\u001b[0;32m    170\u001b[0m     \u001b[1;32melse\u001b[0m\u001b[1;33m:\u001b[0m\u001b[1;33m\u001b[0m\u001b[1;33m\u001b[0m\u001b[0m\n\u001b[0;32m    171\u001b[0m         \u001b[0mtree\u001b[0m\u001b[1;33m.\u001b[0m\u001b[0mfit\u001b[0m\u001b[1;33m(\u001b[0m\u001b[0mX\u001b[0m\u001b[1;33m,\u001b[0m \u001b[0my\u001b[0m\u001b[1;33m,\u001b[0m \u001b[0msample_weight\u001b[0m\u001b[1;33m=\u001b[0m\u001b[0msample_weight\u001b[0m\u001b[1;33m,\u001b[0m \u001b[0mcheck_input\u001b[0m\u001b[1;33m=\u001b[0m\u001b[1;32mFalse\u001b[0m\u001b[1;33m)\u001b[0m\u001b[1;33m\u001b[0m\u001b[1;33m\u001b[0m\u001b[0m\n",
      "\u001b[1;32m~\\anaconda3\\lib\\site-packages\\sklearn\\tree\\_classes.py\u001b[0m in \u001b[0;36mfit\u001b[1;34m(self, X, y, sample_weight, check_input, X_idx_sorted)\u001b[0m\n\u001b[0;32m    896\u001b[0m         \"\"\"\n\u001b[0;32m    897\u001b[0m \u001b[1;33m\u001b[0m\u001b[0m\n\u001b[1;32m--> 898\u001b[1;33m         super().fit(\n\u001b[0m\u001b[0;32m    899\u001b[0m             \u001b[0mX\u001b[0m\u001b[1;33m,\u001b[0m \u001b[0my\u001b[0m\u001b[1;33m,\u001b[0m\u001b[1;33m\u001b[0m\u001b[1;33m\u001b[0m\u001b[0m\n\u001b[0;32m    900\u001b[0m             \u001b[0msample_weight\u001b[0m\u001b[1;33m=\u001b[0m\u001b[0msample_weight\u001b[0m\u001b[1;33m,\u001b[0m\u001b[1;33m\u001b[0m\u001b[1;33m\u001b[0m\u001b[0m\n",
      "\u001b[1;32m~\\anaconda3\\lib\\site-packages\\sklearn\\tree\\_classes.py\u001b[0m in \u001b[0;36mfit\u001b[1;34m(self, X, y, sample_weight, check_input, X_idx_sorted)\u001b[0m\n\u001b[0;32m    387\u001b[0m                                            min_impurity_split)\n\u001b[0;32m    388\u001b[0m \u001b[1;33m\u001b[0m\u001b[0m\n\u001b[1;32m--> 389\u001b[1;33m         \u001b[0mbuilder\u001b[0m\u001b[1;33m.\u001b[0m\u001b[0mbuild\u001b[0m\u001b[1;33m(\u001b[0m\u001b[0mself\u001b[0m\u001b[1;33m.\u001b[0m\u001b[0mtree_\u001b[0m\u001b[1;33m,\u001b[0m \u001b[0mX\u001b[0m\u001b[1;33m,\u001b[0m \u001b[0my\u001b[0m\u001b[1;33m,\u001b[0m \u001b[0msample_weight\u001b[0m\u001b[1;33m)\u001b[0m\u001b[1;33m\u001b[0m\u001b[1;33m\u001b[0m\u001b[0m\n\u001b[0m\u001b[0;32m    390\u001b[0m \u001b[1;33m\u001b[0m\u001b[0m\n\u001b[0;32m    391\u001b[0m         \u001b[1;32mif\u001b[0m \u001b[0mself\u001b[0m\u001b[1;33m.\u001b[0m\u001b[0mn_outputs_\u001b[0m \u001b[1;33m==\u001b[0m \u001b[1;36m1\u001b[0m \u001b[1;32mand\u001b[0m \u001b[0mis_classifier\u001b[0m\u001b[1;33m(\u001b[0m\u001b[0mself\u001b[0m\u001b[1;33m)\u001b[0m\u001b[1;33m:\u001b[0m\u001b[1;33m\u001b[0m\u001b[1;33m\u001b[0m\u001b[0m\n",
      "\u001b[1;31mKeyboardInterrupt\u001b[0m: "
     ]
    }
   ],
   "source": [
    "hyper_parms = tunning(features = TrainX_Scaled2, \n",
    "                      targets = TrainY2.iloc[:,1],\n",
    "                      n_estimators = n_estimators, \n",
    "                      min_samples_leaf = min_samples_leaf, \n",
    "                      max_features = max_features\n",
    "                     )"
   ]
  },
  {
   "cell_type": "code",
   "execution_count": null,
   "id": "6a1130c6",
   "metadata": {},
   "outputs": [],
   "source": [
    "hyper_parms.loc[hyper_parms[\"precision\"]>0.5]"
   ]
  },
  {
   "cell_type": "markdown",
   "id": "d730d315",
   "metadata": {},
   "source": [
    "n_estimators: 13, min_samples_leaf: 7, max_features: 0,9 => 0.563218"
   ]
  },
  {
   "cell_type": "code",
   "execution_count": 212,
   "id": "fd84ebf9",
   "metadata": {},
   "outputs": [],
   "source": [
    "RF_model = RandomForestClassifier(n_estimators=100, min_samples_leaf=10, max_features = 0.3, random_state=42)"
   ]
  },
  {
   "cell_type": "code",
   "execution_count": 213,
   "id": "aef44fa5",
   "metadata": {},
   "outputs": [],
   "source": [
    "predictions = backtest(features = TrainX_Scaled2, targets = TrainY2.iloc[:,1], model = RF_model)"
   ]
  },
  {
   "cell_type": "code",
   "execution_count": 214,
   "id": "e85f2002",
   "metadata": {},
   "outputs": [
    {
     "data": {
      "text/plain": [
       "0.5045871559633027"
      ]
     },
     "execution_count": 214,
     "metadata": {},
     "output_type": "execute_result"
    }
   ],
   "source": [
    "precision_score(predictions[\"Target\"], predictions[\"Predictions\"])"
   ]
  },
  {
   "cell_type": "code",
   "execution_count": 215,
   "id": "12d43a4b",
   "metadata": {},
   "outputs": [
    {
     "data": {
      "text/plain": [
       "1.0    109\n",
       "0.0     72\n",
       "Name: Predictions, dtype: int64"
      ]
     },
     "execution_count": 215,
     "metadata": {},
     "output_type": "execute_result"
    }
   ],
   "source": [
    "predictions[\"Predictions\"].value_counts()"
   ]
  },
  {
   "cell_type": "code",
   "execution_count": 216,
   "id": "e84955a3",
   "metadata": {},
   "outputs": [],
   "source": [
    "test_pred = RF_model.predict_proba(TestX_Scaled2)[:,1]"
   ]
  },
  {
   "cell_type": "code",
   "execution_count": 217,
   "id": "d1bc488c",
   "metadata": {},
   "outputs": [],
   "source": [
    "preds = pd.Series(test_pred, index = TestY2.index)\n",
    "preds[preds >.5] = 1\n",
    "preds[preds<=.5] = 0"
   ]
  },
  {
   "cell_type": "code",
   "execution_count": 218,
   "id": "7b55c4f6",
   "metadata": {},
   "outputs": [],
   "source": [
    "combined = pd.concat({\"Target\": TestY2[\"target_class\"], \"TargetValue\":TestY2[\"target_value\"], \"Predictions\": preds}, axis=1)"
   ]
  },
  {
   "cell_type": "code",
   "execution_count": 219,
   "id": "52e46057",
   "metadata": {},
   "outputs": [
    {
     "data": {
      "text/plain": [
       "0.5098039215686274"
      ]
     },
     "execution_count": 219,
     "metadata": {},
     "output_type": "execute_result"
    }
   ],
   "source": [
    "precision_score(combined[\"Target\"], combined[\"Predictions\"])"
   ]
  },
  {
   "cell_type": "code",
   "execution_count": 220,
   "id": "682ba18b",
   "metadata": {},
   "outputs": [
    {
     "data": {
      "text/plain": [
       "(86, 3)"
      ]
     },
     "execution_count": 220,
     "metadata": {},
     "output_type": "execute_result"
    }
   ],
   "source": [
    "combined.shape"
   ]
  },
  {
   "cell_type": "code",
   "execution_count": 221,
   "id": "45cef821",
   "metadata": {},
   "outputs": [],
   "source": [
    "pred_1 = combined.loc[combined[\"Predictions\"]==1]"
   ]
  },
  {
   "cell_type": "markdown",
   "id": "6a38447c",
   "metadata": {},
   "source": [
    "## Calculando lucro/prejuízo"
   ]
  },
  {
   "cell_type": "code",
   "execution_count": 224,
   "id": "e25a0163",
   "metadata": {},
   "outputs": [
    {
     "name": "stdout",
     "output_type": "stream",
     "text": [
      "1.2402496010334867\n"
     ]
    }
   ],
   "source": [
    "gp = 1\n",
    "for i in pred_1[\"TargetValue\"]:\n",
    "    gp = gp*(1+i)\n",
    "print(gp)"
   ]
  },
  {
   "cell_type": "code",
   "execution_count": 229,
   "id": "e6b87be4",
   "metadata": {},
   "outputs": [],
   "source": [
    "extremes = combined.loc[abs(combined[\"TargetValue\"])>0.025]"
   ]
  },
  {
   "cell_type": "code",
   "execution_count": 230,
   "id": "c5ce592b",
   "metadata": {},
   "outputs": [
    {
     "data": {
      "text/html": [
       "<div>\n",
       "<style scoped>\n",
       "    .dataframe tbody tr th:only-of-type {\n",
       "        vertical-align: middle;\n",
       "    }\n",
       "\n",
       "    .dataframe tbody tr th {\n",
       "        vertical-align: top;\n",
       "    }\n",
       "\n",
       "    .dataframe thead th {\n",
       "        text-align: right;\n",
       "    }\n",
       "</style>\n",
       "<table border=\"1\" class=\"dataframe\">\n",
       "  <thead>\n",
       "    <tr style=\"text-align: right;\">\n",
       "      <th></th>\n",
       "      <th>Target</th>\n",
       "      <th>TargetValue</th>\n",
       "      <th>Predictions</th>\n",
       "    </tr>\n",
       "    <tr>\n",
       "      <th>date</th>\n",
       "      <th></th>\n",
       "      <th></th>\n",
       "      <th></th>\n",
       "    </tr>\n",
       "  </thead>\n",
       "  <tbody>\n",
       "    <tr>\n",
       "      <th>2022-05-23 16:00:00</th>\n",
       "      <td>0.0</td>\n",
       "      <td>-0.130795</td>\n",
       "      <td>0.0</td>\n",
       "    </tr>\n",
       "    <tr>\n",
       "      <th>2022-05-24 15:00:00</th>\n",
       "      <td>1.0</td>\n",
       "      <td>0.160256</td>\n",
       "      <td>1.0</td>\n",
       "    </tr>\n",
       "    <tr>\n",
       "      <th>2022-05-24 16:00:00</th>\n",
       "      <td>0.0</td>\n",
       "      <td>-0.112155</td>\n",
       "      <td>0.0</td>\n",
       "    </tr>\n",
       "    <tr>\n",
       "      <th>2022-05-26 16:00:00</th>\n",
       "      <td>0.0</td>\n",
       "      <td>-0.029256</td>\n",
       "      <td>0.0</td>\n",
       "    </tr>\n",
       "    <tr>\n",
       "      <th>2022-05-27 16:00:00</th>\n",
       "      <td>0.0</td>\n",
       "      <td>-0.026410</td>\n",
       "      <td>0.0</td>\n",
       "    </tr>\n",
       "    <tr>\n",
       "      <th>2022-06-06 16:00:00</th>\n",
       "      <td>1.0</td>\n",
       "      <td>0.027107</td>\n",
       "      <td>1.0</td>\n",
       "    </tr>\n",
       "  </tbody>\n",
       "</table>\n",
       "</div>"
      ],
      "text/plain": [
       "                     Target  TargetValue  Predictions\n",
       "date                                                 \n",
       "2022-05-23 16:00:00     0.0    -0.130795          0.0\n",
       "2022-05-24 15:00:00     1.0     0.160256          1.0\n",
       "2022-05-24 16:00:00     0.0    -0.112155          0.0\n",
       "2022-05-26 16:00:00     0.0    -0.029256          0.0\n",
       "2022-05-27 16:00:00     0.0    -0.026410          0.0\n",
       "2022-06-06 16:00:00     1.0     0.027107          1.0"
      ]
     },
     "execution_count": 230,
     "metadata": {},
     "output_type": "execute_result"
    }
   ],
   "source": [
    "extremes"
   ]
  },
  {
   "cell_type": "markdown",
   "id": "e543f4d9",
   "metadata": {},
   "source": [
    "### Adaboost"
   ]
  },
  {
   "cell_type": "code",
   "execution_count": 37,
   "id": "156197ae",
   "metadata": {},
   "outputs": [],
   "source": [
    "AB_model = AdaBoostClassifier(random_state=42)"
   ]
  },
  {
   "cell_type": "code",
   "execution_count": 39,
   "id": "06973080",
   "metadata": {},
   "outputs": [],
   "source": [
    "AB_predictions = backtest(features = TrainX_Scaled2, targets = TrainY2.iloc[:,1], model = AB_model)"
   ]
  },
  {
   "cell_type": "code",
   "execution_count": 40,
   "id": "0c4a3cfe",
   "metadata": {},
   "outputs": [
    {
     "data": {
      "text/plain": [
       "1.0    106\n",
       "0.0     75\n",
       "Name: Predictions, dtype: int64"
      ]
     },
     "execution_count": 40,
     "metadata": {},
     "output_type": "execute_result"
    }
   ],
   "source": [
    "AB_predictions[\"Predictions\"].value_counts()"
   ]
  },
  {
   "cell_type": "code",
   "execution_count": 41,
   "id": "9cc452d8",
   "metadata": {},
   "outputs": [
    {
     "data": {
      "text/plain": [
       "0.4811320754716981"
      ]
     },
     "execution_count": 41,
     "metadata": {},
     "output_type": "execute_result"
    }
   ],
   "source": [
    "precision_score(AB_predictions[\"Target\"], AB_predictions[\"Predictions\"])"
   ]
  },
  {
   "cell_type": "code",
   "execution_count": 42,
   "id": "074c7ef8",
   "metadata": {},
   "outputs": [],
   "source": [
    "def AB_tunning(features, targets, n_estimators, learning_rate):\n",
    "    \n",
    "    \"\"\"\n",
    "    Faz a busca pelos hyperparametros mais adequados ao\n",
    "    modelo.\n",
    "    \n",
    "    Argumentos\n",
    "    ----------\n",
    "    \n",
    "    n_estimators: list\n",
    "    Lista contendo os valores de n_estimators a serem testados\n",
    "    \n",
    "    learning_rate: list\n",
    "    Lista contendo os valores de learning_rate a serem testados\n",
    "\n",
    "    Retorna\n",
    "    -------\n",
    "    Data Frame com as combinações de hiperparametros e a precisão\n",
    "    correspondente\n",
    "    \n",
    "    \"\"\"\n",
    "    \n",
    "    ilist = []\n",
    "    jlist = []\n",
    "    precisionlist = []\n",
    "    for i in n_estimators:\n",
    "        for j in learning_rate:\n",
    "                AB_model = AdaBoostClassifier(n_estimators=i, learning_rate=j, random_state=42)\n",
    "                predictions = backtest(features = features, targets = targets, model = AB_model)\n",
    "                p = precision_score(predictions[\"Target\"], predictions[\"Predictions\"])\n",
    "                ilist.append(i)\n",
    "                jlist.append(j)\n",
    "                precisionlist.append(p)\n",
    "    d={\n",
    "    'n_estimators': ilist,\n",
    "    'learning_rate': jlist,\n",
    "    \"precision\": precisionlist}\n",
    "    \n",
    "    return pd.DataFrame.from_dict(d, orient='index').transpose()"
   ]
  },
  {
   "cell_type": "code",
   "execution_count": 43,
   "id": "0f6c6725",
   "metadata": {},
   "outputs": [],
   "source": [
    "n_estimators = [50,100,200,800,1600]\n",
    "learning_rate = [1,2,3]"
   ]
  },
  {
   "cell_type": "code",
   "execution_count": 44,
   "id": "e766d457",
   "metadata": {},
   "outputs": [],
   "source": [
    "AB_hyper_parms = AB_tunning(features = TrainX_Scaled2, \n",
    "                      targets = TrainY2.iloc[:,1],\n",
    "                      n_estimators = n_estimators,\n",
    "                      learning_rate = learning_rate)"
   ]
  },
  {
   "cell_type": "code",
   "execution_count": 45,
   "id": "26d69e6b",
   "metadata": {},
   "outputs": [
    {
     "data": {
      "text/html": [
       "<div>\n",
       "<style scoped>\n",
       "    .dataframe tbody tr th:only-of-type {\n",
       "        vertical-align: middle;\n",
       "    }\n",
       "\n",
       "    .dataframe tbody tr th {\n",
       "        vertical-align: top;\n",
       "    }\n",
       "\n",
       "    .dataframe thead th {\n",
       "        text-align: right;\n",
       "    }\n",
       "</style>\n",
       "<table border=\"1\" class=\"dataframe\">\n",
       "  <thead>\n",
       "    <tr style=\"text-align: right;\">\n",
       "      <th></th>\n",
       "      <th>n_estimators</th>\n",
       "      <th>learning_rate</th>\n",
       "      <th>precision</th>\n",
       "    </tr>\n",
       "  </thead>\n",
       "  <tbody>\n",
       "    <tr>\n",
       "      <th>0</th>\n",
       "      <td>50.0</td>\n",
       "      <td>1.0</td>\n",
       "      <td>0.481132</td>\n",
       "    </tr>\n",
       "    <tr>\n",
       "      <th>1</th>\n",
       "      <td>50.0</td>\n",
       "      <td>2.0</td>\n",
       "      <td>0.555556</td>\n",
       "    </tr>\n",
       "    <tr>\n",
       "      <th>2</th>\n",
       "      <td>50.0</td>\n",
       "      <td>3.0</td>\n",
       "      <td>0.527473</td>\n",
       "    </tr>\n",
       "    <tr>\n",
       "      <th>3</th>\n",
       "      <td>100.0</td>\n",
       "      <td>1.0</td>\n",
       "      <td>0.486726</td>\n",
       "    </tr>\n",
       "    <tr>\n",
       "      <th>4</th>\n",
       "      <td>100.0</td>\n",
       "      <td>2.0</td>\n",
       "      <td>0.550000</td>\n",
       "    </tr>\n",
       "    <tr>\n",
       "      <th>5</th>\n",
       "      <td>100.0</td>\n",
       "      <td>3.0</td>\n",
       "      <td>0.527473</td>\n",
       "    </tr>\n",
       "    <tr>\n",
       "      <th>6</th>\n",
       "      <td>200.0</td>\n",
       "      <td>1.0</td>\n",
       "      <td>0.504762</td>\n",
       "    </tr>\n",
       "    <tr>\n",
       "      <th>7</th>\n",
       "      <td>200.0</td>\n",
       "      <td>2.0</td>\n",
       "      <td>0.561644</td>\n",
       "    </tr>\n",
       "    <tr>\n",
       "      <th>8</th>\n",
       "      <td>200.0</td>\n",
       "      <td>3.0</td>\n",
       "      <td>0.505747</td>\n",
       "    </tr>\n",
       "    <tr>\n",
       "      <th>9</th>\n",
       "      <td>800.0</td>\n",
       "      <td>1.0</td>\n",
       "      <td>0.500000</td>\n",
       "    </tr>\n",
       "    <tr>\n",
       "      <th>10</th>\n",
       "      <td>800.0</td>\n",
       "      <td>2.0</td>\n",
       "      <td>0.538462</td>\n",
       "    </tr>\n",
       "    <tr>\n",
       "      <th>11</th>\n",
       "      <td>800.0</td>\n",
       "      <td>3.0</td>\n",
       "      <td>0.500000</td>\n",
       "    </tr>\n",
       "    <tr>\n",
       "      <th>12</th>\n",
       "      <td>1600.0</td>\n",
       "      <td>1.0</td>\n",
       "      <td>0.522222</td>\n",
       "    </tr>\n",
       "    <tr>\n",
       "      <th>13</th>\n",
       "      <td>1600.0</td>\n",
       "      <td>2.0</td>\n",
       "      <td>0.538462</td>\n",
       "    </tr>\n",
       "    <tr>\n",
       "      <th>14</th>\n",
       "      <td>1600.0</td>\n",
       "      <td>3.0</td>\n",
       "      <td>0.500000</td>\n",
       "    </tr>\n",
       "  </tbody>\n",
       "</table>\n",
       "</div>"
      ],
      "text/plain": [
       "    n_estimators  learning_rate  precision\n",
       "0           50.0            1.0   0.481132\n",
       "1           50.0            2.0   0.555556\n",
       "2           50.0            3.0   0.527473\n",
       "3          100.0            1.0   0.486726\n",
       "4          100.0            2.0   0.550000\n",
       "5          100.0            3.0   0.527473\n",
       "6          200.0            1.0   0.504762\n",
       "7          200.0            2.0   0.561644\n",
       "8          200.0            3.0   0.505747\n",
       "9          800.0            1.0   0.500000\n",
       "10         800.0            2.0   0.538462\n",
       "11         800.0            3.0   0.500000\n",
       "12        1600.0            1.0   0.522222\n",
       "13        1600.0            2.0   0.538462\n",
       "14        1600.0            3.0   0.500000"
      ]
     },
     "execution_count": 45,
     "metadata": {},
     "output_type": "execute_result"
    }
   ],
   "source": [
    "AB_hyper_parms"
   ]
  },
  {
   "cell_type": "code",
   "execution_count": 231,
   "id": "70d90347",
   "metadata": {},
   "outputs": [],
   "source": [
    "AB_model = AdaBoostClassifier(n_estimators = 800, learning_rate = 1, random_state=42)"
   ]
  },
  {
   "cell_type": "code",
   "execution_count": 232,
   "id": "03aac079",
   "metadata": {},
   "outputs": [],
   "source": [
    "AB_predictions = backtest(features = TrainX_Scaled2, targets = TrainY2.iloc[:,1], model = AB_model)"
   ]
  },
  {
   "cell_type": "code",
   "execution_count": 233,
   "id": "89d61553",
   "metadata": {},
   "outputs": [
    {
     "data": {
      "text/plain": [
       "0.5"
      ]
     },
     "execution_count": 233,
     "metadata": {},
     "output_type": "execute_result"
    }
   ],
   "source": [
    "precision_score(AB_predictions[\"Target\"], AB_predictions[\"Predictions\"])"
   ]
  },
  {
   "cell_type": "code",
   "execution_count": 234,
   "id": "1332f751",
   "metadata": {},
   "outputs": [],
   "source": [
    "AB_test_pred = AB_model.predict_proba(TestX_Scaled2)[:,1]"
   ]
  },
  {
   "cell_type": "code",
   "execution_count": 235,
   "id": "c6d3e661",
   "metadata": {},
   "outputs": [],
   "source": [
    "AB_preds = pd.Series(AB_test_pred, index = TestY2.index)"
   ]
  },
  {
   "cell_type": "code",
   "execution_count": 236,
   "id": "4e4ea466",
   "metadata": {},
   "outputs": [],
   "source": [
    "AB_combined = pd.concat({\"Target\": TestY2[\"target_class\"], \"TargetValue\":TestY2[\"target_value\"], \"Predictions\": AB_preds}, axis=1)"
   ]
  },
  {
   "cell_type": "code",
   "execution_count": 237,
   "id": "c1763386",
   "metadata": {},
   "outputs": [
    {
     "data": {
      "text/html": [
       "<div>\n",
       "<style scoped>\n",
       "    .dataframe tbody tr th:only-of-type {\n",
       "        vertical-align: middle;\n",
       "    }\n",
       "\n",
       "    .dataframe tbody tr th {\n",
       "        vertical-align: top;\n",
       "    }\n",
       "\n",
       "    .dataframe thead th {\n",
       "        text-align: right;\n",
       "    }\n",
       "</style>\n",
       "<table border=\"1\" class=\"dataframe\">\n",
       "  <thead>\n",
       "    <tr style=\"text-align: right;\">\n",
       "      <th></th>\n",
       "      <th>Target</th>\n",
       "      <th>TargetValue</th>\n",
       "      <th>Predictions</th>\n",
       "    </tr>\n",
       "    <tr>\n",
       "      <th>date</th>\n",
       "      <th></th>\n",
       "      <th></th>\n",
       "      <th></th>\n",
       "    </tr>\n",
       "  </thead>\n",
       "  <tbody>\n",
       "    <tr>\n",
       "      <th>2022-05-20 14:00:00</th>\n",
       "      <td>0.0</td>\n",
       "      <td>-0.001443</td>\n",
       "      <td>0.502503</td>\n",
       "    </tr>\n",
       "    <tr>\n",
       "      <th>2022-05-20 15:00:00</th>\n",
       "      <td>1.0</td>\n",
       "      <td>0.004626</td>\n",
       "      <td>0.501018</td>\n",
       "    </tr>\n",
       "    <tr>\n",
       "      <th>2022-05-20 16:00:00</th>\n",
       "      <td>1.0</td>\n",
       "      <td>0.019281</td>\n",
       "      <td>0.501421</td>\n",
       "    </tr>\n",
       "    <tr>\n",
       "      <th>2022-05-23 10:00:00</th>\n",
       "      <td>1.0</td>\n",
       "      <td>0.011293</td>\n",
       "      <td>0.520503</td>\n",
       "    </tr>\n",
       "    <tr>\n",
       "      <th>2022-05-23 11:00:00</th>\n",
       "      <td>1.0</td>\n",
       "      <td>0.001396</td>\n",
       "      <td>0.499100</td>\n",
       "    </tr>\n",
       "    <tr>\n",
       "      <th>...</th>\n",
       "      <td>...</td>\n",
       "      <td>...</td>\n",
       "      <td>...</td>\n",
       "    </tr>\n",
       "    <tr>\n",
       "      <th>2022-06-07 11:00:00</th>\n",
       "      <td>0.0</td>\n",
       "      <td>-0.002259</td>\n",
       "      <td>0.498346</td>\n",
       "    </tr>\n",
       "    <tr>\n",
       "      <th>2022-06-07 12:00:00</th>\n",
       "      <td>1.0</td>\n",
       "      <td>0.000970</td>\n",
       "      <td>0.500610</td>\n",
       "    </tr>\n",
       "    <tr>\n",
       "      <th>2022-06-07 13:00:00</th>\n",
       "      <td>0.0</td>\n",
       "      <td>-0.005816</td>\n",
       "      <td>0.502832</td>\n",
       "    </tr>\n",
       "    <tr>\n",
       "      <th>2022-06-07 14:00:00</th>\n",
       "      <td>1.0</td>\n",
       "      <td>0.002275</td>\n",
       "      <td>0.499418</td>\n",
       "    </tr>\n",
       "    <tr>\n",
       "      <th>2022-06-07 15:00:00</th>\n",
       "      <td>0.0</td>\n",
       "      <td>-0.004864</td>\n",
       "      <td>0.491579</td>\n",
       "    </tr>\n",
       "  </tbody>\n",
       "</table>\n",
       "<p>86 rows × 3 columns</p>\n",
       "</div>"
      ],
      "text/plain": [
       "                     Target  TargetValue  Predictions\n",
       "date                                                 \n",
       "2022-05-20 14:00:00     0.0    -0.001443     0.502503\n",
       "2022-05-20 15:00:00     1.0     0.004626     0.501018\n",
       "2022-05-20 16:00:00     1.0     0.019281     0.501421\n",
       "2022-05-23 10:00:00     1.0     0.011293     0.520503\n",
       "2022-05-23 11:00:00     1.0     0.001396     0.499100\n",
       "...                     ...          ...          ...\n",
       "2022-06-07 11:00:00     0.0    -0.002259     0.498346\n",
       "2022-06-07 12:00:00     1.0     0.000970     0.500610\n",
       "2022-06-07 13:00:00     0.0    -0.005816     0.502832\n",
       "2022-06-07 14:00:00     1.0     0.002275     0.499418\n",
       "2022-06-07 15:00:00     0.0    -0.004864     0.491579\n",
       "\n",
       "[86 rows x 3 columns]"
      ]
     },
     "execution_count": 237,
     "metadata": {},
     "output_type": "execute_result"
    }
   ],
   "source": [
    "AB_combined"
   ]
  },
  {
   "cell_type": "code",
   "execution_count": 238,
   "id": "e8763aaa",
   "metadata": {},
   "outputs": [],
   "source": [
    "AB_combined[\"Predictions\"].loc[AB_combined[\"Predictions\"]>0.5] = 1\n",
    "AB_combined[\"Predictions\"].loc[AB_combined[\"Predictions\"]<=0.5] = 0"
   ]
  },
  {
   "cell_type": "code",
   "execution_count": 239,
   "id": "69ecb4ef",
   "metadata": {},
   "outputs": [
    {
     "data": {
      "text/html": [
       "<div>\n",
       "<style scoped>\n",
       "    .dataframe tbody tr th:only-of-type {\n",
       "        vertical-align: middle;\n",
       "    }\n",
       "\n",
       "    .dataframe tbody tr th {\n",
       "        vertical-align: top;\n",
       "    }\n",
       "\n",
       "    .dataframe thead th {\n",
       "        text-align: right;\n",
       "    }\n",
       "</style>\n",
       "<table border=\"1\" class=\"dataframe\">\n",
       "  <thead>\n",
       "    <tr style=\"text-align: right;\">\n",
       "      <th></th>\n",
       "      <th>Target</th>\n",
       "      <th>TargetValue</th>\n",
       "      <th>Predictions</th>\n",
       "    </tr>\n",
       "    <tr>\n",
       "      <th>date</th>\n",
       "      <th></th>\n",
       "      <th></th>\n",
       "      <th></th>\n",
       "    </tr>\n",
       "  </thead>\n",
       "  <tbody>\n",
       "    <tr>\n",
       "      <th>2022-05-20 14:00:00</th>\n",
       "      <td>0.0</td>\n",
       "      <td>-0.001443</td>\n",
       "      <td>1.0</td>\n",
       "    </tr>\n",
       "    <tr>\n",
       "      <th>2022-05-20 15:00:00</th>\n",
       "      <td>1.0</td>\n",
       "      <td>0.004626</td>\n",
       "      <td>1.0</td>\n",
       "    </tr>\n",
       "    <tr>\n",
       "      <th>2022-05-20 16:00:00</th>\n",
       "      <td>1.0</td>\n",
       "      <td>0.019281</td>\n",
       "      <td>1.0</td>\n",
       "    </tr>\n",
       "    <tr>\n",
       "      <th>2022-05-23 10:00:00</th>\n",
       "      <td>1.0</td>\n",
       "      <td>0.011293</td>\n",
       "      <td>1.0</td>\n",
       "    </tr>\n",
       "    <tr>\n",
       "      <th>2022-05-23 11:00:00</th>\n",
       "      <td>1.0</td>\n",
       "      <td>0.001396</td>\n",
       "      <td>0.0</td>\n",
       "    </tr>\n",
       "    <tr>\n",
       "      <th>...</th>\n",
       "      <td>...</td>\n",
       "      <td>...</td>\n",
       "      <td>...</td>\n",
       "    </tr>\n",
       "    <tr>\n",
       "      <th>2022-06-07 11:00:00</th>\n",
       "      <td>0.0</td>\n",
       "      <td>-0.002259</td>\n",
       "      <td>0.0</td>\n",
       "    </tr>\n",
       "    <tr>\n",
       "      <th>2022-06-07 12:00:00</th>\n",
       "      <td>1.0</td>\n",
       "      <td>0.000970</td>\n",
       "      <td>1.0</td>\n",
       "    </tr>\n",
       "    <tr>\n",
       "      <th>2022-06-07 13:00:00</th>\n",
       "      <td>0.0</td>\n",
       "      <td>-0.005816</td>\n",
       "      <td>1.0</td>\n",
       "    </tr>\n",
       "    <tr>\n",
       "      <th>2022-06-07 14:00:00</th>\n",
       "      <td>1.0</td>\n",
       "      <td>0.002275</td>\n",
       "      <td>0.0</td>\n",
       "    </tr>\n",
       "    <tr>\n",
       "      <th>2022-06-07 15:00:00</th>\n",
       "      <td>0.0</td>\n",
       "      <td>-0.004864</td>\n",
       "      <td>0.0</td>\n",
       "    </tr>\n",
       "  </tbody>\n",
       "</table>\n",
       "<p>86 rows × 3 columns</p>\n",
       "</div>"
      ],
      "text/plain": [
       "                     Target  TargetValue  Predictions\n",
       "date                                                 \n",
       "2022-05-20 14:00:00     0.0    -0.001443          1.0\n",
       "2022-05-20 15:00:00     1.0     0.004626          1.0\n",
       "2022-05-20 16:00:00     1.0     0.019281          1.0\n",
       "2022-05-23 10:00:00     1.0     0.011293          1.0\n",
       "2022-05-23 11:00:00     1.0     0.001396          0.0\n",
       "...                     ...          ...          ...\n",
       "2022-06-07 11:00:00     0.0    -0.002259          0.0\n",
       "2022-06-07 12:00:00     1.0     0.000970          1.0\n",
       "2022-06-07 13:00:00     0.0    -0.005816          1.0\n",
       "2022-06-07 14:00:00     1.0     0.002275          0.0\n",
       "2022-06-07 15:00:00     0.0    -0.004864          0.0\n",
       "\n",
       "[86 rows x 3 columns]"
      ]
     },
     "execution_count": 239,
     "metadata": {},
     "output_type": "execute_result"
    }
   ],
   "source": [
    "AB_combined"
   ]
  },
  {
   "cell_type": "code",
   "execution_count": 240,
   "id": "e46f0049",
   "metadata": {},
   "outputs": [
    {
     "data": {
      "text/plain": [
       "0.5576923076923077"
      ]
     },
     "execution_count": 240,
     "metadata": {},
     "output_type": "execute_result"
    }
   ],
   "source": [
    "precision_score(AB_combined[\"Target\"], AB_combined[\"Predictions\"])"
   ]
  },
  {
   "cell_type": "code",
   "execution_count": 241,
   "id": "929bb98d",
   "metadata": {},
   "outputs": [],
   "source": [
    "AB_pred_1 = AB_combined.loc[AB_combined[\"Predictions\"]==1]"
   ]
  },
  {
   "cell_type": "code",
   "execution_count": 242,
   "id": "53c4266d",
   "metadata": {},
   "outputs": [
    {
     "data": {
      "text/html": [
       "<div>\n",
       "<style scoped>\n",
       "    .dataframe tbody tr th:only-of-type {\n",
       "        vertical-align: middle;\n",
       "    }\n",
       "\n",
       "    .dataframe tbody tr th {\n",
       "        vertical-align: top;\n",
       "    }\n",
       "\n",
       "    .dataframe thead th {\n",
       "        text-align: right;\n",
       "    }\n",
       "</style>\n",
       "<table border=\"1\" class=\"dataframe\">\n",
       "  <thead>\n",
       "    <tr style=\"text-align: right;\">\n",
       "      <th></th>\n",
       "      <th>Target</th>\n",
       "      <th>TargetValue</th>\n",
       "      <th>Predictions</th>\n",
       "    </tr>\n",
       "    <tr>\n",
       "      <th>date</th>\n",
       "      <th></th>\n",
       "      <th></th>\n",
       "      <th></th>\n",
       "    </tr>\n",
       "  </thead>\n",
       "  <tbody>\n",
       "    <tr>\n",
       "      <th>2022-05-20 14:00:00</th>\n",
       "      <td>0.0</td>\n",
       "      <td>-0.001443</td>\n",
       "      <td>1.0</td>\n",
       "    </tr>\n",
       "    <tr>\n",
       "      <th>2022-05-20 15:00:00</th>\n",
       "      <td>1.0</td>\n",
       "      <td>0.004626</td>\n",
       "      <td>1.0</td>\n",
       "    </tr>\n",
       "    <tr>\n",
       "      <th>2022-05-20 16:00:00</th>\n",
       "      <td>1.0</td>\n",
       "      <td>0.019281</td>\n",
       "      <td>1.0</td>\n",
       "    </tr>\n",
       "    <tr>\n",
       "      <th>2022-05-23 10:00:00</th>\n",
       "      <td>1.0</td>\n",
       "      <td>0.011293</td>\n",
       "      <td>1.0</td>\n",
       "    </tr>\n",
       "    <tr>\n",
       "      <th>2022-05-24 10:00:00</th>\n",
       "      <td>0.0</td>\n",
       "      <td>-0.018095</td>\n",
       "      <td>1.0</td>\n",
       "    </tr>\n",
       "    <tr>\n",
       "      <th>2022-05-24 11:00:00</th>\n",
       "      <td>1.0</td>\n",
       "      <td>0.007436</td>\n",
       "      <td>1.0</td>\n",
       "    </tr>\n",
       "    <tr>\n",
       "      <th>2022-05-24 13:00:00</th>\n",
       "      <td>1.0</td>\n",
       "      <td>0.000322</td>\n",
       "      <td>1.0</td>\n",
       "    </tr>\n",
       "    <tr>\n",
       "      <th>2022-05-24 14:00:00</th>\n",
       "      <td>1.0</td>\n",
       "      <td>0.005155</td>\n",
       "      <td>1.0</td>\n",
       "    </tr>\n",
       "    <tr>\n",
       "      <th>2022-05-24 15:00:00</th>\n",
       "      <td>1.0</td>\n",
       "      <td>0.160256</td>\n",
       "      <td>1.0</td>\n",
       "    </tr>\n",
       "    <tr>\n",
       "      <th>2022-05-25 10:00:00</th>\n",
       "      <td>0.0</td>\n",
       "      <td>-0.003423</td>\n",
       "      <td>1.0</td>\n",
       "    </tr>\n",
       "    <tr>\n",
       "      <th>2022-05-25 14:00:00</th>\n",
       "      <td>1.0</td>\n",
       "      <td>0.003761</td>\n",
       "      <td>1.0</td>\n",
       "    </tr>\n",
       "    <tr>\n",
       "      <th>2022-05-25 15:00:00</th>\n",
       "      <td>0.0</td>\n",
       "      <td>-0.002498</td>\n",
       "      <td>1.0</td>\n",
       "    </tr>\n",
       "    <tr>\n",
       "      <th>2022-05-25 16:00:00</th>\n",
       "      <td>1.0</td>\n",
       "      <td>0.018466</td>\n",
       "      <td>1.0</td>\n",
       "    </tr>\n",
       "    <tr>\n",
       "      <th>2022-05-26 12:00:00</th>\n",
       "      <td>1.0</td>\n",
       "      <td>0.000618</td>\n",
       "      <td>1.0</td>\n",
       "    </tr>\n",
       "    <tr>\n",
       "      <th>2022-05-26 13:00:00</th>\n",
       "      <td>0.0</td>\n",
       "      <td>-0.010188</td>\n",
       "      <td>1.0</td>\n",
       "    </tr>\n",
       "    <tr>\n",
       "      <th>2022-05-26 14:00:00</th>\n",
       "      <td>1.0</td>\n",
       "      <td>0.005926</td>\n",
       "      <td>1.0</td>\n",
       "    </tr>\n",
       "    <tr>\n",
       "      <th>2022-05-26 15:00:00</th>\n",
       "      <td>0.0</td>\n",
       "      <td>-0.003721</td>\n",
       "      <td>1.0</td>\n",
       "    </tr>\n",
       "    <tr>\n",
       "      <th>2022-05-26 16:00:00</th>\n",
       "      <td>0.0</td>\n",
       "      <td>-0.029256</td>\n",
       "      <td>1.0</td>\n",
       "    </tr>\n",
       "    <tr>\n",
       "      <th>2022-05-27 10:00:00</th>\n",
       "      <td>0.0</td>\n",
       "      <td>-0.004809</td>\n",
       "      <td>1.0</td>\n",
       "    </tr>\n",
       "    <tr>\n",
       "      <th>2022-05-27 12:00:00</th>\n",
       "      <td>0.0</td>\n",
       "      <td>-0.001939</td>\n",
       "      <td>1.0</td>\n",
       "    </tr>\n",
       "    <tr>\n",
       "      <th>2022-05-27 13:00:00</th>\n",
       "      <td>1.0</td>\n",
       "      <td>0.004210</td>\n",
       "      <td>1.0</td>\n",
       "    </tr>\n",
       "    <tr>\n",
       "      <th>2022-05-27 15:00:00</th>\n",
       "      <td>0.0</td>\n",
       "      <td>-0.012238</td>\n",
       "      <td>1.0</td>\n",
       "    </tr>\n",
       "    <tr>\n",
       "      <th>2022-05-27 16:00:00</th>\n",
       "      <td>0.0</td>\n",
       "      <td>-0.026410</td>\n",
       "      <td>1.0</td>\n",
       "    </tr>\n",
       "    <tr>\n",
       "      <th>2022-05-30 10:00:00</th>\n",
       "      <td>0.0</td>\n",
       "      <td>-0.016410</td>\n",
       "      <td>1.0</td>\n",
       "    </tr>\n",
       "    <tr>\n",
       "      <th>2022-05-30 11:00:00</th>\n",
       "      <td>0.0</td>\n",
       "      <td>0.000000</td>\n",
       "      <td>1.0</td>\n",
       "    </tr>\n",
       "    <tr>\n",
       "      <th>2022-05-30 12:00:00</th>\n",
       "      <td>1.0</td>\n",
       "      <td>0.007831</td>\n",
       "      <td>1.0</td>\n",
       "    </tr>\n",
       "    <tr>\n",
       "      <th>2022-05-30 13:00:00</th>\n",
       "      <td>1.0</td>\n",
       "      <td>0.005405</td>\n",
       "      <td>1.0</td>\n",
       "    </tr>\n",
       "    <tr>\n",
       "      <th>2022-05-30 14:00:00</th>\n",
       "      <td>1.0</td>\n",
       "      <td>0.008065</td>\n",
       "      <td>1.0</td>\n",
       "    </tr>\n",
       "    <tr>\n",
       "      <th>2022-05-30 16:00:00</th>\n",
       "      <td>1.0</td>\n",
       "      <td>0.012696</td>\n",
       "      <td>1.0</td>\n",
       "    </tr>\n",
       "    <tr>\n",
       "      <th>2022-05-31 10:00:00</th>\n",
       "      <td>0.0</td>\n",
       "      <td>-0.003629</td>\n",
       "      <td>1.0</td>\n",
       "    </tr>\n",
       "    <tr>\n",
       "      <th>2022-05-31 11:00:00</th>\n",
       "      <td>0.0</td>\n",
       "      <td>0.000000</td>\n",
       "      <td>1.0</td>\n",
       "    </tr>\n",
       "    <tr>\n",
       "      <th>2022-05-31 12:00:00</th>\n",
       "      <td>0.0</td>\n",
       "      <td>-0.002318</td>\n",
       "      <td>1.0</td>\n",
       "    </tr>\n",
       "    <tr>\n",
       "      <th>2022-05-31 13:00:00</th>\n",
       "      <td>0.0</td>\n",
       "      <td>-0.001991</td>\n",
       "      <td>1.0</td>\n",
       "    </tr>\n",
       "    <tr>\n",
       "      <th>2022-05-31 15:00:00</th>\n",
       "      <td>0.0</td>\n",
       "      <td>-0.001337</td>\n",
       "      <td>1.0</td>\n",
       "    </tr>\n",
       "    <tr>\n",
       "      <th>2022-05-31 16:00:00</th>\n",
       "      <td>1.0</td>\n",
       "      <td>0.009374</td>\n",
       "      <td>1.0</td>\n",
       "    </tr>\n",
       "    <tr>\n",
       "      <th>2022-06-01 11:00:00</th>\n",
       "      <td>0.0</td>\n",
       "      <td>-0.006304</td>\n",
       "      <td>1.0</td>\n",
       "    </tr>\n",
       "    <tr>\n",
       "      <th>2022-06-01 12:00:00</th>\n",
       "      <td>1.0</td>\n",
       "      <td>0.003005</td>\n",
       "      <td>1.0</td>\n",
       "    </tr>\n",
       "    <tr>\n",
       "      <th>2022-06-01 13:00:00</th>\n",
       "      <td>1.0</td>\n",
       "      <td>0.001332</td>\n",
       "      <td>1.0</td>\n",
       "    </tr>\n",
       "    <tr>\n",
       "      <th>2022-06-01 15:00:00</th>\n",
       "      <td>1.0</td>\n",
       "      <td>0.001665</td>\n",
       "      <td>1.0</td>\n",
       "    </tr>\n",
       "    <tr>\n",
       "      <th>2022-06-02 13:00:00</th>\n",
       "      <td>0.0</td>\n",
       "      <td>-0.000335</td>\n",
       "      <td>1.0</td>\n",
       "    </tr>\n",
       "    <tr>\n",
       "      <th>2022-06-02 15:00:00</th>\n",
       "      <td>1.0</td>\n",
       "      <td>0.001683</td>\n",
       "      <td>1.0</td>\n",
       "    </tr>\n",
       "    <tr>\n",
       "      <th>2022-06-02 16:00:00</th>\n",
       "      <td>1.0</td>\n",
       "      <td>0.003697</td>\n",
       "      <td>1.0</td>\n",
       "    </tr>\n",
       "    <tr>\n",
       "      <th>2022-06-03 10:00:00</th>\n",
       "      <td>0.0</td>\n",
       "      <td>0.000000</td>\n",
       "      <td>1.0</td>\n",
       "    </tr>\n",
       "    <tr>\n",
       "      <th>2022-06-03 15:00:00</th>\n",
       "      <td>1.0</td>\n",
       "      <td>0.001985</td>\n",
       "      <td>1.0</td>\n",
       "    </tr>\n",
       "    <tr>\n",
       "      <th>2022-06-03 16:00:00</th>\n",
       "      <td>1.0</td>\n",
       "      <td>0.006275</td>\n",
       "      <td>1.0</td>\n",
       "    </tr>\n",
       "    <tr>\n",
       "      <th>2022-06-06 11:00:00</th>\n",
       "      <td>0.0</td>\n",
       "      <td>-0.002323</td>\n",
       "      <td>1.0</td>\n",
       "    </tr>\n",
       "    <tr>\n",
       "      <th>2022-06-06 12:00:00</th>\n",
       "      <td>1.0</td>\n",
       "      <td>0.000333</td>\n",
       "      <td>1.0</td>\n",
       "    </tr>\n",
       "    <tr>\n",
       "      <th>2022-06-06 13:00:00</th>\n",
       "      <td>1.0</td>\n",
       "      <td>0.009977</td>\n",
       "      <td>1.0</td>\n",
       "    </tr>\n",
       "    <tr>\n",
       "      <th>2022-06-06 15:00:00</th>\n",
       "      <td>1.0</td>\n",
       "      <td>0.003317</td>\n",
       "      <td>1.0</td>\n",
       "    </tr>\n",
       "    <tr>\n",
       "      <th>2022-06-06 16:00:00</th>\n",
       "      <td>1.0</td>\n",
       "      <td>0.027107</td>\n",
       "      <td>1.0</td>\n",
       "    </tr>\n",
       "    <tr>\n",
       "      <th>2022-06-07 12:00:00</th>\n",
       "      <td>1.0</td>\n",
       "      <td>0.000970</td>\n",
       "      <td>1.0</td>\n",
       "    </tr>\n",
       "    <tr>\n",
       "      <th>2022-06-07 13:00:00</th>\n",
       "      <td>0.0</td>\n",
       "      <td>-0.005816</td>\n",
       "      <td>1.0</td>\n",
       "    </tr>\n",
       "  </tbody>\n",
       "</table>\n",
       "</div>"
      ],
      "text/plain": [
       "                     Target  TargetValue  Predictions\n",
       "date                                                 \n",
       "2022-05-20 14:00:00     0.0    -0.001443          1.0\n",
       "2022-05-20 15:00:00     1.0     0.004626          1.0\n",
       "2022-05-20 16:00:00     1.0     0.019281          1.0\n",
       "2022-05-23 10:00:00     1.0     0.011293          1.0\n",
       "2022-05-24 10:00:00     0.0    -0.018095          1.0\n",
       "2022-05-24 11:00:00     1.0     0.007436          1.0\n",
       "2022-05-24 13:00:00     1.0     0.000322          1.0\n",
       "2022-05-24 14:00:00     1.0     0.005155          1.0\n",
       "2022-05-24 15:00:00     1.0     0.160256          1.0\n",
       "2022-05-25 10:00:00     0.0    -0.003423          1.0\n",
       "2022-05-25 14:00:00     1.0     0.003761          1.0\n",
       "2022-05-25 15:00:00     0.0    -0.002498          1.0\n",
       "2022-05-25 16:00:00     1.0     0.018466          1.0\n",
       "2022-05-26 12:00:00     1.0     0.000618          1.0\n",
       "2022-05-26 13:00:00     0.0    -0.010188          1.0\n",
       "2022-05-26 14:00:00     1.0     0.005926          1.0\n",
       "2022-05-26 15:00:00     0.0    -0.003721          1.0\n",
       "2022-05-26 16:00:00     0.0    -0.029256          1.0\n",
       "2022-05-27 10:00:00     0.0    -0.004809          1.0\n",
       "2022-05-27 12:00:00     0.0    -0.001939          1.0\n",
       "2022-05-27 13:00:00     1.0     0.004210          1.0\n",
       "2022-05-27 15:00:00     0.0    -0.012238          1.0\n",
       "2022-05-27 16:00:00     0.0    -0.026410          1.0\n",
       "2022-05-30 10:00:00     0.0    -0.016410          1.0\n",
       "2022-05-30 11:00:00     0.0     0.000000          1.0\n",
       "2022-05-30 12:00:00     1.0     0.007831          1.0\n",
       "2022-05-30 13:00:00     1.0     0.005405          1.0\n",
       "2022-05-30 14:00:00     1.0     0.008065          1.0\n",
       "2022-05-30 16:00:00     1.0     0.012696          1.0\n",
       "2022-05-31 10:00:00     0.0    -0.003629          1.0\n",
       "2022-05-31 11:00:00     0.0     0.000000          1.0\n",
       "2022-05-31 12:00:00     0.0    -0.002318          1.0\n",
       "2022-05-31 13:00:00     0.0    -0.001991          1.0\n",
       "2022-05-31 15:00:00     0.0    -0.001337          1.0\n",
       "2022-05-31 16:00:00     1.0     0.009374          1.0\n",
       "2022-06-01 11:00:00     0.0    -0.006304          1.0\n",
       "2022-06-01 12:00:00     1.0     0.003005          1.0\n",
       "2022-06-01 13:00:00     1.0     0.001332          1.0\n",
       "2022-06-01 15:00:00     1.0     0.001665          1.0\n",
       "2022-06-02 13:00:00     0.0    -0.000335          1.0\n",
       "2022-06-02 15:00:00     1.0     0.001683          1.0\n",
       "2022-06-02 16:00:00     1.0     0.003697          1.0\n",
       "2022-06-03 10:00:00     0.0     0.000000          1.0\n",
       "2022-06-03 15:00:00     1.0     0.001985          1.0\n",
       "2022-06-03 16:00:00     1.0     0.006275          1.0\n",
       "2022-06-06 11:00:00     0.0    -0.002323          1.0\n",
       "2022-06-06 12:00:00     1.0     0.000333          1.0\n",
       "2022-06-06 13:00:00     1.0     0.009977          1.0\n",
       "2022-06-06 15:00:00     1.0     0.003317          1.0\n",
       "2022-06-06 16:00:00     1.0     0.027107          1.0\n",
       "2022-06-07 12:00:00     1.0     0.000970          1.0\n",
       "2022-06-07 13:00:00     0.0    -0.005816          1.0"
      ]
     },
     "execution_count": 242,
     "metadata": {},
     "output_type": "execute_result"
    }
   ],
   "source": [
    "AB_pred_1"
   ]
  },
  {
   "cell_type": "markdown",
   "id": "beb5ee1d",
   "metadata": {},
   "source": [
    "## Calculando o lucro/prejuízo"
   ]
  },
  {
   "cell_type": "markdown",
   "id": "65abcee3",
   "metadata": {},
   "source": [
    "$$ ganho/perda = (1+ganho/perda_1)(1+ganho/perda_2)...(1+ganho/perda_n) $$"
   ]
  },
  {
   "cell_type": "code",
   "execution_count": 243,
   "id": "22f652a5",
   "metadata": {},
   "outputs": [
    {
     "name": "stdout",
     "output_type": "stream",
     "text": [
      "1.1942394414823536\n"
     ]
    }
   ],
   "source": [
    "gp = 1\n",
    "for i in AB_pred_1[\"TargetValue\"]:\n",
    "    gp = gp*(1+i)\n",
    "print(gp)"
   ]
  },
  {
   "cell_type": "code",
   "execution_count": 244,
   "id": "891f46ef",
   "metadata": {},
   "outputs": [
    {
     "data": {
      "text/plain": [
       "0.19158256911297963"
      ]
     },
     "execution_count": 244,
     "metadata": {},
     "output_type": "execute_result"
    }
   ],
   "source": [
    "AB_pred_1[\"TargetValue\"].sum()"
   ]
  },
  {
   "cell_type": "code",
   "execution_count": 245,
   "id": "d9f68bab",
   "metadata": {},
   "outputs": [],
   "source": [
    "AB_extremes = AB_combined.loc[abs(AB_combined[\"TargetValue\"])>0.025]"
   ]
  },
  {
   "cell_type": "code",
   "execution_count": 246,
   "id": "6b82f31a",
   "metadata": {},
   "outputs": [
    {
     "data": {
      "text/html": [
       "<div>\n",
       "<style scoped>\n",
       "    .dataframe tbody tr th:only-of-type {\n",
       "        vertical-align: middle;\n",
       "    }\n",
       "\n",
       "    .dataframe tbody tr th {\n",
       "        vertical-align: top;\n",
       "    }\n",
       "\n",
       "    .dataframe thead th {\n",
       "        text-align: right;\n",
       "    }\n",
       "</style>\n",
       "<table border=\"1\" class=\"dataframe\">\n",
       "  <thead>\n",
       "    <tr style=\"text-align: right;\">\n",
       "      <th></th>\n",
       "      <th>Target</th>\n",
       "      <th>TargetValue</th>\n",
       "      <th>Predictions</th>\n",
       "    </tr>\n",
       "    <tr>\n",
       "      <th>date</th>\n",
       "      <th></th>\n",
       "      <th></th>\n",
       "      <th></th>\n",
       "    </tr>\n",
       "  </thead>\n",
       "  <tbody>\n",
       "    <tr>\n",
       "      <th>2022-05-23 16:00:00</th>\n",
       "      <td>0.0</td>\n",
       "      <td>-0.130795</td>\n",
       "      <td>0.0</td>\n",
       "    </tr>\n",
       "    <tr>\n",
       "      <th>2022-05-24 15:00:00</th>\n",
       "      <td>1.0</td>\n",
       "      <td>0.160256</td>\n",
       "      <td>1.0</td>\n",
       "    </tr>\n",
       "    <tr>\n",
       "      <th>2022-05-24 16:00:00</th>\n",
       "      <td>0.0</td>\n",
       "      <td>-0.112155</td>\n",
       "      <td>0.0</td>\n",
       "    </tr>\n",
       "    <tr>\n",
       "      <th>2022-05-26 16:00:00</th>\n",
       "      <td>0.0</td>\n",
       "      <td>-0.029256</td>\n",
       "      <td>1.0</td>\n",
       "    </tr>\n",
       "    <tr>\n",
       "      <th>2022-05-27 16:00:00</th>\n",
       "      <td>0.0</td>\n",
       "      <td>-0.026410</td>\n",
       "      <td>1.0</td>\n",
       "    </tr>\n",
       "    <tr>\n",
       "      <th>2022-06-06 16:00:00</th>\n",
       "      <td>1.0</td>\n",
       "      <td>0.027107</td>\n",
       "      <td>1.0</td>\n",
       "    </tr>\n",
       "  </tbody>\n",
       "</table>\n",
       "</div>"
      ],
      "text/plain": [
       "                     Target  TargetValue  Predictions\n",
       "date                                                 \n",
       "2022-05-23 16:00:00     0.0    -0.130795          0.0\n",
       "2022-05-24 15:00:00     1.0     0.160256          1.0\n",
       "2022-05-24 16:00:00     0.0    -0.112155          0.0\n",
       "2022-05-26 16:00:00     0.0    -0.029256          1.0\n",
       "2022-05-27 16:00:00     0.0    -0.026410          1.0\n",
       "2022-06-06 16:00:00     1.0     0.027107          1.0"
      ]
     },
     "execution_count": 246,
     "metadata": {},
     "output_type": "execute_result"
    }
   ],
   "source": [
    "AB_extremes"
   ]
  },
  {
   "cell_type": "code",
   "execution_count": null,
   "id": "3de518dd",
   "metadata": {},
   "outputs": [],
   "source": []
  },
  {
   "cell_type": "code",
   "execution_count": null,
   "id": "0decba3f",
   "metadata": {},
   "outputs": [],
   "source": []
  }
 ],
 "metadata": {
  "kernelspec": {
   "display_name": "Python 3",
   "language": "python",
   "name": "python3"
  },
  "language_info": {
   "codemirror_mode": {
    "name": "ipython",
    "version": 3
   },
   "file_extension": ".py",
   "mimetype": "text/x-python",
   "name": "python",
   "nbconvert_exporter": "python",
   "pygments_lexer": "ipython3",
   "version": "3.8.8"
  }
 },
 "nbformat": 4,
 "nbformat_minor": 5
}
