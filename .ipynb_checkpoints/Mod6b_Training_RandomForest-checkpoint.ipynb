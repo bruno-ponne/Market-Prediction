{
 "cells": [
  {
   "cell_type": "markdown",
   "id": "fb37acbf",
   "metadata": {},
   "source": [
    "# Módulo 6: Treinamento - Random Forest"
   ]
  },
  {
   "cell_type": "code",
   "execution_count": 28,
   "id": "f5d3aebd",
   "metadata": {},
   "outputs": [],
   "source": [
    "from numpy import loadtxt\n",
    "import pandas as pd\n",
    "from sklearn.ensemble import RandomForestClassifier\n",
    "from sklearn.ensemble import AdaBoostClassifier\n",
    "from sklearn.metrics import precision_score\n",
    "from sklearn.metrics import accuracy_score\n",
    "from sklearn.metrics import recall_score"
   ]
  },
  {
   "cell_type": "code",
   "execution_count": 29,
   "id": "f4eb9b2f",
   "metadata": {},
   "outputs": [
    {
     "name": "stdout",
     "output_type": "stream",
     "text": [
      "[[0.49511011 0.51041667 0.         ... 0.         0.         0.        ]\n",
      " [0.68390385 0.625      0.14182984 ... 0.         0.         0.        ]\n",
      " [0.67359319 0.91666667 0.13648737 ... 1.         0.         0.        ]\n",
      " ...\n",
      " [0.60501138 0.53125    0.16173344 ... 0.         0.         0.        ]\n",
      " [0.61854917 0.44791667 0.09304251 ... 0.         0.         0.        ]\n",
      " [0.56504506 0.58333333 0.14804928 ... 0.         0.         0.        ]]\n"
     ]
    }
   ],
   "source": [
    "TrainX_Scaled = loadtxt('TrainX_Scaled.csv', delimiter=',')\n",
    "\n",
    "print(TrainX_Scaled)"
   ]
  },
  {
   "cell_type": "code",
   "execution_count": 30,
   "id": "27c6e3e8",
   "metadata": {},
   "outputs": [
    {
     "data": {
      "text/plain": [
       "numpy.ndarray"
      ]
     },
     "execution_count": 30,
     "metadata": {},
     "output_type": "execute_result"
    }
   ],
   "source": [
    "type(TrainX_Scaled)"
   ]
  },
  {
   "cell_type": "code",
   "execution_count": 31,
   "id": "7f5424fa",
   "metadata": {},
   "outputs": [
    {
     "data": {
      "text/plain": [
       "(2340, 12)"
      ]
     },
     "execution_count": 31,
     "metadata": {},
     "output_type": "execute_result"
    }
   ],
   "source": [
    "TrainX_Scaled.shape"
   ]
  },
  {
   "cell_type": "code",
   "execution_count": 32,
   "id": "be1a2d72",
   "metadata": {},
   "outputs": [],
   "source": [
    "TrainY = pd.read_csv(\"TrainY.csv\", parse_dates=True)\n",
    "TrainY.index = TrainY[\"date\"]\n",
    "TrainY.index = pd.to_datetime(TrainY.index)\n",
    "TrainY.drop([\"date\"], inplace = True, axis = 1)"
   ]
  },
  {
   "cell_type": "code",
   "execution_count": 33,
   "id": "cae778b5",
   "metadata": {},
   "outputs": [
    {
     "data": {
      "text/html": [
       "<div>\n",
       "<style scoped>\n",
       "    .dataframe tbody tr th:only-of-type {\n",
       "        vertical-align: middle;\n",
       "    }\n",
       "\n",
       "    .dataframe tbody tr th {\n",
       "        vertical-align: top;\n",
       "    }\n",
       "\n",
       "    .dataframe thead th {\n",
       "        text-align: right;\n",
       "    }\n",
       "</style>\n",
       "<table border=\"1\" class=\"dataframe\">\n",
       "  <thead>\n",
       "    <tr style=\"text-align: right;\">\n",
       "      <th></th>\n",
       "      <th>target_value</th>\n",
       "      <th>target_class</th>\n",
       "    </tr>\n",
       "    <tr>\n",
       "      <th>date</th>\n",
       "      <th></th>\n",
       "      <th></th>\n",
       "    </tr>\n",
       "  </thead>\n",
       "  <tbody>\n",
       "    <tr>\n",
       "      <th>2020-08-10 10:00:00</th>\n",
       "      <td>-0.000878</td>\n",
       "      <td>0.0</td>\n",
       "    </tr>\n",
       "    <tr>\n",
       "      <th>2020-08-10 11:00:00</th>\n",
       "      <td>-0.004392</td>\n",
       "      <td>0.0</td>\n",
       "    </tr>\n",
       "    <tr>\n",
       "      <th>2020-08-10 12:00:00</th>\n",
       "      <td>0.003970</td>\n",
       "      <td>1.0</td>\n",
       "    </tr>\n",
       "    <tr>\n",
       "      <th>2020-08-10 13:00:00</th>\n",
       "      <td>0.015817</td>\n",
       "      <td>1.0</td>\n",
       "    </tr>\n",
       "    <tr>\n",
       "      <th>2020-08-10 14:00:00</th>\n",
       "      <td>0.006920</td>\n",
       "      <td>1.0</td>\n",
       "    </tr>\n",
       "  </tbody>\n",
       "</table>\n",
       "</div>"
      ],
      "text/plain": [
       "                     target_value  target_class\n",
       "date                                           \n",
       "2020-08-10 10:00:00     -0.000878           0.0\n",
       "2020-08-10 11:00:00     -0.004392           0.0\n",
       "2020-08-10 12:00:00      0.003970           1.0\n",
       "2020-08-10 13:00:00      0.015817           1.0\n",
       "2020-08-10 14:00:00      0.006920           1.0"
      ]
     },
     "execution_count": 33,
     "metadata": {},
     "output_type": "execute_result"
    }
   ],
   "source": [
    "TrainY.head()"
   ]
  },
  {
   "cell_type": "code",
   "execution_count": 34,
   "id": "56000694",
   "metadata": {},
   "outputs": [
    {
     "name": "stdout",
     "output_type": "stream",
     "text": [
      "[[0.51779549 0.4375     0.28768862 ... 0.         0.         0.        ]\n",
      " [0.48056928 0.225      0.24909738 ... 0.         0.         0.        ]\n",
      " [0.37907213 0.4625     0.12149467 ... 0.         0.         0.        ]\n",
      " ...\n",
      " [0.30361744 0.5375     0.23100029 ... 0.         0.         0.        ]\n",
      " [0.41262433 0.5375     0.29238969 ... 0.         0.         0.        ]\n",
      " [0.4232769  0.5        0.26126881 ... 0.         0.         0.        ]]\n"
     ]
    }
   ],
   "source": [
    "TestX_Scaled = loadtxt('TestX_Scaled.csv', delimiter=',')\n",
    "print(TestX_Scaled)"
   ]
  },
  {
   "cell_type": "code",
   "execution_count": 35,
   "id": "419eb5bb",
   "metadata": {},
   "outputs": [
    {
     "data": {
      "text/plain": [
       "(586, 12)"
      ]
     },
     "execution_count": 35,
     "metadata": {},
     "output_type": "execute_result"
    }
   ],
   "source": [
    "TestX_Scaled.shape"
   ]
  },
  {
   "cell_type": "code",
   "execution_count": 36,
   "id": "f301a0e2",
   "metadata": {},
   "outputs": [],
   "source": [
    "TestY = pd.read_csv(\"TestY.csv\", parse_dates=True)\n",
    "TestY.index = TestY[\"date\"]\n",
    "TestY.index = pd.to_datetime(TestY.index)\n",
    "TestY.drop([\"date\"], inplace = True, axis = 1)"
   ]
  },
  {
   "cell_type": "code",
   "execution_count": 37,
   "id": "58484de3",
   "metadata": {},
   "outputs": [
    {
     "data": {
      "text/plain": [
       "date\n",
       "2022-02-02 10:00:00    0.0\n",
       "2022-02-02 11:00:00    1.0\n",
       "2022-02-02 12:00:00    0.0\n",
       "2022-02-02 13:00:00    0.0\n",
       "2022-02-02 14:00:00    0.0\n",
       "                      ... \n",
       "2022-06-07 11:00:00    0.0\n",
       "2022-06-07 12:00:00    1.0\n",
       "2022-06-07 13:00:00    0.0\n",
       "2022-06-07 14:00:00    1.0\n",
       "2022-06-07 15:00:00    0.0\n",
       "Name: target_class, Length: 586, dtype: float64"
      ]
     },
     "execution_count": 37,
     "metadata": {},
     "output_type": "execute_result"
    }
   ],
   "source": [
    "TestY.iloc[:,1]"
   ]
  },
  {
   "cell_type": "markdown",
   "id": "21ca3720",
   "metadata": {},
   "source": [
    "### Random Forest"
   ]
  },
  {
   "cell_type": "code",
   "execution_count": 38,
   "id": "1c559590",
   "metadata": {},
   "outputs": [],
   "source": [
    "def backtest(features, targets, model, start=1000, step=500):\n",
    "    \n",
    "    \"\"\"\n",
    "    Faz o treinamento do modelo com backtesting, \n",
    "    uma forma de validação para séries temporais, \n",
    "    em que cross-validation não pode ser utilizado.\n",
    "    Basicamente ele treina o modelo nos primeitos\n",
    "    start número de exemplos e testa este modelo nos\n",
    "    step exemplos posteriores. \n",
    "    \n",
    "    Argumentos\n",
    "    ----------\n",
    "    features: array\n",
    "    Array contendo as features de treinamento já normalizadas.\n",
    "    \n",
    "    targets: pandas data frame\n",
    "    Coluna de um Pandas Data Frame contendo os targets de treino\n",
    "    \n",
    "    model: algoritmo de treinamento\n",
    "    \n",
    "    start: int\n",
    "    Indica quantos exemplos utilizar no primeiro treinamento\n",
    "    \n",
    "    step: int\n",
    "    Indica o incremento do set de treinamento a cada iteração.\n",
    "\n",
    "    Retorna\n",
    "    -------\n",
    "    Data Frame com duas colunas, sendo uma de predições do target e \n",
    "    a outra os targets reais\n",
    "    \n",
    "    \"\"\"\n",
    "    \n",
    "    predictions = []\n",
    "    \n",
    "    # Percorre os dados de treinamento, conforme o tamanho de step:\n",
    "    for i in range(start, features.shape[0], step):                  # 1000 até 2340 de 500 em 500: [1000, 1500, 2000]\n",
    "        # Separacao do set de treino e de validacao\n",
    "        xtrain = features[0:i].copy()\n",
    "        ytrain = targets.iloc[0:i].copy()\n",
    "        \n",
    "        xval = features[i:(i+step)].copy()\n",
    "        yval = targets.iloc[i:(i+step)].copy()\n",
    "        \n",
    "        # Treinando o modelo\n",
    "        model.fit(xtrain, ytrain)\n",
    "        \n",
    "        # Predicoes:\n",
    "        preds = model.predict_proba(xval)[:,1]\n",
    "        preds = pd.Series(preds, index = yval.index)\n",
    "        preds[preds >.5] = 1\n",
    "        preds[preds<=.5] = 0\n",
    "        \n",
    "        \n",
    "        # Combine predictions and test values\n",
    "        combined = pd.concat({\"Target\": yval,\"Predictions\": preds}, axis=1)\n",
    "        \n",
    "        predictions.append(combined)\n",
    "    \n",
    "    return pd.concat(predictions) # 500 + 500 + 340 = 1340 predicoes"
   ]
  },
  {
   "cell_type": "code",
   "execution_count": 39,
   "id": "b113913c",
   "metadata": {},
   "outputs": [],
   "source": [
    "def tunning(features, targets, n_estimators, min_samples_leaf, max_features):\n",
    "    \n",
    "    \"\"\"\n",
    "    Faz a busca pelos hyperparametros mais adequados ao\n",
    "    modelo.\n",
    "    \n",
    "    Argumentos\n",
    "    ----------\n",
    "    \n",
    "    n_estimators: list\n",
    "    Lista contendo os valores de n_estimators a serem testados\n",
    "    \n",
    "    min_samples_leaf: list\n",
    "    Lista contendo os valores de min_samples_spli a serem testados\n",
    "    \n",
    "    max_features: list\n",
    "    Lista contendo os valores de max_features a serem testados\n",
    "\n",
    "    Retorna\n",
    "    -------\n",
    "    Data Frame com as combinações de hiperparametros e a precisão\n",
    "    correspondente\n",
    "    \n",
    "    \"\"\"\n",
    "    \n",
    "    ilist = []\n",
    "    jlist = []\n",
    "    wlist = []\n",
    "    precisionlist = []\n",
    "    for i in n_estimators:\n",
    "        for j in min_samples_leaf:\n",
    "            for w in max_features:\n",
    "                RF_model = RandomForestClassifier(n_estimators=i, min_samples_leaf=j, max_features = w, random_state=42)\n",
    "                predictions = backtest(features = features, targets = targets, model = RF_model, start = 1000, step = 100)\n",
    "                p = precision_score(predictions[\"Target\"], predictions[\"Predictions\"])\n",
    "                ilist.append(i)\n",
    "                jlist.append(j)\n",
    "                wlist.append(w)\n",
    "                precisionlist.append(p)\n",
    "    d={\n",
    "    'n_estimators': ilist,\n",
    "    'min_samples_leaf': jlist,\n",
    "    'max_features': wlist,\n",
    "    \"precision\": precisionlist}\n",
    "    \n",
    "    return pd.DataFrame.from_dict(d, orient='index').transpose()"
   ]
  },
  {
   "cell_type": "code",
   "execution_count": 40,
   "id": "a177fed2",
   "metadata": {},
   "outputs": [],
   "source": [
    "RF_model = RandomForestClassifier(random_state=42)"
   ]
  },
  {
   "cell_type": "code",
   "execution_count": 41,
   "id": "713823cf",
   "metadata": {},
   "outputs": [],
   "source": [
    "predictions = backtest(features = TrainX_Scaled, targets = TrainY.iloc[:,1], model = RF_model, start = 1000, step = 100)"
   ]
  },
  {
   "cell_type": "code",
   "execution_count": 42,
   "id": "c28c5795",
   "metadata": {},
   "outputs": [
    {
     "data": {
      "text/plain": [
       "(1340, 2)"
      ]
     },
     "execution_count": 42,
     "metadata": {},
     "output_type": "execute_result"
    }
   ],
   "source": [
    "predictions.shape"
   ]
  },
  {
   "cell_type": "code",
   "execution_count": 43,
   "id": "3874fd4f",
   "metadata": {},
   "outputs": [
    {
     "data": {
      "text/plain": [
       "0.49019607843137253"
      ]
     },
     "execution_count": 43,
     "metadata": {},
     "output_type": "execute_result"
    }
   ],
   "source": [
    "precision_score(predictions[\"Target\"], predictions[\"Predictions\"])"
   ]
  },
  {
   "cell_type": "code",
   "execution_count": 44,
   "id": "11304aac",
   "metadata": {},
   "outputs": [
    {
     "data": {
      "text/plain": [
       "0.0    779\n",
       "1.0    561\n",
       "Name: Predictions, dtype: int64"
      ]
     },
     "execution_count": 44,
     "metadata": {},
     "output_type": "execute_result"
    }
   ],
   "source": [
    "predictions[\"Predictions\"].value_counts()"
   ]
  },
  {
   "cell_type": "code",
   "execution_count": 45,
   "id": "b367ca03",
   "metadata": {},
   "outputs": [
    {
     "data": {
      "text/plain": [
       "<AxesSubplot:xlabel='date'>"
      ]
     },
     "execution_count": 45,
     "metadata": {},
     "output_type": "execute_result"
    },
    {
     "data": {
      "image/png": "[encoded data removed]",
      "text/plain": [
       "<Figure size 432x288 with 1 Axes>"
      ]
     },
     "metadata": {
      "needs_background": "light"
     },
     "output_type": "display_data"
    }
   ],
   "source": [
    "predictions.plot()"
   ]
  },
  {
   "cell_type": "code",
   "execution_count": 19,
   "id": "00ca8014",
   "metadata": {},
   "outputs": [
    {
     "data": {
      "text/plain": [
       "(1340, 2)"
      ]
     },
     "execution_count": 19,
     "metadata": {},
     "output_type": "execute_result"
    }
   ],
   "source": [
    "predictions.shape"
   ]
  },
  {
   "cell_type": "markdown",
   "id": "66e42534",
   "metadata": {},
   "source": [
    "### Resultado sem refinamento"
   ]
  },
  {
   "cell_type": "markdown",
   "id": "4801f59c",
   "metadata": {},
   "source": [
    "Sem nenhum ajuste dos hyperparametres, o modelo random forest fornece um desempenho de precisão de 0.49. Isso significa que em 49% das vezes em que o modelo deu sinal de compra ele estava correto. Esse resultado é pior do que comprar ações aleatoriamente: o modelo não fornece informações úteis para tomada de decisão. Abaixo, tentaremos melhorar o desempenho por meio do refinamento dos hiperparâmetros."
   ]
  },
  {
   "cell_type": "markdown",
   "id": "c205cfd8",
   "metadata": {},
   "source": [
    "### Hyperparameter Tunning"
   ]
  },
  {
   "cell_type": "code",
   "execution_count": 61,
   "id": "1f8ac8fe",
   "metadata": {},
   "outputs": [],
   "source": [
    "from random import random\n",
    "from random import randint\n",
    "\n",
    "max_features = [\"sqrt\"]\n",
    "n_estimators = [randint(0,1000) for i in range(15)]\n",
    "min_samples_leaf = [2,4,7,6,11,18,9,13,15,5]"
   ]
  },
  {
   "cell_type": "code",
   "execution_count": 145,
   "id": "de5d76c6",
   "metadata": {},
   "outputs": [],
   "source": [
    "max_features = [0.9, 0.3]"
   ]
  },
  {
   "cell_type": "code",
   "execution_count": 146,
   "id": "5cf895ff",
   "metadata": {},
   "outputs": [
    {
     "data": {
      "text/plain": [
       "[883, 572, 511, 112, 223, 699, 327, 290, 458, 196, 418, 61, 70, 583, 195]"
      ]
     },
     "execution_count": 146,
     "metadata": {},
     "output_type": "execute_result"
    }
   ],
   "source": [
    "n_estimators"
   ]
  },
  {
   "cell_type": "code",
   "execution_count": null,
   "id": "1f96d543",
   "metadata": {},
   "outputs": [],
   "source": []
  },
  {
   "cell_type": "code",
   "execution_count": null,
   "id": "29a97b54",
   "metadata": {},
   "outputs": [],
   "source": [
    "hyper_parms = tunning(features = TrainX_Scaled, \n",
    "                      targets = TrainY.iloc[:,1],\n",
    "                      n_estimators = n_estimators, \n",
    "                      min_samples_leaf = min_samples_leaf, \n",
    "                      max_features = max_features\n",
    "                     )"
   ]
  },
  {
   "cell_type": "code",
   "execution_count": null,
   "id": "36b88bbe",
   "metadata": {},
   "outputs": [],
   "source": [
    "best = hyper_parms.loc[hyper_parms.precision > 0.5]"
   ]
  },
  {
   "cell_type": "markdown",
   "id": "94708671",
   "metadata": {},
   "source": [
    "n_estimators: 138, min_samples_leaf: 6, max_features: 0,3    => 0.506591"
   ]
  },
  {
   "cell_type": "code",
   "execution_count": 128,
   "id": "8121e581",
   "metadata": {},
   "outputs": [
    {
     "data": {
      "text/html": [
       "<div>\n",
       "<style scoped>\n",
       "    .dataframe tbody tr th:only-of-type {\n",
       "        vertical-align: middle;\n",
       "    }\n",
       "\n",
       "    .dataframe tbody tr th {\n",
       "        vertical-align: top;\n",
       "    }\n",
       "\n",
       "    .dataframe thead th {\n",
       "        text-align: right;\n",
       "    }\n",
       "</style>\n",
       "<table border=\"1\" class=\"dataframe\">\n",
       "  <thead>\n",
       "    <tr style=\"text-align: right;\">\n",
       "      <th></th>\n",
       "      <th>n_estimators</th>\n",
       "      <th>min_samples_leaf</th>\n",
       "      <th>max_features</th>\n",
       "      <th>precision</th>\n",
       "    </tr>\n",
       "  </thead>\n",
       "  <tbody>\n",
       "    <tr>\n",
       "      <th>7</th>\n",
       "      <td>138.0</td>\n",
       "      <td>6.0</td>\n",
       "      <td>0.3</td>\n",
       "      <td>0.506591</td>\n",
       "    </tr>\n",
       "  </tbody>\n",
       "</table>\n",
       "</div>"
      ],
      "text/plain": [
       "   n_estimators  min_samples_leaf  max_features  precision\n",
       "7         138.0               6.0           0.3   0.506591"
      ]
     },
     "execution_count": 128,
     "metadata": {},
     "output_type": "execute_result"
    }
   ],
   "source": [
    "best"
   ]
  },
  {
   "cell_type": "code",
   "execution_count": 63,
   "id": "a343afd3",
   "metadata": {},
   "outputs": [],
   "source": [
    "RF_model = RandomForestClassifier(n_estimators=138, min_samples_leaf=6, max_features = 0.3, random_state=42)"
   ]
  },
  {
   "cell_type": "code",
   "execution_count": 64,
   "id": "48c5c835",
   "metadata": {},
   "outputs": [],
   "source": [
    "predictions = backtest(features = TrainX_Scaled, targets = TrainY.iloc[:,1], model = RF_model, start = 1000, step = 100)"
   ]
  },
  {
   "cell_type": "code",
   "execution_count": 65,
   "id": "9df45b72",
   "metadata": {},
   "outputs": [
    {
     "data": {
      "text/plain": [
       "<AxesSubplot:xlabel='date'>"
      ]
     },
     "execution_count": 65,
     "metadata": {},
     "output_type": "execute_result"
    },
    {
     "data": {
      "image/png": "[encoded data removed]",
      "text/plain": [
       "<Figure size 432x288 with 1 Axes>"
      ]
     },
     "metadata": {
      "needs_background": "light"
     },
     "output_type": "display_data"
    }
   ],
   "source": [
    "predictions.plot()"
   ]
  },
  {
   "cell_type": "code",
   "execution_count": 66,
   "id": "4b6e93ea",
   "metadata": {},
   "outputs": [
    {
     "data": {
      "text/plain": [
       "0.0    809\n",
       "1.0    531\n",
       "Name: Predictions, dtype: int64"
      ]
     },
     "execution_count": 66,
     "metadata": {},
     "output_type": "execute_result"
    }
   ],
   "source": [
    "predictions[\"Predictions\"].value_counts()"
   ]
  },
  {
   "cell_type": "code",
   "execution_count": 67,
   "id": "6790f5e2",
   "metadata": {},
   "outputs": [
    {
     "data": {
      "text/plain": [
       "0.5065913370998116"
      ]
     },
     "execution_count": 67,
     "metadata": {},
     "output_type": "execute_result"
    }
   ],
   "source": [
    "precision_score(predictions[\"Target\"], predictions[\"Predictions\"])"
   ]
  },
  {
   "cell_type": "code",
   "execution_count": 68,
   "id": "3f31746b",
   "metadata": {},
   "outputs": [],
   "source": [
    "test_pred = RF_model.predict_proba(TestX_Scaled)[:,1]"
   ]
  },
  {
   "cell_type": "code",
   "execution_count": 69,
   "id": "23111549",
   "metadata": {},
   "outputs": [],
   "source": [
    "preds = pd.Series(test_pred, index = TestY.index)\n",
    "preds[preds >.5] = 1\n",
    "preds[preds<=.5] = 0"
   ]
  },
  {
   "cell_type": "code",
   "execution_count": 70,
   "id": "630a7b6d",
   "metadata": {},
   "outputs": [],
   "source": [
    "combined = pd.concat({\"Target\": TestY[\"target_class\"], \"TargetValue\":TestY[\"target_value\"], \"Predictions\": preds}, axis=1)"
   ]
  },
  {
   "cell_type": "code",
   "execution_count": 71,
   "id": "3ff3b707",
   "metadata": {},
   "outputs": [
    {
     "data": {
      "text/html": [
       "<div>\n",
       "<style scoped>\n",
       "    .dataframe tbody tr th:only-of-type {\n",
       "        vertical-align: middle;\n",
       "    }\n",
       "\n",
       "    .dataframe tbody tr th {\n",
       "        vertical-align: top;\n",
       "    }\n",
       "\n",
       "    .dataframe thead th {\n",
       "        text-align: right;\n",
       "    }\n",
       "</style>\n",
       "<table border=\"1\" class=\"dataframe\">\n",
       "  <thead>\n",
       "    <tr style=\"text-align: right;\">\n",
       "      <th></th>\n",
       "      <th>Target</th>\n",
       "      <th>TargetValue</th>\n",
       "      <th>Predictions</th>\n",
       "    </tr>\n",
       "    <tr>\n",
       "      <th>date</th>\n",
       "      <th></th>\n",
       "      <th></th>\n",
       "      <th></th>\n",
       "    </tr>\n",
       "  </thead>\n",
       "  <tbody>\n",
       "    <tr>\n",
       "      <th>2022-02-02 10:00:00</th>\n",
       "      <td>0.0</td>\n",
       "      <td>-0.010046</td>\n",
       "      <td>1.0</td>\n",
       "    </tr>\n",
       "    <tr>\n",
       "      <th>2022-02-02 11:00:00</th>\n",
       "      <td>1.0</td>\n",
       "      <td>0.006150</td>\n",
       "      <td>0.0</td>\n",
       "    </tr>\n",
       "    <tr>\n",
       "      <th>2022-02-02 12:00:00</th>\n",
       "      <td>0.0</td>\n",
       "      <td>-0.005196</td>\n",
       "      <td>0.0</td>\n",
       "    </tr>\n",
       "    <tr>\n",
       "      <th>2022-02-02 13:00:00</th>\n",
       "      <td>0.0</td>\n",
       "      <td>-0.001536</td>\n",
       "      <td>0.0</td>\n",
       "    </tr>\n",
       "    <tr>\n",
       "      <th>2022-02-02 14:00:00</th>\n",
       "      <td>0.0</td>\n",
       "      <td>-0.000615</td>\n",
       "      <td>0.0</td>\n",
       "    </tr>\n",
       "    <tr>\n",
       "      <th>...</th>\n",
       "      <td>...</td>\n",
       "      <td>...</td>\n",
       "      <td>...</td>\n",
       "    </tr>\n",
       "    <tr>\n",
       "      <th>2022-06-07 11:00:00</th>\n",
       "      <td>0.0</td>\n",
       "      <td>-0.002259</td>\n",
       "      <td>0.0</td>\n",
       "    </tr>\n",
       "    <tr>\n",
       "      <th>2022-06-07 12:00:00</th>\n",
       "      <td>1.0</td>\n",
       "      <td>0.000970</td>\n",
       "      <td>0.0</td>\n",
       "    </tr>\n",
       "    <tr>\n",
       "      <th>2022-06-07 13:00:00</th>\n",
       "      <td>0.0</td>\n",
       "      <td>-0.005816</td>\n",
       "      <td>0.0</td>\n",
       "    </tr>\n",
       "    <tr>\n",
       "      <th>2022-06-07 14:00:00</th>\n",
       "      <td>1.0</td>\n",
       "      <td>0.002275</td>\n",
       "      <td>0.0</td>\n",
       "    </tr>\n",
       "    <tr>\n",
       "      <th>2022-06-07 15:00:00</th>\n",
       "      <td>0.0</td>\n",
       "      <td>-0.004864</td>\n",
       "      <td>0.0</td>\n",
       "    </tr>\n",
       "  </tbody>\n",
       "</table>\n",
       "<p>586 rows × 3 columns</p>\n",
       "</div>"
      ],
      "text/plain": [
       "                     Target  TargetValue  Predictions\n",
       "date                                                 \n",
       "2022-02-02 10:00:00     0.0    -0.010046          1.0\n",
       "2022-02-02 11:00:00     1.0     0.006150          0.0\n",
       "2022-02-02 12:00:00     0.0    -0.005196          0.0\n",
       "2022-02-02 13:00:00     0.0    -0.001536          0.0\n",
       "2022-02-02 14:00:00     0.0    -0.000615          0.0\n",
       "...                     ...          ...          ...\n",
       "2022-06-07 11:00:00     0.0    -0.002259          0.0\n",
       "2022-06-07 12:00:00     1.0     0.000970          0.0\n",
       "2022-06-07 13:00:00     0.0    -0.005816          0.0\n",
       "2022-06-07 14:00:00     1.0     0.002275          0.0\n",
       "2022-06-07 15:00:00     0.0    -0.004864          0.0\n",
       "\n",
       "[586 rows x 3 columns]"
      ]
     },
     "execution_count": 71,
     "metadata": {},
     "output_type": "execute_result"
    }
   ],
   "source": [
    "combined"
   ]
  },
  {
   "cell_type": "code",
   "execution_count": 72,
   "id": "a2bdac5c",
   "metadata": {},
   "outputs": [
    {
     "data": {
      "text/plain": [
       "0.49137931034482757"
      ]
     },
     "execution_count": 72,
     "metadata": {},
     "output_type": "execute_result"
    }
   ],
   "source": [
    "precision_score(combined[\"Target\"], combined[\"Predictions\"])"
   ]
  },
  {
   "cell_type": "code",
   "execution_count": 73,
   "id": "8203d622",
   "metadata": {},
   "outputs": [
    {
     "data": {
      "text/plain": [
       "0.48976109215017066"
      ]
     },
     "execution_count": 73,
     "metadata": {},
     "output_type": "execute_result"
    }
   ],
   "source": [
    "accuracy_score(combined[\"Target\"], combined[\"Predictions\"])"
   ]
  },
  {
   "cell_type": "code",
   "execution_count": 74,
   "id": "ad312d97",
   "metadata": {},
   "outputs": [
    {
     "data": {
      "text/plain": [
       "0.1919191919191919"
      ]
     },
     "execution_count": 74,
     "metadata": {},
     "output_type": "execute_result"
    }
   ],
   "source": [
    "recall_score(combined[\"Target\"], combined[\"Predictions\"])"
   ]
  },
  {
   "cell_type": "code",
   "execution_count": 75,
   "id": "0d3b0336",
   "metadata": {},
   "outputs": [
    {
     "data": {
      "text/plain": [
       "-0.0034502345709770173"
      ]
     },
     "execution_count": 75,
     "metadata": {},
     "output_type": "execute_result"
    }
   ],
   "source": [
    "combined[\"TargetValue\"].sum()"
   ]
  },
  {
   "cell_type": "markdown",
   "id": "fc742bce",
   "metadata": {},
   "source": [
    "Verificando apenas com ganhos ou perdas extremos:"
   ]
  },
  {
   "cell_type": "code",
   "execution_count": 76,
   "id": "1cb1cbce",
   "metadata": {},
   "outputs": [],
   "source": [
    "extremes = combined.loc[abs(combined[\"TargetValue\"])>0.025]"
   ]
  },
  {
   "cell_type": "code",
   "execution_count": 77,
   "id": "d138cee0",
   "metadata": {},
   "outputs": [
    {
     "data": {
      "text/html": [
       "<div>\n",
       "<style scoped>\n",
       "    .dataframe tbody tr th:only-of-type {\n",
       "        vertical-align: middle;\n",
       "    }\n",
       "\n",
       "    .dataframe tbody tr th {\n",
       "        vertical-align: top;\n",
       "    }\n",
       "\n",
       "    .dataframe thead th {\n",
       "        text-align: right;\n",
       "    }\n",
       "</style>\n",
       "<table border=\"1\" class=\"dataframe\">\n",
       "  <thead>\n",
       "    <tr style=\"text-align: right;\">\n",
       "      <th></th>\n",
       "      <th>Target</th>\n",
       "      <th>TargetValue</th>\n",
       "      <th>Predictions</th>\n",
       "    </tr>\n",
       "    <tr>\n",
       "      <th>date</th>\n",
       "      <th></th>\n",
       "      <th></th>\n",
       "      <th></th>\n",
       "    </tr>\n",
       "  </thead>\n",
       "  <tbody>\n",
       "    <tr>\n",
       "      <th>2022-02-07 15:00:00</th>\n",
       "      <td>0.0</td>\n",
       "      <td>-0.026251</td>\n",
       "      <td>0.0</td>\n",
       "    </tr>\n",
       "    <tr>\n",
       "      <th>2022-02-15 15:00:00</th>\n",
       "      <td>1.0</td>\n",
       "      <td>0.025862</td>\n",
       "      <td>0.0</td>\n",
       "    </tr>\n",
       "    <tr>\n",
       "      <th>2022-02-25 16:00:00</th>\n",
       "      <td>1.0</td>\n",
       "      <td>0.031741</td>\n",
       "      <td>0.0</td>\n",
       "    </tr>\n",
       "    <tr>\n",
       "      <th>2022-03-08 13:00:00</th>\n",
       "      <td>0.0</td>\n",
       "      <td>-0.026082</td>\n",
       "      <td>1.0</td>\n",
       "    </tr>\n",
       "    <tr>\n",
       "      <th>2022-03-09 16:00:00</th>\n",
       "      <td>1.0</td>\n",
       "      <td>0.042653</td>\n",
       "      <td>1.0</td>\n",
       "    </tr>\n",
       "    <tr>\n",
       "      <th>2022-03-11 16:00:00</th>\n",
       "      <td>0.0</td>\n",
       "      <td>-0.037440</td>\n",
       "      <td>0.0</td>\n",
       "    </tr>\n",
       "    <tr>\n",
       "      <th>2022-03-14 16:00:00</th>\n",
       "      <td>0.0</td>\n",
       "      <td>-0.037653</td>\n",
       "      <td>1.0</td>\n",
       "    </tr>\n",
       "    <tr>\n",
       "      <th>2022-03-16 16:00:00</th>\n",
       "      <td>0.0</td>\n",
       "      <td>-0.025974</td>\n",
       "      <td>1.0</td>\n",
       "    </tr>\n",
       "    <tr>\n",
       "      <th>2022-03-28 16:00:00</th>\n",
       "      <td>1.0</td>\n",
       "      <td>0.025437</td>\n",
       "      <td>0.0</td>\n",
       "    </tr>\n",
       "    <tr>\n",
       "      <th>2022-04-06 16:00:00</th>\n",
       "      <td>1.0</td>\n",
       "      <td>0.026617</td>\n",
       "      <td>0.0</td>\n",
       "    </tr>\n",
       "    <tr>\n",
       "      <th>2022-04-13 16:00:00</th>\n",
       "      <td>0.0</td>\n",
       "      <td>-0.088940</td>\n",
       "      <td>0.0</td>\n",
       "    </tr>\n",
       "    <tr>\n",
       "      <th>2022-04-14 15:00:00</th>\n",
       "      <td>1.0</td>\n",
       "      <td>0.097809</td>\n",
       "      <td>1.0</td>\n",
       "    </tr>\n",
       "    <tr>\n",
       "      <th>2022-04-14 16:00:00</th>\n",
       "      <td>0.0</td>\n",
       "      <td>-0.112525</td>\n",
       "      <td>0.0</td>\n",
       "    </tr>\n",
       "    <tr>\n",
       "      <th>2022-04-18 16:00:00</th>\n",
       "      <td>1.0</td>\n",
       "      <td>0.029642</td>\n",
       "      <td>1.0</td>\n",
       "    </tr>\n",
       "    <tr>\n",
       "      <th>2022-04-22 16:00:00</th>\n",
       "      <td>0.0</td>\n",
       "      <td>-0.025271</td>\n",
       "      <td>0.0</td>\n",
       "    </tr>\n",
       "    <tr>\n",
       "      <th>2022-04-28 16:00:00</th>\n",
       "      <td>1.0</td>\n",
       "      <td>0.038880</td>\n",
       "      <td>0.0</td>\n",
       "    </tr>\n",
       "    <tr>\n",
       "      <th>2022-05-06 10:00:00</th>\n",
       "      <td>1.0</td>\n",
       "      <td>0.026808</td>\n",
       "      <td>1.0</td>\n",
       "    </tr>\n",
       "    <tr>\n",
       "      <th>2022-05-10 16:00:00</th>\n",
       "      <td>1.0</td>\n",
       "      <td>0.035527</td>\n",
       "      <td>0.0</td>\n",
       "    </tr>\n",
       "    <tr>\n",
       "      <th>2022-05-23 16:00:00</th>\n",
       "      <td>0.0</td>\n",
       "      <td>-0.130795</td>\n",
       "      <td>0.0</td>\n",
       "    </tr>\n",
       "    <tr>\n",
       "      <th>2022-05-24 15:00:00</th>\n",
       "      <td>1.0</td>\n",
       "      <td>0.160256</td>\n",
       "      <td>0.0</td>\n",
       "    </tr>\n",
       "    <tr>\n",
       "      <th>2022-05-24 16:00:00</th>\n",
       "      <td>0.0</td>\n",
       "      <td>-0.112155</td>\n",
       "      <td>0.0</td>\n",
       "    </tr>\n",
       "    <tr>\n",
       "      <th>2022-05-26 16:00:00</th>\n",
       "      <td>0.0</td>\n",
       "      <td>-0.029256</td>\n",
       "      <td>0.0</td>\n",
       "    </tr>\n",
       "    <tr>\n",
       "      <th>2022-05-27 16:00:00</th>\n",
       "      <td>0.0</td>\n",
       "      <td>-0.026410</td>\n",
       "      <td>0.0</td>\n",
       "    </tr>\n",
       "    <tr>\n",
       "      <th>2022-06-06 16:00:00</th>\n",
       "      <td>1.0</td>\n",
       "      <td>0.027107</td>\n",
       "      <td>0.0</td>\n",
       "    </tr>\n",
       "  </tbody>\n",
       "</table>\n",
       "</div>"
      ],
      "text/plain": [
       "                     Target  TargetValue  Predictions\n",
       "date                                                 \n",
       "2022-02-07 15:00:00     0.0    -0.026251          0.0\n",
       "2022-02-15 15:00:00     1.0     0.025862          0.0\n",
       "2022-02-25 16:00:00     1.0     0.031741          0.0\n",
       "2022-03-08 13:00:00     0.0    -0.026082          1.0\n",
       "2022-03-09 16:00:00     1.0     0.042653          1.0\n",
       "2022-03-11 16:00:00     0.0    -0.037440          0.0\n",
       "2022-03-14 16:00:00     0.0    -0.037653          1.0\n",
       "2022-03-16 16:00:00     0.0    -0.025974          1.0\n",
       "2022-03-28 16:00:00     1.0     0.025437          0.0\n",
       "2022-04-06 16:00:00     1.0     0.026617          0.0\n",
       "2022-04-13 16:00:00     0.0    -0.088940          0.0\n",
       "2022-04-14 15:00:00     1.0     0.097809          1.0\n",
       "2022-04-14 16:00:00     0.0    -0.112525          0.0\n",
       "2022-04-18 16:00:00     1.0     0.029642          1.0\n",
       "2022-04-22 16:00:00     0.0    -0.025271          0.0\n",
       "2022-04-28 16:00:00     1.0     0.038880          0.0\n",
       "2022-05-06 10:00:00     1.0     0.026808          1.0\n",
       "2022-05-10 16:00:00     1.0     0.035527          0.0\n",
       "2022-05-23 16:00:00     0.0    -0.130795          0.0\n",
       "2022-05-24 15:00:00     1.0     0.160256          0.0\n",
       "2022-05-24 16:00:00     0.0    -0.112155          0.0\n",
       "2022-05-26 16:00:00     0.0    -0.029256          0.0\n",
       "2022-05-27 16:00:00     0.0    -0.026410          0.0\n",
       "2022-06-06 16:00:00     1.0     0.027107          0.0"
      ]
     },
     "execution_count": 77,
     "metadata": {},
     "output_type": "execute_result"
    }
   ],
   "source": [
    "extremes"
   ]
  },
  {
   "cell_type": "code",
   "execution_count": 78,
   "id": "c2243da2",
   "metadata": {},
   "outputs": [
    {
     "data": {
      "text/plain": [
       "0.5714285714285714"
      ]
     },
     "execution_count": 78,
     "metadata": {},
     "output_type": "execute_result"
    }
   ],
   "source": [
    "precision_score(extremes[\"Target\"], extremes[\"Predictions\"])"
   ]
  },
  {
   "cell_type": "markdown",
   "id": "2f52d61a",
   "metadata": {},
   "source": [
    "## Calculando o lucro/prejuízo"
   ]
  },
  {
   "cell_type": "markdown",
   "id": "48fc16c8",
   "metadata": {},
   "source": [
    "$$ ganho/perda = (1+ganho/perda_1)(1+ganho/perda_2)...(1+ganho/perda_n) $$"
   ]
  },
  {
   "cell_type": "code",
   "execution_count": 79,
   "id": "bdda508e",
   "metadata": {},
   "outputs": [],
   "source": [
    "pred_1 = combined.loc[combined[\"Predictions\"]==1]"
   ]
  },
  {
   "cell_type": "code",
   "execution_count": 80,
   "id": "0f56f7ca",
   "metadata": {},
   "outputs": [],
   "source": [
    "pred_0 = combined.loc[combined[\"Predictions\"]==0]"
   ]
  },
  {
   "cell_type": "code",
   "execution_count": 82,
   "id": "2fb18575",
   "metadata": {},
   "outputs": [
    {
     "name": "stdout",
     "output_type": "stream",
     "text": [
      "1.0997551860150399\n"
     ]
    }
   ],
   "source": [
    "gp = 1\n",
    "for i in pred_1[\"TargetValue\"]:\n",
    "    gp = gp*(1+i)\n",
    "print(gp)"
   ]
  },
  {
   "cell_type": "code",
   "execution_count": 309,
   "id": "986c3b64",
   "metadata": {},
   "outputs": [
    {
     "data": {
      "text/plain": [
       "<AxesSubplot:>"
      ]
     },
     "execution_count": 309,
     "metadata": {},
     "output_type": "execute_result"
    },
    {
     "data": {
      "image/png": "[encoded data removed]",
      "text/plain": [
       "<Figure size 432x288 with 1 Axes>"
      ]
     },
     "metadata": {
      "needs_background": "light"
     },
     "output_type": "display_data"
    }
   ],
   "source": [
    "pred_1.loc[pred_1[\"Target\"]==0][\"TargetValue\"].hist(bins = 50)"
   ]
  },
  {
   "cell_type": "code",
   "execution_count": 310,
   "id": "c05b6f8a",
   "metadata": {},
   "outputs": [
    {
     "data": {
      "text/plain": [
       "<AxesSubplot:>"
      ]
     },
     "execution_count": 310,
     "metadata": {},
     "output_type": "execute_result"
    },
    {
     "data": {
      "image/png": "[encoded data removed]",
      "text/plain": [
       "<Figure size 432x288 with 1 Axes>"
      ]
     },
     "metadata": {
      "needs_background": "light"
     },
     "output_type": "display_data"
    }
   ],
   "source": [
    "pred_0.loc[pred_0[\"Target\"]==0][\"TargetValue\"].hist(bins = 50)"
   ]
  },
  {
   "cell_type": "markdown",
   "id": "69c23deb",
   "metadata": {},
   "source": [
    "### Adaboost"
   ]
  },
  {
   "cell_type": "code",
   "execution_count": 83,
   "id": "f827593c",
   "metadata": {},
   "outputs": [],
   "source": [
    "AB_model = AdaBoostClassifier(random_state=42)"
   ]
  },
  {
   "cell_type": "code",
   "execution_count": 84,
   "id": "15ba2b84",
   "metadata": {},
   "outputs": [],
   "source": [
    "AB_predictions = backtest(features = TrainX_Scaled, targets = TrainY.iloc[:,1], model = AB_model, start = 1000, step = 100)"
   ]
  },
  {
   "cell_type": "code",
   "execution_count": 85,
   "id": "63ffe2d4",
   "metadata": {},
   "outputs": [
    {
     "data": {
      "text/plain": [
       "0.0    782\n",
       "1.0    558\n",
       "Name: Predictions, dtype: int64"
      ]
     },
     "execution_count": 85,
     "metadata": {},
     "output_type": "execute_result"
    }
   ],
   "source": [
    "AB_predictions[\"Predictions\"].value_counts()"
   ]
  },
  {
   "cell_type": "code",
   "execution_count": 314,
   "id": "c2c88fe9",
   "metadata": {},
   "outputs": [
    {
     "data": {
      "text/plain": [
       "0.482078853046595"
      ]
     },
     "execution_count": 314,
     "metadata": {},
     "output_type": "execute_result"
    }
   ],
   "source": [
    "precision_score(AB_predictions[\"Target\"], AB_predictions[\"Predictions\"])"
   ]
  },
  {
   "cell_type": "code",
   "execution_count": 77,
   "id": "f36b8e1e",
   "metadata": {},
   "outputs": [],
   "source": [
    "def AB_tunning(features, targets, n_estimators, learning_rate):\n",
    "    \n",
    "    \"\"\"\n",
    "    Faz a busca pelos hyperparametros mais adequados ao\n",
    "    modelo.\n",
    "    \n",
    "    Argumentos\n",
    "    ----------\n",
    "    \n",
    "    n_estimators: list\n",
    "    Lista contendo os valores de n_estimators a serem testados\n",
    "    \n",
    "    learning_rate: list\n",
    "    Lista contendo os valores de learning_rate a serem testados\n",
    "\n",
    "    Retorna\n",
    "    -------\n",
    "    Data Frame com as combinações de hiperparametros e a precisão\n",
    "    correspondente\n",
    "    \n",
    "    \"\"\"\n",
    "    \n",
    "    ilist = []\n",
    "    jlist = []\n",
    "    precisionlist = []\n",
    "    for i in n_estimators:\n",
    "        for j in learning_rate:\n",
    "                AB_model = AdaBoostClassifier(n_estimators=i, learning_rate=j, random_state=42)\n",
    "                predictions = backtest(features = features, targets = targets, model = AB_model, start = 1000, step = 100)\n",
    "                p = precision_score(predictions[\"Target\"], predictions[\"Predictions\"])\n",
    "                ilist.append(i)\n",
    "                jlist.append(j)\n",
    "                precisionlist.append(p)\n",
    "    d={\n",
    "    'n_estimators': ilist,\n",
    "    'learning_rate': jlist,\n",
    "    \"precision\": precisionlist}\n",
    "    \n",
    "    return pd.DataFrame.from_dict(d, orient='index').transpose()"
   ]
  },
  {
   "cell_type": "code",
   "execution_count": 244,
   "id": "31f8cd6c",
   "metadata": {},
   "outputs": [],
   "source": [
    "n_estimators = [50,100,200,800,1600]\n",
    "learning_rate = [1,2,3]"
   ]
  },
  {
   "cell_type": "code",
   "execution_count": 245,
   "id": "481994ad",
   "metadata": {},
   "outputs": [
    {
     "data": {
      "text/plain": [
       "[50, 100, 200, 800, 1600]"
      ]
     },
     "execution_count": 245,
     "metadata": {},
     "output_type": "execute_result"
    }
   ],
   "source": [
    "n_estimators"
   ]
  },
  {
   "cell_type": "code",
   "execution_count": 246,
   "id": "ea5063b0",
   "metadata": {},
   "outputs": [],
   "source": [
    "AB_hyper_parms = AB_tunning(features = TrainX_Scaled, \n",
    "                      targets = TrainY.iloc[:,1],\n",
    "                      n_estimators = n_estimators,\n",
    "                      learning_rate = learning_rate)"
   ]
  },
  {
   "cell_type": "code",
   "execution_count": 247,
   "id": "a7fccc32",
   "metadata": {},
   "outputs": [
    {
     "data": {
      "text/html": [
       "<div>\n",
       "<style scoped>\n",
       "    .dataframe tbody tr th:only-of-type {\n",
       "        vertical-align: middle;\n",
       "    }\n",
       "\n",
       "    .dataframe tbody tr th {\n",
       "        vertical-align: top;\n",
       "    }\n",
       "\n",
       "    .dataframe thead th {\n",
       "        text-align: right;\n",
       "    }\n",
       "</style>\n",
       "<table border=\"1\" class=\"dataframe\">\n",
       "  <thead>\n",
       "    <tr style=\"text-align: right;\">\n",
       "      <th></th>\n",
       "      <th>n_estimators</th>\n",
       "      <th>learning_rate</th>\n",
       "      <th>precision</th>\n",
       "    </tr>\n",
       "  </thead>\n",
       "  <tbody>\n",
       "    <tr>\n",
       "      <th>0</th>\n",
       "      <td>50.0</td>\n",
       "      <td>1.0</td>\n",
       "      <td>0.482079</td>\n",
       "    </tr>\n",
       "    <tr>\n",
       "      <th>1</th>\n",
       "      <td>50.0</td>\n",
       "      <td>2.0</td>\n",
       "      <td>0.495093</td>\n",
       "    </tr>\n",
       "    <tr>\n",
       "      <th>2</th>\n",
       "      <td>50.0</td>\n",
       "      <td>3.0</td>\n",
       "      <td>0.482061</td>\n",
       "    </tr>\n",
       "    <tr>\n",
       "      <th>3</th>\n",
       "      <td>100.0</td>\n",
       "      <td>1.0</td>\n",
       "      <td>0.470070</td>\n",
       "    </tr>\n",
       "    <tr>\n",
       "      <th>4</th>\n",
       "      <td>100.0</td>\n",
       "      <td>2.0</td>\n",
       "      <td>0.496629</td>\n",
       "    </tr>\n",
       "    <tr>\n",
       "      <th>5</th>\n",
       "      <td>100.0</td>\n",
       "      <td>3.0</td>\n",
       "      <td>0.485714</td>\n",
       "    </tr>\n",
       "    <tr>\n",
       "      <th>6</th>\n",
       "      <td>200.0</td>\n",
       "      <td>1.0</td>\n",
       "      <td>0.467949</td>\n",
       "    </tr>\n",
       "    <tr>\n",
       "      <th>7</th>\n",
       "      <td>200.0</td>\n",
       "      <td>2.0</td>\n",
       "      <td>0.497647</td>\n",
       "    </tr>\n",
       "    <tr>\n",
       "      <th>8</th>\n",
       "      <td>200.0</td>\n",
       "      <td>3.0</td>\n",
       "      <td>0.488393</td>\n",
       "    </tr>\n",
       "    <tr>\n",
       "      <th>9</th>\n",
       "      <td>800.0</td>\n",
       "      <td>1.0</td>\n",
       "      <td>0.453968</td>\n",
       "    </tr>\n",
       "    <tr>\n",
       "      <th>10</th>\n",
       "      <td>800.0</td>\n",
       "      <td>2.0</td>\n",
       "      <td>0.501285</td>\n",
       "    </tr>\n",
       "    <tr>\n",
       "      <th>11</th>\n",
       "      <td>800.0</td>\n",
       "      <td>3.0</td>\n",
       "      <td>0.488393</td>\n",
       "    </tr>\n",
       "    <tr>\n",
       "      <th>12</th>\n",
       "      <td>1600.0</td>\n",
       "      <td>1.0</td>\n",
       "      <td>0.462875</td>\n",
       "    </tr>\n",
       "    <tr>\n",
       "      <th>13</th>\n",
       "      <td>1600.0</td>\n",
       "      <td>2.0</td>\n",
       "      <td>0.493729</td>\n",
       "    </tr>\n",
       "    <tr>\n",
       "      <th>14</th>\n",
       "      <td>1600.0</td>\n",
       "      <td>3.0</td>\n",
       "      <td>0.488393</td>\n",
       "    </tr>\n",
       "  </tbody>\n",
       "</table>\n",
       "</div>"
      ],
      "text/plain": [
       "    n_estimators  learning_rate  precision\n",
       "0           50.0            1.0   0.482079\n",
       "1           50.0            2.0   0.495093\n",
       "2           50.0            3.0   0.482061\n",
       "3          100.0            1.0   0.470070\n",
       "4          100.0            2.0   0.496629\n",
       "5          100.0            3.0   0.485714\n",
       "6          200.0            1.0   0.467949\n",
       "7          200.0            2.0   0.497647\n",
       "8          200.0            3.0   0.488393\n",
       "9          800.0            1.0   0.453968\n",
       "10         800.0            2.0   0.501285\n",
       "11         800.0            3.0   0.488393\n",
       "12        1600.0            1.0   0.462875\n",
       "13        1600.0            2.0   0.493729\n",
       "14        1600.0            3.0   0.488393"
      ]
     },
     "execution_count": 247,
     "metadata": {},
     "output_type": "execute_result"
    }
   ],
   "source": [
    "AB_hyper_parms"
   ]
  },
  {
   "cell_type": "markdown",
   "id": "354ac797",
   "metadata": {},
   "source": [
    "n_estimators = 280, learning_rate = 2   = >  0.503580"
   ]
  },
  {
   "cell_type": "code",
   "execution_count": 86,
   "id": "8f614578",
   "metadata": {},
   "outputs": [],
   "source": [
    "AB_model = AdaBoostClassifier(n_estimators = 280, learning_rate = 2, random_state=42)"
   ]
  },
  {
   "cell_type": "code",
   "execution_count": 87,
   "id": "e4cc9e47",
   "metadata": {},
   "outputs": [],
   "source": [
    "AB_predictions = backtest(features = TrainX_Scaled, targets = TrainY.iloc[:,1], model = AB_model, start = 1000, step = 100)"
   ]
  },
  {
   "cell_type": "code",
   "execution_count": 88,
   "id": "434df3c9",
   "metadata": {},
   "outputs": [
    {
     "data": {
      "text/plain": [
       "0.5035799522673031"
      ]
     },
     "execution_count": 88,
     "metadata": {},
     "output_type": "execute_result"
    }
   ],
   "source": [
    "precision_score(AB_predictions[\"Target\"], AB_predictions[\"Predictions\"])"
   ]
  },
  {
   "cell_type": "code",
   "execution_count": 89,
   "id": "75b3262e",
   "metadata": {},
   "outputs": [],
   "source": [
    "AB_test_pred = AB_model.predict_proba(TestX_Scaled)[:,1]"
   ]
  },
  {
   "cell_type": "code",
   "execution_count": 90,
   "id": "d1e9cfaa",
   "metadata": {},
   "outputs": [
    {
     "data": {
      "text/plain": [
       "array([0.50013966, 0.50013966, 0.50013966, 0.50013966, 0.50013966,\n",
       "       0.50013966, 0.50013966, 0.50013966, 0.50013966, 0.50013966,\n",
       "       0.50013966, 0.50013966, 0.50013966, 0.50013966, 0.50013966,\n",
       "       0.50013966, 0.50013966, 0.50013966, 0.50013966, 0.50013966,\n",
       "       0.50013966, 0.50013966, 0.50013966, 0.50013966, 0.50013966,\n",
       "       0.50013966, 0.50013966, 0.50013966, 0.50013966, 0.50013966,\n",
       "       0.50013966, 0.50013966, 0.50013966, 0.50013966, 0.50013966,\n",
       "       0.50013966, 0.50013966, 0.50013966, 0.50013966, 0.50013966,\n",
       "       0.50013966, 0.50013966, 0.50013966, 0.50013966, 0.50013966,\n",
       "       0.50013966, 0.50013966, 0.50013966, 0.50013966, 0.50013966,\n",
       "       0.50013966, 0.50013966, 0.50013966, 0.50013966, 0.50013966,\n",
       "       0.50013966, 0.50013966, 0.50013966, 0.50013966, 0.50013966,\n",
       "       0.50013966, 0.50013966, 0.50013966, 0.50013966, 0.50013966,\n",
       "       0.50013966, 0.50013966, 0.50013966, 0.50013966, 0.50013966,\n",
       "       0.50013966, 0.50013966, 0.50013966, 0.50013966, 0.50013966,\n",
       "       0.50013966, 0.50013966, 0.50013966, 0.50013966, 0.50013966,\n",
       "       0.50013966, 0.50013966, 0.50013966, 0.50013966, 0.50013966,\n",
       "       0.50013966, 0.50013966, 0.50013966, 0.50013966, 0.50013966,\n",
       "       0.50013966, 0.50013966, 0.50013966, 0.50013966, 0.50013966,\n",
       "       0.50013966, 0.50013966, 0.50013966, 0.50013966, 0.49930933,\n",
       "       0.50013966, 0.50013966, 0.50013966, 0.50013966, 0.50013966,\n",
       "       0.50013966, 0.50013966, 0.50013966, 0.50013966, 0.50013966,\n",
       "       0.50013966, 0.50013966, 0.50013966, 0.49930933, 0.50013966,\n",
       "       0.50013966, 0.50132582, 0.50013966, 0.50013966, 0.50013966,\n",
       "       0.50013966, 0.50013966, 0.50013966, 0.50013966, 0.50013966,\n",
       "       0.50013966, 0.50013966, 0.50013966, 0.50013966, 0.50013966,\n",
       "       0.50013966, 0.50013966, 0.50013966, 0.50013966, 0.50013966,\n",
       "       0.50013966, 0.50013966, 0.49930933, 0.49930933, 0.50013966,\n",
       "       0.50013966, 0.50013966, 0.50013966, 0.50013966, 0.50013966,\n",
       "       0.50013966, 0.50013966, 0.50013966, 0.50013966, 0.50013966,\n",
       "       0.50013966, 0.50013966, 0.49930933, 0.50013966, 0.50013966,\n",
       "       0.50013966, 0.50013966, 0.50013966, 0.50013966, 0.50013966,\n",
       "       0.50013966, 0.50013966, 0.50013966, 0.50013966, 0.50013966,\n",
       "       0.50013966, 0.50013966, 0.50013966, 0.50013966, 0.50013966,\n",
       "       0.50013966, 0.50013966, 0.50013966, 0.50013966, 0.50013966,\n",
       "       0.49930933, 0.50013966, 0.50013966, 0.50013966, 0.50013966,\n",
       "       0.50013966, 0.50013966, 0.50013966, 0.50013966, 0.50013966,\n",
       "       0.50013966, 0.50013966, 0.49930933, 0.50013966, 0.50013966,\n",
       "       0.50013966, 0.50013966, 0.50013966, 0.50013966, 0.50013966,\n",
       "       0.50013966, 0.50013966, 0.50013966, 0.50013966, 0.50013966,\n",
       "       0.50013966, 0.50013966, 0.49930933, 0.50013966, 0.50013966,\n",
       "       0.50013966, 0.50013966, 0.50013966, 0.50013966, 0.50013966,\n",
       "       0.50013966, 0.50013966, 0.50013966, 0.50013966, 0.50013966,\n",
       "       0.50013966, 0.50013966, 0.50013966, 0.50013966, 0.50013966,\n",
       "       0.50013966, 0.50013966, 0.50013966, 0.50013966, 0.50013966,\n",
       "       0.50013966, 0.50013966, 0.50013966, 0.50013966, 0.50013966,\n",
       "       0.50013966, 0.50013966, 0.50013966, 0.50013966, 0.50013966,\n",
       "       0.50013966, 0.50013966, 0.50013966, 0.50013966, 0.50013966,\n",
       "       0.50013966, 0.50013966, 0.50013966, 0.50013966, 0.50013966,\n",
       "       0.50013966, 0.50013966, 0.50013966, 0.50013966, 0.50013966,\n",
       "       0.50013966, 0.50013966, 0.50013966, 0.50013966, 0.50013966,\n",
       "       0.50013966, 0.50013966, 0.50013966, 0.50013966, 0.50013966,\n",
       "       0.50013966, 0.50013966, 0.50013966, 0.50013966, 0.50013966,\n",
       "       0.50013966, 0.50013966, 0.50013966, 0.50013966, 0.50013966,\n",
       "       0.50013966, 0.50013966, 0.50013966, 0.50013966, 0.50013966,\n",
       "       0.50013966, 0.50013966, 0.50013966, 0.50013966, 0.50013966,\n",
       "       0.50013966, 0.50013966, 0.50013966, 0.50013966, 0.50013966,\n",
       "       0.50013966, 0.50013966, 0.50013966, 0.50013966, 0.50013966,\n",
       "       0.50013966, 0.50013966, 0.50013966, 0.50013966, 0.50013966,\n",
       "       0.50013966, 0.50013966, 0.50013966, 0.50013966, 0.50013966,\n",
       "       0.50013966, 0.50013966, 0.50013966, 0.50013966, 0.50013966,\n",
       "       0.50013966, 0.50013966, 0.50013966, 0.50013966, 0.50013966,\n",
       "       0.50013966, 0.50013966, 0.50013966, 0.49930933, 0.50013966,\n",
       "       0.50013966, 0.50013966, 0.50013966, 0.50013966, 0.50013966,\n",
       "       0.50013966, 0.50013966, 0.50013966, 0.50013966, 0.50013966,\n",
       "       0.50013966, 0.50013966, 0.50013966, 0.50013966, 0.50013966,\n",
       "       0.50013966, 0.50013966, 0.50013966, 0.50013966, 0.50013966,\n",
       "       0.50013966, 0.50013966, 0.50013966, 0.50013966, 0.50013966,\n",
       "       0.50013966, 0.50013966, 0.50013966, 0.50013966, 0.50013966,\n",
       "       0.50013966, 0.50013966, 0.50013966, 0.50013966, 0.50013966,\n",
       "       0.50013966, 0.50013966, 0.50013966, 0.50013966, 0.50013966,\n",
       "       0.50013966, 0.50013966, 0.50013966, 0.50013966, 0.50013966,\n",
       "       0.50013966, 0.50013966, 0.50013966, 0.50013966, 0.50013966,\n",
       "       0.50013966, 0.50013966, 0.50013966, 0.50013966, 0.50013966,\n",
       "       0.50013966, 0.50013966, 0.50013966, 0.50013966, 0.50013966,\n",
       "       0.50013966, 0.50013966, 0.50013966, 0.50013966, 0.50013966,\n",
       "       0.50013966, 0.50013966, 0.50013966, 0.50013966, 0.50013966,\n",
       "       0.50013966, 0.50013966, 0.50013966, 0.50013966, 0.50013966,\n",
       "       0.50013966, 0.50013966, 0.50013966, 0.50013966, 0.50013966,\n",
       "       0.50013966, 0.50013966, 0.50013966, 0.50013966, 0.50013966,\n",
       "       0.50013966, 0.50013966, 0.50013966, 0.50013966, 0.50013966,\n",
       "       0.50013966, 0.50013966, 0.50013966, 0.50013966, 0.50013966,\n",
       "       0.50013966, 0.50013966, 0.50013966, 0.50013966, 0.50013966,\n",
       "       0.50013966, 0.50013966, 0.50013966, 0.50013966, 0.50013966,\n",
       "       0.50013966, 0.50013966, 0.50013966, 0.50013966, 0.50013966,\n",
       "       0.50013966, 0.50013966, 0.50013966, 0.50013966, 0.50013966,\n",
       "       0.50013966, 0.50013966, 0.50013966, 0.50013966, 0.50013966,\n",
       "       0.50013966, 0.50013966, 0.50013966, 0.50013966, 0.50013966,\n",
       "       0.50013966, 0.50013966, 0.50013966, 0.50013966, 0.50013966,\n",
       "       0.50013966, 0.50013966, 0.49930933, 0.50013966, 0.50013966,\n",
       "       0.50013966, 0.50013966, 0.50013966, 0.50013966, 0.50013966,\n",
       "       0.50013966, 0.50013966, 0.50013966, 0.50013966, 0.50013966,\n",
       "       0.50013966, 0.50013966, 0.50013966, 0.50013966, 0.50013966,\n",
       "       0.50013966, 0.50013966, 0.50013966, 0.50013966, 0.50013966,\n",
       "       0.50013966, 0.50013966, 0.50013966, 0.50013966, 0.50013966,\n",
       "       0.50013966, 0.50013966, 0.50013966, 0.50013966, 0.50013966,\n",
       "       0.50013966, 0.50013966, 0.50013966, 0.50013966, 0.50013966,\n",
       "       0.50013966, 0.50013966, 0.50013966, 0.50013966, 0.50013966,\n",
       "       0.50013966, 0.50013966, 0.50013966, 0.50013966, 0.50013966,\n",
       "       0.50013966, 0.50013966, 0.50013966, 0.50013966, 0.50013966,\n",
       "       0.50013966, 0.50013966, 0.50013966, 0.50013966, 0.50013966,\n",
       "       0.50013966, 0.50013966, 0.50013966, 0.50013966, 0.50013966,\n",
       "       0.50013966, 0.50013966, 0.50013966, 0.50013966, 0.50013966,\n",
       "       0.50013966, 0.50013966, 0.50013966, 0.50013966, 0.50013966,\n",
       "       0.50013966, 0.50013966, 0.50013966, 0.50013966, 0.50013966,\n",
       "       0.50013966, 0.50013966, 0.50013966, 0.50013966, 0.50013966,\n",
       "       0.50013966, 0.50013966, 0.50013966, 0.50013966, 0.50013966,\n",
       "       0.50013966, 0.50013966, 0.50013966, 0.50013966, 0.50013966,\n",
       "       0.50013966, 0.50013966, 0.50013966, 0.50013966, 0.50013966,\n",
       "       0.50013966, 0.50013966, 0.50013966, 0.50013966, 0.50013966,\n",
       "       0.50013966, 0.50013966, 0.50013966, 0.50013966, 0.50013966,\n",
       "       0.50013966, 0.50013966, 0.50013966, 0.50013966, 0.50013966,\n",
       "       0.50013966, 0.50013966, 0.50013966, 0.50013966, 0.50013966,\n",
       "       0.50013966, 0.50013966, 0.50013966, 0.50013966, 0.50013966,\n",
       "       0.50013966, 0.50013966, 0.50013966, 0.50013966, 0.50013966,\n",
       "       0.50013966, 0.50013966, 0.50013966, 0.50013966, 0.50013966,\n",
       "       0.50013966, 0.50013966, 0.50013966, 0.50013966, 0.50013966,\n",
       "       0.50013966])"
      ]
     },
     "execution_count": 90,
     "metadata": {},
     "output_type": "execute_result"
    }
   ],
   "source": [
    "AB_test_pred"
   ]
  },
  {
   "cell_type": "code",
   "execution_count": 91,
   "id": "1d756e2f",
   "metadata": {},
   "outputs": [],
   "source": [
    "AB_preds = pd.Series(AB_test_pred, index = TestY.index)"
   ]
  },
  {
   "cell_type": "code",
   "execution_count": 92,
   "id": "91c07f33",
   "metadata": {},
   "outputs": [
    {
     "data": {
      "text/plain": [
       "date\n",
       "2022-02-02 10:00:00    0.50014\n",
       "2022-02-02 11:00:00    0.50014\n",
       "2022-02-02 12:00:00    0.50014\n",
       "2022-02-02 13:00:00    0.50014\n",
       "2022-02-02 14:00:00    0.50014\n",
       "                        ...   \n",
       "2022-06-07 11:00:00    0.50014\n",
       "2022-06-07 12:00:00    0.50014\n",
       "2022-06-07 13:00:00    0.50014\n",
       "2022-06-07 14:00:00    0.50014\n",
       "2022-06-07 15:00:00    0.50014\n",
       "Length: 586, dtype: float64"
      ]
     },
     "execution_count": 92,
     "metadata": {},
     "output_type": "execute_result"
    }
   ],
   "source": [
    "AB_preds"
   ]
  },
  {
   "cell_type": "code",
   "execution_count": 93,
   "id": "01f461d8",
   "metadata": {},
   "outputs": [],
   "source": [
    "AB_combined = pd.concat({\"Target\": TestY[\"target_class\"], \"TargetValue\":TestY[\"target_value\"], \"Predictions\": AB_preds}, axis=1)"
   ]
  },
  {
   "cell_type": "code",
   "execution_count": 94,
   "id": "efe11e14",
   "metadata": {},
   "outputs": [
    {
     "data": {
      "text/html": [
       "<div>\n",
       "<style scoped>\n",
       "    .dataframe tbody tr th:only-of-type {\n",
       "        vertical-align: middle;\n",
       "    }\n",
       "\n",
       "    .dataframe tbody tr th {\n",
       "        vertical-align: top;\n",
       "    }\n",
       "\n",
       "    .dataframe thead th {\n",
       "        text-align: right;\n",
       "    }\n",
       "</style>\n",
       "<table border=\"1\" class=\"dataframe\">\n",
       "  <thead>\n",
       "    <tr style=\"text-align: right;\">\n",
       "      <th></th>\n",
       "      <th>Target</th>\n",
       "      <th>TargetValue</th>\n",
       "      <th>Predictions</th>\n",
       "    </tr>\n",
       "    <tr>\n",
       "      <th>date</th>\n",
       "      <th></th>\n",
       "      <th></th>\n",
       "      <th></th>\n",
       "    </tr>\n",
       "  </thead>\n",
       "  <tbody>\n",
       "    <tr>\n",
       "      <th>2022-02-02 10:00:00</th>\n",
       "      <td>0.0</td>\n",
       "      <td>-0.010046</td>\n",
       "      <td>0.50014</td>\n",
       "    </tr>\n",
       "    <tr>\n",
       "      <th>2022-02-02 11:00:00</th>\n",
       "      <td>1.0</td>\n",
       "      <td>0.006150</td>\n",
       "      <td>0.50014</td>\n",
       "    </tr>\n",
       "    <tr>\n",
       "      <th>2022-02-02 12:00:00</th>\n",
       "      <td>0.0</td>\n",
       "      <td>-0.005196</td>\n",
       "      <td>0.50014</td>\n",
       "    </tr>\n",
       "    <tr>\n",
       "      <th>2022-02-02 13:00:00</th>\n",
       "      <td>0.0</td>\n",
       "      <td>-0.001536</td>\n",
       "      <td>0.50014</td>\n",
       "    </tr>\n",
       "    <tr>\n",
       "      <th>2022-02-02 14:00:00</th>\n",
       "      <td>0.0</td>\n",
       "      <td>-0.000615</td>\n",
       "      <td>0.50014</td>\n",
       "    </tr>\n",
       "    <tr>\n",
       "      <th>...</th>\n",
       "      <td>...</td>\n",
       "      <td>...</td>\n",
       "      <td>...</td>\n",
       "    </tr>\n",
       "    <tr>\n",
       "      <th>2022-06-07 11:00:00</th>\n",
       "      <td>0.0</td>\n",
       "      <td>-0.002259</td>\n",
       "      <td>0.50014</td>\n",
       "    </tr>\n",
       "    <tr>\n",
       "      <th>2022-06-07 12:00:00</th>\n",
       "      <td>1.0</td>\n",
       "      <td>0.000970</td>\n",
       "      <td>0.50014</td>\n",
       "    </tr>\n",
       "    <tr>\n",
       "      <th>2022-06-07 13:00:00</th>\n",
       "      <td>0.0</td>\n",
       "      <td>-0.005816</td>\n",
       "      <td>0.50014</td>\n",
       "    </tr>\n",
       "    <tr>\n",
       "      <th>2022-06-07 14:00:00</th>\n",
       "      <td>1.0</td>\n",
       "      <td>0.002275</td>\n",
       "      <td>0.50014</td>\n",
       "    </tr>\n",
       "    <tr>\n",
       "      <th>2022-06-07 15:00:00</th>\n",
       "      <td>0.0</td>\n",
       "      <td>-0.004864</td>\n",
       "      <td>0.50014</td>\n",
       "    </tr>\n",
       "  </tbody>\n",
       "</table>\n",
       "<p>586 rows × 3 columns</p>\n",
       "</div>"
      ],
      "text/plain": [
       "                     Target  TargetValue  Predictions\n",
       "date                                                 \n",
       "2022-02-02 10:00:00     0.0    -0.010046      0.50014\n",
       "2022-02-02 11:00:00     1.0     0.006150      0.50014\n",
       "2022-02-02 12:00:00     0.0    -0.005196      0.50014\n",
       "2022-02-02 13:00:00     0.0    -0.001536      0.50014\n",
       "2022-02-02 14:00:00     0.0    -0.000615      0.50014\n",
       "...                     ...          ...          ...\n",
       "2022-06-07 11:00:00     0.0    -0.002259      0.50014\n",
       "2022-06-07 12:00:00     1.0     0.000970      0.50014\n",
       "2022-06-07 13:00:00     0.0    -0.005816      0.50014\n",
       "2022-06-07 14:00:00     1.0     0.002275      0.50014\n",
       "2022-06-07 15:00:00     0.0    -0.004864      0.50014\n",
       "\n",
       "[586 rows x 3 columns]"
      ]
     },
     "execution_count": 94,
     "metadata": {},
     "output_type": "execute_result"
    }
   ],
   "source": [
    "AB_combined"
   ]
  },
  {
   "cell_type": "code",
   "execution_count": 95,
   "id": "5ee3d9fe",
   "metadata": {},
   "outputs": [],
   "source": [
    "AB_combined[\"Predictions\"].loc[AB_combined[\"Predictions\"]>0.5] = 1\n",
    "AB_combined[\"Predictions\"].loc[AB_combined[\"Predictions\"]<=0.5] = 0"
   ]
  },
  {
   "cell_type": "code",
   "execution_count": 96,
   "id": "816945c7",
   "metadata": {},
   "outputs": [
    {
     "data": {
      "text/html": [
       "<div>\n",
       "<style scoped>\n",
       "    .dataframe tbody tr th:only-of-type {\n",
       "        vertical-align: middle;\n",
       "    }\n",
       "\n",
       "    .dataframe tbody tr th {\n",
       "        vertical-align: top;\n",
       "    }\n",
       "\n",
       "    .dataframe thead th {\n",
       "        text-align: right;\n",
       "    }\n",
       "</style>\n",
       "<table border=\"1\" class=\"dataframe\">\n",
       "  <thead>\n",
       "    <tr style=\"text-align: right;\">\n",
       "      <th></th>\n",
       "      <th>Target</th>\n",
       "      <th>TargetValue</th>\n",
       "      <th>Predictions</th>\n",
       "    </tr>\n",
       "    <tr>\n",
       "      <th>date</th>\n",
       "      <th></th>\n",
       "      <th></th>\n",
       "      <th></th>\n",
       "    </tr>\n",
       "  </thead>\n",
       "  <tbody>\n",
       "    <tr>\n",
       "      <th>2022-02-02 10:00:00</th>\n",
       "      <td>0.0</td>\n",
       "      <td>-0.010046</td>\n",
       "      <td>1.0</td>\n",
       "    </tr>\n",
       "    <tr>\n",
       "      <th>2022-02-02 11:00:00</th>\n",
       "      <td>1.0</td>\n",
       "      <td>0.006150</td>\n",
       "      <td>1.0</td>\n",
       "    </tr>\n",
       "    <tr>\n",
       "      <th>2022-02-02 12:00:00</th>\n",
       "      <td>0.0</td>\n",
       "      <td>-0.005196</td>\n",
       "      <td>1.0</td>\n",
       "    </tr>\n",
       "    <tr>\n",
       "      <th>2022-02-02 13:00:00</th>\n",
       "      <td>0.0</td>\n",
       "      <td>-0.001536</td>\n",
       "      <td>1.0</td>\n",
       "    </tr>\n",
       "    <tr>\n",
       "      <th>2022-02-02 14:00:00</th>\n",
       "      <td>0.0</td>\n",
       "      <td>-0.000615</td>\n",
       "      <td>1.0</td>\n",
       "    </tr>\n",
       "    <tr>\n",
       "      <th>...</th>\n",
       "      <td>...</td>\n",
       "      <td>...</td>\n",
       "      <td>...</td>\n",
       "    </tr>\n",
       "    <tr>\n",
       "      <th>2022-06-07 11:00:00</th>\n",
       "      <td>0.0</td>\n",
       "      <td>-0.002259</td>\n",
       "      <td>1.0</td>\n",
       "    </tr>\n",
       "    <tr>\n",
       "      <th>2022-06-07 12:00:00</th>\n",
       "      <td>1.0</td>\n",
       "      <td>0.000970</td>\n",
       "      <td>1.0</td>\n",
       "    </tr>\n",
       "    <tr>\n",
       "      <th>2022-06-07 13:00:00</th>\n",
       "      <td>0.0</td>\n",
       "      <td>-0.005816</td>\n",
       "      <td>1.0</td>\n",
       "    </tr>\n",
       "    <tr>\n",
       "      <th>2022-06-07 14:00:00</th>\n",
       "      <td>1.0</td>\n",
       "      <td>0.002275</td>\n",
       "      <td>1.0</td>\n",
       "    </tr>\n",
       "    <tr>\n",
       "      <th>2022-06-07 15:00:00</th>\n",
       "      <td>0.0</td>\n",
       "      <td>-0.004864</td>\n",
       "      <td>1.0</td>\n",
       "    </tr>\n",
       "  </tbody>\n",
       "</table>\n",
       "<p>586 rows × 3 columns</p>\n",
       "</div>"
      ],
      "text/plain": [
       "                     Target  TargetValue  Predictions\n",
       "date                                                 \n",
       "2022-02-02 10:00:00     0.0    -0.010046          1.0\n",
       "2022-02-02 11:00:00     1.0     0.006150          1.0\n",
       "2022-02-02 12:00:00     0.0    -0.005196          1.0\n",
       "2022-02-02 13:00:00     0.0    -0.001536          1.0\n",
       "2022-02-02 14:00:00     0.0    -0.000615          1.0\n",
       "...                     ...          ...          ...\n",
       "2022-06-07 11:00:00     0.0    -0.002259          1.0\n",
       "2022-06-07 12:00:00     1.0     0.000970          1.0\n",
       "2022-06-07 13:00:00     0.0    -0.005816          1.0\n",
       "2022-06-07 14:00:00     1.0     0.002275          1.0\n",
       "2022-06-07 15:00:00     0.0    -0.004864          1.0\n",
       "\n",
       "[586 rows x 3 columns]"
      ]
     },
     "execution_count": 96,
     "metadata": {},
     "output_type": "execute_result"
    }
   ],
   "source": [
    "AB_combined"
   ]
  },
  {
   "cell_type": "code",
   "execution_count": 97,
   "id": "5d2940e2",
   "metadata": {},
   "outputs": [
    {
     "data": {
      "text/plain": [
       "0.5069444444444444"
      ]
     },
     "execution_count": 97,
     "metadata": {},
     "output_type": "execute_result"
    }
   ],
   "source": [
    "precision_score(AB_combined[\"Target\"], AB_combined[\"Predictions\"])"
   ]
  },
  {
   "cell_type": "code",
   "execution_count": 100,
   "id": "7fd224fc",
   "metadata": {},
   "outputs": [],
   "source": [
    "AB_pred_1 = AB_combined.loc[AB_combined[\"Predictions\"]==1]"
   ]
  },
  {
   "cell_type": "code",
   "execution_count": 102,
   "id": "f1564acf",
   "metadata": {},
   "outputs": [
    {
     "data": {
      "text/plain": [
       "0.017261350598757212"
      ]
     },
     "execution_count": 102,
     "metadata": {},
     "output_type": "execute_result"
    }
   ],
   "source": [
    "AB_pred_1[\"TargetValue\"].sum()"
   ]
  },
  {
   "cell_type": "code",
   "execution_count": 110,
   "id": "77cf40e8",
   "metadata": {},
   "outputs": [
    {
     "name": "stdout",
     "output_type": "stream",
     "text": [
      "0.9545562399750894\n"
     ]
    }
   ],
   "source": [
    "gp = 1\n",
    "for i in AB_pred_1[\"TargetValue\"]:\n",
    "    gp = gp*(1+i)\n",
    "print(gp)"
   ]
  },
  {
   "cell_type": "code",
   "execution_count": 111,
   "id": "f24cb85d",
   "metadata": {},
   "outputs": [],
   "source": [
    "AB_extremes = AB_combined.loc[abs(AB_combined[\"TargetValue\"])>0.025]"
   ]
  },
  {
   "cell_type": "code",
   "execution_count": 112,
   "id": "0266629d",
   "metadata": {},
   "outputs": [
    {
     "data": {
      "text/html": [
       "<div>\n",
       "<style scoped>\n",
       "    .dataframe tbody tr th:only-of-type {\n",
       "        vertical-align: middle;\n",
       "    }\n",
       "\n",
       "    .dataframe tbody tr th {\n",
       "        vertical-align: top;\n",
       "    }\n",
       "\n",
       "    .dataframe thead th {\n",
       "        text-align: right;\n",
       "    }\n",
       "</style>\n",
       "<table border=\"1\" class=\"dataframe\">\n",
       "  <thead>\n",
       "    <tr style=\"text-align: right;\">\n",
       "      <th></th>\n",
       "      <th>Target</th>\n",
       "      <th>TargetValue</th>\n",
       "      <th>Predictions</th>\n",
       "    </tr>\n",
       "    <tr>\n",
       "      <th>date</th>\n",
       "      <th></th>\n",
       "      <th></th>\n",
       "      <th></th>\n",
       "    </tr>\n",
       "  </thead>\n",
       "  <tbody>\n",
       "    <tr>\n",
       "      <th>2022-02-07 15:00:00</th>\n",
       "      <td>0.0</td>\n",
       "      <td>-0.026251</td>\n",
       "      <td>1.0</td>\n",
       "    </tr>\n",
       "    <tr>\n",
       "      <th>2022-02-15 15:00:00</th>\n",
       "      <td>1.0</td>\n",
       "      <td>0.025862</td>\n",
       "      <td>1.0</td>\n",
       "    </tr>\n",
       "    <tr>\n",
       "      <th>2022-02-25 16:00:00</th>\n",
       "      <td>1.0</td>\n",
       "      <td>0.031741</td>\n",
       "      <td>1.0</td>\n",
       "    </tr>\n",
       "    <tr>\n",
       "      <th>2022-03-08 13:00:00</th>\n",
       "      <td>0.0</td>\n",
       "      <td>-0.026082</td>\n",
       "      <td>1.0</td>\n",
       "    </tr>\n",
       "    <tr>\n",
       "      <th>2022-03-09 16:00:00</th>\n",
       "      <td>1.0</td>\n",
       "      <td>0.042653</td>\n",
       "      <td>1.0</td>\n",
       "    </tr>\n",
       "    <tr>\n",
       "      <th>2022-03-11 16:00:00</th>\n",
       "      <td>0.0</td>\n",
       "      <td>-0.037440</td>\n",
       "      <td>1.0</td>\n",
       "    </tr>\n",
       "    <tr>\n",
       "      <th>2022-03-14 16:00:00</th>\n",
       "      <td>0.0</td>\n",
       "      <td>-0.037653</td>\n",
       "      <td>1.0</td>\n",
       "    </tr>\n",
       "    <tr>\n",
       "      <th>2022-03-16 16:00:00</th>\n",
       "      <td>0.0</td>\n",
       "      <td>-0.025974</td>\n",
       "      <td>0.0</td>\n",
       "    </tr>\n",
       "    <tr>\n",
       "      <th>2022-03-28 16:00:00</th>\n",
       "      <td>1.0</td>\n",
       "      <td>0.025437</td>\n",
       "      <td>1.0</td>\n",
       "    </tr>\n",
       "    <tr>\n",
       "      <th>2022-04-06 16:00:00</th>\n",
       "      <td>1.0</td>\n",
       "      <td>0.026617</td>\n",
       "      <td>1.0</td>\n",
       "    </tr>\n",
       "    <tr>\n",
       "      <th>2022-04-13 16:00:00</th>\n",
       "      <td>0.0</td>\n",
       "      <td>-0.088940</td>\n",
       "      <td>1.0</td>\n",
       "    </tr>\n",
       "    <tr>\n",
       "      <th>2022-04-14 15:00:00</th>\n",
       "      <td>1.0</td>\n",
       "      <td>0.097809</td>\n",
       "      <td>1.0</td>\n",
       "    </tr>\n",
       "    <tr>\n",
       "      <th>2022-04-14 16:00:00</th>\n",
       "      <td>0.0</td>\n",
       "      <td>-0.112525</td>\n",
       "      <td>1.0</td>\n",
       "    </tr>\n",
       "    <tr>\n",
       "      <th>2022-04-18 16:00:00</th>\n",
       "      <td>1.0</td>\n",
       "      <td>0.029642</td>\n",
       "      <td>1.0</td>\n",
       "    </tr>\n",
       "    <tr>\n",
       "      <th>2022-04-22 16:00:00</th>\n",
       "      <td>0.0</td>\n",
       "      <td>-0.025271</td>\n",
       "      <td>1.0</td>\n",
       "    </tr>\n",
       "    <tr>\n",
       "      <th>2022-04-28 16:00:00</th>\n",
       "      <td>1.0</td>\n",
       "      <td>0.038880</td>\n",
       "      <td>1.0</td>\n",
       "    </tr>\n",
       "    <tr>\n",
       "      <th>2022-05-06 10:00:00</th>\n",
       "      <td>1.0</td>\n",
       "      <td>0.026808</td>\n",
       "      <td>1.0</td>\n",
       "    </tr>\n",
       "    <tr>\n",
       "      <th>2022-05-10 16:00:00</th>\n",
       "      <td>1.0</td>\n",
       "      <td>0.035527</td>\n",
       "      <td>1.0</td>\n",
       "    </tr>\n",
       "    <tr>\n",
       "      <th>2022-05-23 16:00:00</th>\n",
       "      <td>0.0</td>\n",
       "      <td>-0.130795</td>\n",
       "      <td>1.0</td>\n",
       "    </tr>\n",
       "    <tr>\n",
       "      <th>2022-05-24 15:00:00</th>\n",
       "      <td>1.0</td>\n",
       "      <td>0.160256</td>\n",
       "      <td>1.0</td>\n",
       "    </tr>\n",
       "    <tr>\n",
       "      <th>2022-05-24 16:00:00</th>\n",
       "      <td>0.0</td>\n",
       "      <td>-0.112155</td>\n",
       "      <td>1.0</td>\n",
       "    </tr>\n",
       "    <tr>\n",
       "      <th>2022-05-26 16:00:00</th>\n",
       "      <td>0.0</td>\n",
       "      <td>-0.029256</td>\n",
       "      <td>1.0</td>\n",
       "    </tr>\n",
       "    <tr>\n",
       "      <th>2022-05-27 16:00:00</th>\n",
       "      <td>0.0</td>\n",
       "      <td>-0.026410</td>\n",
       "      <td>1.0</td>\n",
       "    </tr>\n",
       "    <tr>\n",
       "      <th>2022-06-06 16:00:00</th>\n",
       "      <td>1.0</td>\n",
       "      <td>0.027107</td>\n",
       "      <td>1.0</td>\n",
       "    </tr>\n",
       "  </tbody>\n",
       "</table>\n",
       "</div>"
      ],
      "text/plain": [
       "                     Target  TargetValue  Predictions\n",
       "date                                                 \n",
       "2022-02-07 15:00:00     0.0    -0.026251          1.0\n",
       "2022-02-15 15:00:00     1.0     0.025862          1.0\n",
       "2022-02-25 16:00:00     1.0     0.031741          1.0\n",
       "2022-03-08 13:00:00     0.0    -0.026082          1.0\n",
       "2022-03-09 16:00:00     1.0     0.042653          1.0\n",
       "2022-03-11 16:00:00     0.0    -0.037440          1.0\n",
       "2022-03-14 16:00:00     0.0    -0.037653          1.0\n",
       "2022-03-16 16:00:00     0.0    -0.025974          0.0\n",
       "2022-03-28 16:00:00     1.0     0.025437          1.0\n",
       "2022-04-06 16:00:00     1.0     0.026617          1.0\n",
       "2022-04-13 16:00:00     0.0    -0.088940          1.0\n",
       "2022-04-14 15:00:00     1.0     0.097809          1.0\n",
       "2022-04-14 16:00:00     0.0    -0.112525          1.0\n",
       "2022-04-18 16:00:00     1.0     0.029642          1.0\n",
       "2022-04-22 16:00:00     0.0    -0.025271          1.0\n",
       "2022-04-28 16:00:00     1.0     0.038880          1.0\n",
       "2022-05-06 10:00:00     1.0     0.026808          1.0\n",
       "2022-05-10 16:00:00     1.0     0.035527          1.0\n",
       "2022-05-23 16:00:00     0.0    -0.130795          1.0\n",
       "2022-05-24 15:00:00     1.0     0.160256          1.0\n",
       "2022-05-24 16:00:00     0.0    -0.112155          1.0\n",
       "2022-05-26 16:00:00     0.0    -0.029256          1.0\n",
       "2022-05-27 16:00:00     0.0    -0.026410          1.0\n",
       "2022-06-06 16:00:00     1.0     0.027107          1.0"
      ]
     },
     "execution_count": 112,
     "metadata": {},
     "output_type": "execute_result"
    }
   ],
   "source": [
    "AB_extremes"
   ]
  },
  {
   "cell_type": "code",
   "execution_count": 109,
   "id": "fe3324e1",
   "metadata": {},
   "outputs": [
    {
     "data": {
      "text/plain": [
       "0.5217391304347826"
      ]
     },
     "execution_count": 109,
     "metadata": {},
     "output_type": "execute_result"
    }
   ],
   "source": [
    "precision_score(AB_extremes[\"Target\"], AB_extremes[\"Predictions\"])"
   ]
  }
 ],
 "metadata": {
  "kernelspec": {
   "display_name": "Python 3",
   "language": "python",
   "name": "python3"
  },
  "language_info": {
   "codemirror_mode": {
    "name": "ipython",
    "version": 3
   },
   "file_extension": ".py",
   "mimetype": "text/x-python",
   "name": "python",
   "nbconvert_exporter": "python",
   "pygments_lexer": "ipython3",
   "version": "3.8.8"
  }
 },
 "nbformat": 4,
 "nbformat_minor": 5
}
